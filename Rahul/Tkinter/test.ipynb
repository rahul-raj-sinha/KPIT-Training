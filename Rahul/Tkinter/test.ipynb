{
 "cells": [
  {
   "cell_type": "code",
   "execution_count": 1,
   "metadata": {},
   "outputs": [],
   "source": [
    "import numpy as np"
   ]
  },
  {
   "cell_type": "code",
   "execution_count": 2,
   "metadata": {},
   "outputs": [
    {
     "name": "stdout",
     "output_type": "stream",
     "text": [
      "[[[0. 0. 0. 0.]\n",
      "  [0. 0. 0. 0.]\n",
      "  [0. 0. 0. 0.]]\n",
      "\n",
      " [[0. 0. 0. 0.]\n",
      "  [0. 0. 0. 0.]\n",
      "  [0. 0. 0. 0.]]]\n"
     ]
    }
   ],
   "source": [
    "arr = np.zeros((2,3,4))\n",
    "print(arr)"
   ]
  },
  {
   "cell_type": "code",
   "execution_count": null,
   "metadata": {},
   "outputs": [],
   "source": [
    "from tkinter import *\n",
    "from PIL import ImageTk, Image\n",
    "import tkinter as tk\n",
    "\n",
    "root = tk.Tk()\n",
    "root.title(\"KPIT\")\n",
    "root.geometry(\"600x500\")\n",
    "root.mainloop()\n",
    "\n",
    "\n",
    "root = tk.Tk()\n",
    "root.geometry(\"600x600\")\n",
    "img = ImageTk.PhotoImage(Image.open(\"Decrypt.png\"))\n",
    "panel = tk.Label(root, image=img)\n",
    "panel.place(x=100, y=100)\n",
    "root.mainloop()\n"
   ]
  },
  {
   "cell_type": "code",
   "execution_count": null,
   "metadata": {},
   "outputs": [],
   "source": [
    "import tkinter as tk\n",
    "from tkinter import *\n",
    "from tkinter import messagebox\n",
    "win = tk.Tk()\n",
    "win.title(\"KPIT\")\n",
    "win.geometry(\"600x500+10+20\")\n",
    "\n",
    "def click(arg):\n",
    "    messagebox.showinfo(\"KPIT\", \"lulululululu................\")\n",
    "\n",
    "def func(arg):\n",
    "    messagebox.showinfo(\"KPIT\", arg)\n",
    "\n",
    "btn1 = Button(win, text=\"Yellow\", command=\"click\", font=(\"Arial\", 26), activebackground=\"yellow\",\n",
    "              activeforeground=\"orange\", pady=10)\n",
    "btn2 = Button(win, text=\"green\", command=lambda: func(\"Hello World\"), font=(\"Arial\", 26), activebackground=\"green\",\n",
    "              activeforeground=\"pink\", pady=10)\n",
    "btn3 = Button(win, text=\"blue\",command=\"click\", font=(\"Arial\", 26), activebackground=\"purple\", activeforeground=\"red\", pady=10)\n",
    "btn4 = Button(win, text=\"red\",command=\"click\", font=(\"Arial\", 26), activebackground=\"red\", activeforeground=\"maroon\", pady=10)\n",
    "\n",
    "btn4.pack(side=BOTTOM)\n",
    "btn1.pack(side=LEFT)\n",
    "btn2.pack(side=RIGHT)\n",
    "btn3.pack(side=TOP)\n",
    "win.mainloop()"
   ]
  },
  {
   "cell_type": "code",
   "execution_count": null,
   "metadata": {},
   "outputs": [],
   "source": [
    "import tkinter as tk\n",
    "from tkinter import *\n",
    "import pygame\n",
    "win = tk.Tk()\n",
    "win.title(\"KPIT\")\n",
    "win.geometry(\"600x500\")\n",
    "\n",
    "pygame.mixer.init()\n",
    "\n",
    "\n",
    "def play():\n",
    "    pygame.mixer.music.load(\"file_example_WAV_1MG.wav\")\n",
    "    pygame.mixer.music.play(loops=0)\n",
    "\n",
    "\n",
    "lbl = Label(win, text=\"Music Player\", bd=9, relief=GROOVE,\n",
    "            font=(\"Comic Sans\", 18), bg=\"white\", fg=\"black\")\n",
    "lbl.pack(side=TOP)\n",
    "\n",
    "btn = Button(win, text=\"Play\", font=(\"Hellvetica\", 32), command=play)\n",
    "btn.pack(pady=20)\n",
    "win.mainloop()"
   ]
  },
  {
   "cell_type": "code",
   "execution_count": null,
   "metadata": {},
   "outputs": [],
   "source": [
    "import tkinter as tk\n",
    "from tkinter import *\n",
    "from tkinter import messagebox\n",
    "root = tk.Tk()\n",
    "root.title(\"KPIT\")\n",
    "root.geometry('600x500+10+20')\n",
    "txt1 = Entry(root, font=(\"Ariel\", 14))\n",
    "txt1.place(x=50, y=75)\n",
    "txt2 = Entry(root, font=(\"Ariel\", 14))\n",
    "txt2.place(x=50, y=250)\n",
    "txt3 = Entry(root, font=(\"Ariel\", 14))\n",
    "txt3.place(x=50, y=350)\n",
    "\n",
    "def sum():\n",
    "    var1 = int(txt1.get())\n",
    "    var2 = int(txt2.get())\n",
    "    var3 = var1 + var2\n",
    "    txt3.delete(0, 10)\n",
    "    txt3.insert(INSERT, str(var3))\n",
    "\n",
    "btn = Button(root, text=\"Add\", command=sum)\n",
    "btn.place(x=150, y=200)\n",
    "menu_bar = tk.Menu(root)\n",
    "# create a file menu\n",
    "file_menu = tk.Menu(menu_bar, tearoff=1)\n",
    "menu_bar.add_cascade(label=\"FILE\", menu=file_menu)\n",
    "# add new menu items2\n",
    "file_menu.add_command(label=\"New\")\n",
    "file_menu.add_command(label=\"Open\")\n",
    "file_menu.add_command(label=\"Save\")\n",
    "file_menu.add_separator()\n",
    "file_menu.add_command(label=\"Exit\", command=root.quit)\n",
    "root.config(menu=menu_bar)\n",
    "root.mainloop()"
   ]
  },
  {
   "cell_type": "code",
   "execution_count": null,
   "metadata": {},
   "outputs": [],
   "source": [
    "import tkinter as tk\n",
    "from tkinter import *\n",
    "from tkinter import messagebox\n",
    "root = tk.Tk()\n",
    "root.title(\"KPIT\")\n",
    "root.geometry('600x500+10+20')\n",
    "v = Scrollbar(root, orient=\"vertical\")\n",
    "v.pack(side=RIGHT, fill='y')\n",
    "txt = Text(root, width=150, borderwidth=2, font=(\"Ariel\", 26))\n",
    "v.config(command=txt.yview)\n",
    "txt.pack(side=TOP)\n",
    "\n",
    "def disp():\n",
    "    messagebox.showinfo(\"KPIT\", txt.get())\n",
    "\n",
    "bt1 = Button(root, text=\"click\", command=disp)\n",
    "bt1.pack(pady=10)\n",
    "\n",
    "root.mainloop()"
   ]
  },
  {
   "cell_type": "code",
   "execution_count": null,
   "metadata": {},
   "outputs": [],
   "source": [
    "import tkinter as tk\n",
    "from tkinter import *\n",
    "from tkinter import messagebox\n",
    "win = tk.Tk()\n",
    "win.title(\"KPIT\")\n",
    "win.geometry(\"600x500+10+20\")\n",
    "\n",
    "def click(arg):\n",
    "    messagebox.showinfo(\"KPIT\", \"lulululululu................\")\n",
    "\n",
    "def func(arg):\n",
    "    messagebox.showinfo(\"KPIT\", arg)\n",
    "\n",
    "btn1 = Button(win, text=\"Yellow\", command=\"click\", font=(\"Arial\", 26), activebackground=\"yellow\",\n",
    "              activeforeground=\"orange\", pady=10)\n",
    "btn2 = Button(win, text=\"green\", command=lambda: func(\"Hello World\"), font=(\"Arial\", 26), activebackground=\"green\",\n",
    "              activeforeground=\"pink\", pady=10)\n",
    "btn3 = Button(win, text=\"blue\",command=\"click\", font=(\"Arial\", 26), activebackground=\"purple\", activeforeground=\"red\", pady=10)\n",
    "btn4 = Button(win, text=\"red\",command=\"click\", font=(\"Arial\", 26), activebackground=\"red\", activeforeground=\"maroon\", pady=10)\n",
    "\n",
    "btn4.pack(side=BOTTOM)\n",
    "btn1.pack(side=LEFT)\n",
    "btn2.pack(side=RIGHT)\n",
    "btn3.pack(side=TOP)\n",
    "win.mainloop()"
   ]
  }
 ],
 "metadata": {
  "interpreter": {
   "hash": "b89b5cfaba6639976dc87ff2fec6d58faec662063367e2c229c520fe71072417"
  },
  "kernelspec": {
   "display_name": "Python 3.10.0 64-bit",
   "name": "python3"
  },
  "language_info": {
   "codemirror_mode": {
    "name": "ipython",
    "version": 3
   },
   "file_extension": ".py",
   "mimetype": "text/x-python",
   "name": "python",
   "nbconvert_exporter": "python",
   "pygments_lexer": "ipython3",
   "version": "3.10.0"
  },
  "orig_nbformat": 4
 },
 "nbformat": 4,
 "nbformat_minor": 2
}
