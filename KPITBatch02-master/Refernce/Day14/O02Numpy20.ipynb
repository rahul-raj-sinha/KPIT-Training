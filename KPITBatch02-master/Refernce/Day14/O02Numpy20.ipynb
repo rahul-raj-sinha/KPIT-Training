{
 "cells": [
  {
   "cell_type": "code",
   "execution_count": 9,
   "id": "76edd6af",
   "metadata": {},
   "outputs": [
    {
     "name": "stdout",
     "output_type": "stream",
     "text": [
      "32\n"
     ]
    }
   ],
   "source": [
    "import numpy as np\n",
    "\n",
    "# dot\n",
    "arr1 = np.array([1, 2, 3])\n",
    "arr2 = np.array([4, 5, 6])\n",
    "\n",
    "array1  = np.dot(arr1, arr2)      # 4 + 10 + 18\n",
    "print(array1)"
   ]
  },
  {
   "cell_type": "code",
   "execution_count": 14,
   "id": "116562f1",
   "metadata": {},
   "outputs": [
    {
     "name": "stdout",
     "output_type": "stream",
     "text": [
      "arr1 :\n",
      "[[1 3]\n",
      " [5 7]]\n",
      "arr2 :\n",
      "[[2 4]\n",
      " [6 8]]\n",
      "------------------------------------------------------------\n",
      "res :\n",
      "[[14 30]\n",
      " [38 86]]\n"
     ]
    }
   ],
   "source": [
    "# inner function\n",
    "\n",
    "arr1 = np.array([[1, 3], \n",
    "                [5, 7]])\n",
    "\n",
    "arr2 = np.array([[2, 4],\n",
    "                 [6, 8]])\n",
    "\n",
    "print(f\"arr1 :\\n{arr1}\")\n",
    "print(f\"arr2 :\\n{arr2}\")\n",
    "\n",
    "print(\"-\" * 60)\n",
    "res = np.inner(arr1, arr2)\n",
    "print(f\"res :\\n{res}\")\n",
    "\n",
    "\"\"\"\n",
    "[1*2+3*4  1*6+3*8]\n",
    "[5*2+7*4  5*6+7*8]\n",
    "\"\"\""
   ]
  },
  {
   "cell_type": "code",
   "execution_count": 18,
   "id": "8338d44a",
   "metadata": {},
   "outputs": [
    {
     "name": "stdout",
     "output_type": "stream",
     "text": [
      "arr1 :[1 3 5]\n",
      "arr2 :[2 4 6]\n",
      "------------------------------------------------------------\n",
      "results :\n",
      "[[ 2  4  6]\n",
      " [ 6 12 18]\n",
      " [10 20 30]]\n"
     ]
    }
   ],
   "source": [
    "# Outer function\n",
    "\n",
    "arr1 = np.array([1, 3, 5])\n",
    "arr2 = np.array([2, 4, 6])\n",
    "print(f\"arr1 :{arr1}\")\n",
    "print(f\"arr2 :{arr2}\")\n",
    "\n",
    "print(\"-\" * 60)\n",
    "res = np.outer(arr1, arr2)\n",
    "print(f\"results :\\n{res}\")\n",
    "\n",
    "\"\"\"\n",
    "[1*2  1*4  1*6]\n",
    "[3*2  3*4  3*6]\n",
    "[5*2  5*4  5*6]\n",
    "\"\"\""
   ]
  },
  {
   "cell_type": "code",
   "execution_count": 20,
   "id": "67de8b64",
   "metadata": {},
   "outputs": [
    {
     "name": "stdout",
     "output_type": "stream",
     "text": [
      "Determinant is :-7.999999999999998\n"
     ]
    }
   ],
   "source": [
    "# determinant\n",
    "arr1 = np.array([[1, 3], \n",
    "                 [5, 7]])\n",
    "\n",
    "res = np.linalg.det(arr1)\n",
    "\n",
    "print(f\"Determinant is :{res}\")\n",
    "\n",
    "# (1 * 7) - (5 * 3)"
   ]
  },
  {
   "cell_type": "code",
   "execution_count": 22,
   "id": "5785cc64",
   "metadata": {},
   "outputs": [
    {
     "name": "stdout",
     "output_type": "stream",
     "text": [
      "[-2.    2.25]\n"
     ]
    },
    {
     "data": {
      "text/plain": [
       "'\\n2x + 4y = 5\\n6x + 8y = 6\\n\\n'"
      ]
     },
     "execution_count": 22,
     "metadata": {},
     "output_type": "execute_result"
    }
   ],
   "source": [
    "# solve function\n",
    "A = np.array([[2, 4], \n",
    "              [6, 8]])\n",
    "\n",
    "# constant vector\n",
    "B = np.array([5, 6])\n",
    "\n",
    "res = np.linalg.solve(A, B)\n",
    "\n",
    "print(res)\n",
    "\n",
    "\"\"\"\n",
    "2x + 4y = 5\n",
    "6x + 8y = 6\n",
    "\n",
    "\"\"\""
   ]
  },
  {
   "cell_type": "code",
   "execution_count": 24,
   "id": "e57a4889",
   "metadata": {},
   "outputs": [
    {
     "name": "stdout",
     "output_type": "stream",
     "text": [
      "arr1 :\n",
      "[[2 4]\n",
      " [6 8]]\n",
      "------------------------------------------------------------\n",
      "[[-1.    0.5 ]\n",
      " [ 0.75 -0.25]]\n"
     ]
    }
   ],
   "source": [
    "# Inverse of a matrix\n",
    "\n",
    "arr1 = np.array([[2, 4], \n",
    "                 [6, 8]])\n",
    "\n",
    "print(f\"arr1 :\\n{arr1}\")\n",
    "print(\"-\" * 60)\n",
    "\n",
    "res = np.linalg.inv(arr1)\n",
    "print(res)\n"
   ]
  },
  {
   "cell_type": "code",
   "execution_count": 27,
   "id": "f457dcbd",
   "metadata": {},
   "outputs": [
    {
     "name": "stdout",
     "output_type": "stream",
     "text": [
      "arr1 :\n",
      "[[6 3 5]\n",
      " [9 2 1]\n",
      " [7 8 4]]\n",
      "res :12\n"
     ]
    }
   ],
   "source": [
    "# trace function\n",
    "\n",
    "arr1 = np.array([[6, 3, 5],\n",
    "                 [9, 2, 1], \n",
    "                 [7, 8, 4]])\n",
    "print(f\"arr1 :\\n{arr1}\")\n",
    "\n",
    "res = np.trace(arr1)\n",
    "\n",
    "print(f\"res :{res}\")"
   ]
  }
 ],
 "metadata": {
  "kernelspec": {
   "display_name": "Python 3 (ipykernel)",
   "language": "python",
   "name": "python3"
  },
  "language_info": {
   "codemirror_mode": {
    "name": "ipython",
    "version": 3
   },
   "file_extension": ".py",
   "mimetype": "text/x-python",
   "name": "python",
   "nbconvert_exporter": "python",
   "pygments_lexer": "ipython3",
   "version": "3.11.4"
  }
 },
 "nbformat": 4,
 "nbformat_minor": 5
}
