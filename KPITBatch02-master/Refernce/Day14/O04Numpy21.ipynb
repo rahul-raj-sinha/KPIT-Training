{
 "cells": [
  {
   "cell_type": "code",
   "execution_count": 5,
   "id": "7e573c54",
   "metadata": {},
   "outputs": [
    {
     "name": "stdout",
     "output_type": "stream",
     "text": [
      "data :[ 5 10 15 18 20]\n",
      "(array([1, 3, 1], dtype=int64), array([ 0, 10, 20, 30]))\n"
     ]
    }
   ],
   "source": [
    "import numpy as np\n",
    "\n",
    "data = np.array([5, 10, 15, 18, 20])\n",
    "print(f\"data :{data}\")\n",
    "\n",
    "# bin to set intervals\n",
    "bin = [0, 10, 20, 30]\n",
    "\n",
    "# create a histogram\n",
    "graph = np.histogram(data, bin)\n",
    "\n",
    "print(graph)\n",
    "\n",
    "\n",
    "# the first array contains the frequency counts of the data within each bin\n",
    "\n",
    "# the second array contains the bin edges\n",
    "\n",
    "# only 1 data point lies between 0 and 10 (i.e 5) from the array\n",
    "\n",
    "# 3 data point between 10 and 20 - (10, 15, 18)\n",
    "\n",
    "# 20 lies between 20 and 30\n"
   ]
  },
  {
   "cell_type": "code",
   "execution_count": 9,
   "id": "835e0707",
   "metadata": {},
   "outputs": [
    {
     "name": "stdout",
     "output_type": "stream",
     "text": [
      "data :[1 2 3 4 5 6 7 8 1 2 3]\n",
      "(array([7, 4], dtype=int64), array([ 0,  5, 10]))\n"
     ]
    }
   ],
   "source": [
    "data = np.array([1, 2, 3, 4, 5, 6, 7, 8, 1, 2, 3])\n",
    "print(f\"data :{data}\")\n",
    "\n",
    "bin = [0, 5, 10]\n",
    "\n",
    "graph = np.histogram(data, bin)\n",
    "\n",
    "print(graph)"
   ]
  },
  {
   "cell_type": "code",
   "execution_count": 13,
   "id": "c675daf6",
   "metadata": {},
   "outputs": [
    {
     "name": "stdout",
     "output_type": "stream",
     "text": [
      "(array([1, 3, 1], dtype=int64), array([ 0, 10, 20, 30]))\n"
     ]
    },
    {
     "data": {
      "image/png": "[encoded data removed]",
      "text/plain": [
       "<Figure size 640x480 with 1 Axes>"
      ]
     },
     "metadata": {},
     "output_type": "display_data"
    }
   ],
   "source": [
    "from matplotlib import pyplot as plt\n",
    "\n",
    "data = np.array([5, 10, 15, 18, 20])\n",
    "\n",
    "bins = [0, 10, 20, 30]\n",
    "\n",
    "graph = np.histogram(data, bins)\n",
    "print(graph)\n",
    "\n",
    "plt.hist(data, bins)\n",
    "plt.show()"
   ]
  }
 ],
 "metadata": {
  "kernelspec": {
   "display_name": "Python 3 (ipykernel)",
   "language": "python",
   "name": "python3"
  },
  "language_info": {
   "codemirror_mode": {
    "name": "ipython",
    "version": 3
   },
   "file_extension": ".py",
   "mimetype": "text/x-python",
   "name": "python",
   "nbconvert_exporter": "python",
   "pygments_lexer": "ipython3",
   "version": "3.11.4"
  }
 },
 "nbformat": 4,
 "nbformat_minor": 5
}
