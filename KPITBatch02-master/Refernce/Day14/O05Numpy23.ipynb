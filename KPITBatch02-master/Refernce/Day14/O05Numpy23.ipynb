{
 "cells": [
  {
   "cell_type": "code",
   "execution_count": 5,
   "id": "7679caee",
   "metadata": {},
   "outputs": [
    {
     "name": "stdout",
     "output_type": "stream",
     "text": [
      "arr1 :\n",
      "[[1 2 3]\n",
      " [4 5 6]]\n"
     ]
    }
   ],
   "source": [
    "import numpy as np\n",
    "\n",
    "arr1 = np.array([[1, 2, 3], \n",
    "                 [4, 5, 6]])\n",
    "\n",
    "print(f\"arr1 :\\n{arr1}\")\n",
    "\n",
    "np.save(\"myfile.npy\", arr1)\n"
   ]
  },
  {
   "cell_type": "code",
   "execution_count": 6,
   "id": "0ef5b1e9",
   "metadata": {},
   "outputs": [
    {
     "name": "stdout",
     "output_type": "stream",
     "text": [
      "[[1 2 3]\n",
      " [4 5 6]]\n"
     ]
    }
   ],
   "source": [
    "loaded_array = np.load(\"C:\\\\Users\\\\Kiran\\\\CDAC\\\\Day14\\\\myfile.npy\")\n",
    "print(loaded_array)"
   ]
  },
  {
   "cell_type": "code",
   "execution_count": 11,
   "id": "e0e31e7a",
   "metadata": {},
   "outputs": [
    {
     "name": "stdout",
     "output_type": "stream",
     "text": [
      "arr1 :[1 2 3 4 5]\n",
      "arr2 :[ 6  7  8  9 10]\n"
     ]
    }
   ],
   "source": [
    "# save to multiple files\n",
    "\n",
    "arr1 = np.array([1, 2, 3, 4, 5])\n",
    "arr2 = np.array([6, 7, 8, 9, 10])\n",
    "\n",
    "print(f\"arr1 :{arr1}\")\n",
    "print(f\"arr2 :{arr2}\")\n",
    "\n",
    "np.savez(\"myfile1.npz\", file1 = arr1, file2 = arr2)"
   ]
  },
  {
   "cell_type": "code",
   "execution_count": 15,
   "id": "565f70ea",
   "metadata": {},
   "outputs": [
    {
     "name": "stdout",
     "output_type": "stream",
     "text": [
      "arr1 :[1 2 3 4 5]\n",
      "arr2 :[ 6  7  8  9 10]\n"
     ]
    }
   ],
   "source": [
    "# load the data from multiple arrays\n",
    "import numpy as np\n",
    "\n",
    "load_data = np.load(\"C:\\\\Users\\\\Kiran\\\\CDAC\\\\Day14\\\\myfile1.npz\")\n",
    "\n",
    "arr1 = load_data['file1']\n",
    "arr2 = load_data['file2']\n",
    "\n",
    "print(f\"arr1 :{arr1}\")\n",
    "print(f\"arr2 :{arr2}\")\n"
   ]
  }
 ],
 "metadata": {
  "kernelspec": {
   "display_name": "Python 3 (ipykernel)",
   "language": "python",
   "name": "python3"
  },
  "language_info": {
   "codemirror_mode": {
    "name": "ipython",
    "version": 3
   },
   "file_extension": ".py",
   "mimetype": "text/x-python",
   "name": "python",
   "nbconvert_exporter": "python",
   "pygments_lexer": "ipython3",
   "version": "3.11.4"
  }
 },
 "nbformat": 4,
 "nbformat_minor": 5
}
