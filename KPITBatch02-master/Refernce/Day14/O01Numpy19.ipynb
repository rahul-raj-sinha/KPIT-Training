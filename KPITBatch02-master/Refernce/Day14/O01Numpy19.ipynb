{
 "cells": [
  {
   "cell_type": "code",
   "execution_count": 32,
   "id": "e9c02725",
   "metadata": {},
   "outputs": [
    {
     "name": "stdout",
     "output_type": "stream",
     "text": [
      "Random Number :94\n"
     ]
    }
   ],
   "source": [
    "# Random\n",
    "# used to generate numbers randomly\n",
    "import numpy as np\n",
    "ran_num = np.random.randint(0, 100)\n",
    "print(f\"Random Number :{ran_num}\")"
   ]
  },
  {
   "cell_type": "code",
   "execution_count": 47,
   "id": "ddbfb0dd",
   "metadata": {},
   "outputs": [
    {
     "name": "stdout",
     "output_type": "stream",
     "text": [
      "Random Number :0.273633426143697\n"
     ]
    }
   ],
   "source": [
    "# float values\n",
    "\n",
    "ran_num = np.random.rand()\n",
    "print(f\"Random Number :{ran_num}\")"
   ]
  },
  {
   "cell_type": "code",
   "execution_count": 104,
   "id": "2faf35ca",
   "metadata": {},
   "outputs": [
    {
     "name": "stdout",
     "output_type": "stream",
     "text": [
      "Ramdom Integer :[ 1  2  9  5  0  3  5 14]\n",
      "------------------------------------------------------------\n",
      "Float Array :[0.14481701 0.71809113 0.25023188 0.24731149 0.31533375]\n",
      "------------------------------------------------------------\n",
      "Array :\n",
      "[[ 8  9 18  7]\n",
      " [17 11  9 12]\n",
      " [ 2 13 15 16]]\n"
     ]
    }
   ],
   "source": [
    "# generating a random array\n",
    "\n",
    "# generate random numbers between 0 and 25 and 8 values\n",
    "int_arr = np.random.randint(0, 25, 8)\n",
    "print(f\"Ramdom Integer :{int_arr}\")\n",
    "\n",
    "print(\"-\" * 60)\n",
    "# generate numbers between 0 and 1\n",
    "flt_arr = np.random.rand(5)\n",
    "print(f\"Float Array :{flt_arr}\")\n",
    "\n",
    "print(\"-\" * 60)\n",
    "# generate a 2d array - shape(3, 4) with rand integers\n",
    "res = np.random.randint(1, 25, (3, 4))\n",
    "print(f\"Array :\\n{res}\")\n"
   ]
  },
  {
   "cell_type": "code",
   "execution_count": 120,
   "id": "2172f68c",
   "metadata": {},
   "outputs": [
    {
     "name": "stdout",
     "output_type": "stream",
     "text": [
      "random choice :2\n"
     ]
    }
   ],
   "source": [
    "# choose random numbers from numpy array\n",
    "\n",
    "arr1 = np.array([1, 2, 3, 4, 5])\n",
    "\n",
    "ran_num = np.random.choice(arr1)\n",
    "\n",
    "print(f\"random choice :{ran_num}\")"
   ]
  }
 ],
 "metadata": {
  "kernelspec": {
   "display_name": "Python 3 (ipykernel)",
   "language": "python",
   "name": "python3"
  },
  "language_info": {
   "codemirror_mode": {
    "name": "ipython",
    "version": 3
   },
   "file_extension": ".py",
   "mimetype": "text/x-python",
   "name": "python",
   "nbconvert_exporter": "python",
   "pygments_lexer": "ipython3",
   "version": "3.11.4"
  }
 },
 "nbformat": 4,
 "nbformat_minor": 5
}
