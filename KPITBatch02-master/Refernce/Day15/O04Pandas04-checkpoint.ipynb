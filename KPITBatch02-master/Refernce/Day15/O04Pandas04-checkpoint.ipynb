{
 "cells": [
  {
   "cell_type": "code",
   "execution_count": 11,
   "id": "3acfc20f",
   "metadata": {},
   "outputs": [
    {
     "name": "stdout",
     "output_type": "stream",
     "text": [
      "{'name': ['Sachin', 'Sehwag', 'Yuvraj', 'Sourav', 'Virat'], 'runs': [120, 65, 85, 70, 25], 'opponent': ['WI', 'PAK', 'ENG', 'SA', 'AUS'], 'gender': ['M', 'M', 'M', 'M', 'M']}\n",
      "------------------------------------------------------------\n",
      "     name  runs opponent gender\n",
      "0  Sachin   120       WI      M\n",
      "1  Sehwag    65      PAK      M\n",
      "2  Yuvraj    85      ENG      M\n",
      "3  Sourav    70       SA      M\n",
      "4   Virat    25      AUS      M\n",
      "------------------------------------------------------------\n",
      "Empty DataFrame\n",
      "Columns: [Name, Runs, Opponent, Gender]\n",
      "Index: []\n",
      "------------------------------------------------------------\n",
      "     name  runs opponent gender\n",
      "0  Sachin   120       WI      M\n",
      "1  Sehwag    65      PAK      M\n",
      "2  Yuvraj    85      ENG      M\n",
      "3  Sourav    70       SA      M\n",
      "4   Virat    25      AUS      M\n",
      "------------------------------------------------------------\n",
      "     name  runs opponent gender\n",
      "0  Sachin   120       WI      M\n",
      "1  Sehwag    65      PAK      M\n",
      "2  Yuvraj    85      ENG      M\n",
      "3  Sourav    70       SA      M\n",
      "4   Virat    25      AUS      M\n"
     ]
    }
   ],
   "source": [
    "import pandas as pd\n",
    "\n",
    "data = {\n",
    "    \"name\":['Sachin', 'Sehwag', 'Yuvraj', 'Sourav', 'Virat'],\n",
    "    \"runs\":[120, 65, 85, 70, 25],\n",
    "    \"opponent\":['WI', 'PAK', 'ENG', 'SA', 'AUS'],\n",
    "    \"gender\":[\"M\", \"M\", \"M\", \"M\", \"M\"]\n",
    "}\n",
    "\n",
    "print(data)\n",
    "\n",
    "sportsDF = pd.DataFrame(data)\n",
    "print(\"-\" * 60)\n",
    "\n",
    "print(sportsDF)\n",
    "print(\"-\" * 60)\n",
    "\n",
    "colDF = pd.DataFrame(data, columns=[\"Name\", \"Runs\", \"Opponent\", \"Gender\"])\n",
    "print(colDF)\n",
    "\n",
    "print(\"-\" * 60)\n",
    "print(sportsDF.head())\n",
    "\n",
    "print(\"-\" * 60)\n",
    "print(sportsDF.tail())\n",
    "\n",
    "print(\"-\" * 60)\n"
   ]
  },
  {
   "cell_type": "code",
   "execution_count": null,
   "id": "40bc402a",
   "metadata": {},
   "outputs": [],
   "source": []
  }
 ],
 "metadata": {
  "kernelspec": {
   "display_name": "Python 3 (ipykernel)",
   "language": "python",
   "name": "python3"
  },
  "language_info": {
   "codemirror_mode": {
    "name": "ipython",
    "version": 3
   },
   "file_extension": ".py",
   "mimetype": "text/x-python",
   "name": "python",
   "nbconvert_exporter": "python",
   "pygments_lexer": "ipython3",
   "version": "3.11.4"
  }
 },
 "nbformat": 4,
 "nbformat_minor": 5
}
