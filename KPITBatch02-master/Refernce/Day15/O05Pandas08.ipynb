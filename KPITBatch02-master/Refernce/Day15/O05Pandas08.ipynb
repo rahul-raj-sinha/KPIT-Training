{
 "cells": [
  {
   "cell_type": "code",
   "execution_count": 2,
   "id": "a92e9cd1",
   "metadata": {},
   "outputs": [],
   "source": [
    "import pandas as pd\n",
    "import numpy as np\n",
    "\n",
    "# Arithematic Operations"
   ]
  },
  {
   "cell_type": "code",
   "execution_count": 4,
   "id": "1bf6db14",
   "metadata": {},
   "outputs": [
    {
     "name": "stdout",
     "output_type": "stream",
     "text": [
      "a    0\n",
      "c    1\n",
      "d    2\n",
      "e    3\n",
      "dtype: int32\n",
      "a    0\n",
      "c    1\n",
      "e    2\n",
      "f    3\n",
      "g    4\n",
      "dtype: int32\n"
     ]
    }
   ],
   "source": [
    "s1 = pd.Series(np.arange(4), index=['a', 'c', 'd', 'e'])\n",
    "s2 = pd.Series(np.arange(5), index=['a', 'c', 'e', 'f', 'g'])\n",
    "\n",
    "print(s1)\n",
    "print(s2)"
   ]
  },
  {
   "cell_type": "code",
   "execution_count": 6,
   "id": "2c531c35",
   "metadata": {},
   "outputs": [
    {
     "name": "stdout",
     "output_type": "stream",
     "text": [
      "a    0.0\n",
      "c    2.0\n",
      "d    NaN\n",
      "e    5.0\n",
      "f    NaN\n",
      "g    NaN\n",
      "dtype: float64\n"
     ]
    }
   ],
   "source": [
    "print(s1 + s2)"
   ]
  },
  {
   "cell_type": "code",
   "execution_count": 14,
   "id": "42a78ca1",
   "metadata": {},
   "outputs": [
    {
     "name": "stdout",
     "output_type": "stream",
     "text": [
      "     A  B  C\n",
      "tic  0  1  2\n",
      "toe  3  4  5\n",
      "------------------------------------------------------------\n",
      "     A  C  D\n",
      "tic  0  1  2\n",
      "tac  3  4  5\n",
      "toe  6  7  8\n"
     ]
    }
   ],
   "source": [
    "DF1 = pd.DataFrame(np.arange(6).reshape(2, 3), \n",
    "                  columns=list(\"ABC\"), \n",
    "                  index = [\"tic\", \"toe\"])\n",
    "\n",
    "DF2 = pd.DataFrame(np.arange(9).reshape(3, 3), \n",
    "                  columns=list(\"ACD\"), \n",
    "                  index = ['tic', 'tac', 'toe'])\n",
    "\n",
    "print(DF1)\n",
    "print(\"-\" * 60)\n",
    "\n",
    "print(DF2)"
   ]
  },
  {
   "cell_type": "code",
   "execution_count": 16,
   "id": "27839b81",
   "metadata": {},
   "outputs": [
    {
     "name": "stdout",
     "output_type": "stream",
     "text": [
      "       A   B     C   D\n",
      "tac  NaN NaN   NaN NaN\n",
      "tic  0.0 NaN   3.0 NaN\n",
      "toe  9.0 NaN  12.0 NaN\n"
     ]
    }
   ],
   "source": [
    "print(DF1 + DF2)"
   ]
  },
  {
   "cell_type": "code",
   "execution_count": 18,
   "id": "9ea3b34b",
   "metadata": {},
   "outputs": [
    {
     "name": "stdout",
     "output_type": "stream",
     "text": [
      "            A     B    C\n",
      "tic       inf  1.00  0.5\n",
      "toe  0.333333  0.25  0.2\n"
     ]
    }
   ],
   "source": [
    "print(1/DF1)"
   ]
  },
  {
   "cell_type": "code",
   "execution_count": 20,
   "id": "dfb1ca81",
   "metadata": {},
   "outputs": [
    {
     "name": "stdout",
     "output_type": "stream",
     "text": [
      "     A   B   C\n",
      "tic  0   3   6\n",
      "toe  9  12  15\n"
     ]
    }
   ],
   "source": [
    "print(DF1 * 3)"
   ]
  },
  {
   "cell_type": "code",
   "execution_count": 22,
   "id": "ea6580eb",
   "metadata": {},
   "outputs": [
    {
     "name": "stdout",
     "output_type": "stream",
     "text": [
      "     A   B   C\n",
      "tic  0   3   6\n",
      "toe  9  12  15\n"
     ]
    }
   ],
   "source": [
    "print(DF1.mul(3))"
   ]
  },
  {
   "cell_type": "code",
   "execution_count": 24,
   "id": "8bf60934",
   "metadata": {},
   "outputs": [
    {
     "name": "stdout",
     "output_type": "stream",
     "text": [
      "     A  C  D\n",
      "tic  0  1  2\n",
      "tac  3  4  5\n",
      "toe  6  7  8\n"
     ]
    }
   ],
   "source": [
    "print(DF2)"
   ]
  },
  {
   "cell_type": "code",
   "execution_count": 29,
   "id": "22bb415f",
   "metadata": {},
   "outputs": [
    {
     "name": "stdout",
     "output_type": "stream",
     "text": [
      "A    3\n",
      "C    4\n",
      "D    5\n",
      "Name: tac, dtype: int32\n"
     ]
    }
   ],
   "source": [
    "res = DF2.iloc[1]\n",
    "print(res)"
   ]
  },
  {
   "cell_type": "code",
   "execution_count": 31,
   "id": "8e51f405",
   "metadata": {},
   "outputs": [
    {
     "name": "stdout",
     "output_type": "stream",
     "text": [
      "     A  C  D\n",
      "tic -3 -3 -3\n",
      "tac  0  0  0\n",
      "toe  3  3  3\n"
     ]
    }
   ],
   "source": [
    "print(DF2-res)"
   ]
  },
  {
   "cell_type": "code",
   "execution_count": 35,
   "id": "61892b97",
   "metadata": {},
   "outputs": [
    {
     "name": "stdout",
     "output_type": "stream",
     "text": [
      "tic    0\n",
      "tac    3\n",
      "toe    6\n",
      "Name: A, dtype: int32\n"
     ]
    }
   ],
   "source": [
    "DF3 = DF2[\"A\"]\n",
    "print(DF3)"
   ]
  },
  {
   "cell_type": "code",
   "execution_count": 47,
   "id": "cfb8856e",
   "metadata": {},
   "outputs": [
    {
     "name": "stdout",
     "output_type": "stream",
     "text": [
      "     A  C  D\n",
      "tic  0  1  2\n",
      "tac  3  4  5\n",
      "toe  6  7  8\n",
      "------------------------------------------------------------\n",
      "tic    0\n",
      "tac    3\n",
      "toe    6\n",
      "Name: A, dtype: int32\n",
      "------------------------------------------------------------\n",
      "     A  C  D\n",
      "tic  0  1  2\n",
      "tac  0  1  2\n",
      "toe  0  1  2\n"
     ]
    }
   ],
   "source": [
    "print(DF2)\n",
    "\n",
    "print(\"-\" * 60)\n",
    "DF3 = DF2[\"A\"]\n",
    "print(DF3)\n",
    "\n",
    "print(\"-\" * 60)\n",
    "DF4 = DF2.sub(DF3, axis=\"index\")\n",
    "print(DF4)"
   ]
  },
  {
   "cell_type": "code",
   "execution_count": 50,
   "id": "862f640b",
   "metadata": {},
   "outputs": [
    {
     "name": "stdout",
     "output_type": "stream",
     "text": [
      "              A         B         C\n",
      "Kim   -1.352400  1.195286 -0.420148\n",
      "Susan  0.064846  0.416231 -0.794974\n",
      "Tim    0.989628 -1.127112  0.060882\n",
      "Tom   -1.265228 -1.204119 -0.549724\n"
     ]
    }
   ],
   "source": [
    "#applying Functions\n",
    "\n",
    "DF = pd.DataFrame(np.random.randn(4, 3), \n",
    "                 columns=list(\"ABC\"), \n",
    "                 index = [\"Kim\", \"Susan\", \"Tim\", \"Tom\"])\n",
    "\n",
    "print(DF)"
   ]
  },
  {
   "cell_type": "code",
   "execution_count": 52,
   "id": "a9dc3ff4",
   "metadata": {},
   "outputs": [
    {
     "name": "stdout",
     "output_type": "stream",
     "text": [
      "              A         B         C\n",
      "Kim    1.352400  1.195286  0.420148\n",
      "Susan  0.064846  0.416231  0.794974\n",
      "Tim    0.989628  1.127112  0.060882\n",
      "Tom    1.265228  1.204119  0.549724\n"
     ]
    }
   ],
   "source": [
    "print(np.abs(DF))"
   ]
  },
  {
   "cell_type": "code",
   "execution_count": 54,
   "id": "efe26fbd",
   "metadata": {},
   "outputs": [
    {
     "data": {
      "text/plain": [
       "A    2.342028\n",
       "B    2.399405\n",
       "C    0.855856\n",
       "dtype: float64"
      ]
     },
     "execution_count": 54,
     "metadata": {},
     "output_type": "execute_result"
    }
   ],
   "source": [
    "f = lambda x: x.max() - x.min()\n",
    "\n",
    "DF.apply(f)"
   ]
  },
  {
   "cell_type": "code",
   "execution_count": 56,
   "id": "a96edc4a",
   "metadata": {},
   "outputs": [
    {
     "data": {
      "text/plain": [
       "Kim      2.547686\n",
       "Susan    1.211205\n",
       "Tim      2.116740\n",
       "Tom      0.715504\n",
       "dtype: float64"
      ]
     },
     "execution_count": 56,
     "metadata": {},
     "output_type": "execute_result"
    }
   ],
   "source": [
    "DF.apply(f, axis=1)\n"
   ]
  },
  {
   "cell_type": "code",
   "execution_count": 58,
   "id": "67346fc7",
   "metadata": {},
   "outputs": [],
   "source": [
    "def f(x):\n",
    "    return x ** 2\n"
   ]
  },
  {
   "cell_type": "code",
   "execution_count": 62,
   "id": "4f4e302e",
   "metadata": {},
   "outputs": [
    {
     "name": "stdout",
     "output_type": "stream",
     "text": [
      "              A         B         C\n",
      "Kim   -1.352400  1.195286 -0.420148\n",
      "Susan  0.064846  0.416231 -0.794974\n",
      "Tim    0.989628 -1.127112  0.060882\n",
      "Tom   -1.265228 -1.204119 -0.549724\n",
      "------------------------------------------------------------\n"
     ]
    },
    {
     "data": {
      "text/html": [
       "<div>\n",
       "<style scoped>\n",
       "    .dataframe tbody tr th:only-of-type {\n",
       "        vertical-align: middle;\n",
       "    }\n",
       "\n",
       "    .dataframe tbody tr th {\n",
       "        vertical-align: top;\n",
       "    }\n",
       "\n",
       "    .dataframe thead th {\n",
       "        text-align: right;\n",
       "    }\n",
       "</style>\n",
       "<table border=\"1\" class=\"dataframe\">\n",
       "  <thead>\n",
       "    <tr style=\"text-align: right;\">\n",
       "      <th></th>\n",
       "      <th>A</th>\n",
       "      <th>B</th>\n",
       "      <th>C</th>\n",
       "    </tr>\n",
       "  </thead>\n",
       "  <tbody>\n",
       "    <tr>\n",
       "      <th>Kim</th>\n",
       "      <td>1.828986</td>\n",
       "      <td>1.428709</td>\n",
       "      <td>0.176525</td>\n",
       "    </tr>\n",
       "    <tr>\n",
       "      <th>Susan</th>\n",
       "      <td>0.004205</td>\n",
       "      <td>0.173248</td>\n",
       "      <td>0.631984</td>\n",
       "    </tr>\n",
       "    <tr>\n",
       "      <th>Tim</th>\n",
       "      <td>0.979364</td>\n",
       "      <td>1.270381</td>\n",
       "      <td>0.003707</td>\n",
       "    </tr>\n",
       "    <tr>\n",
       "      <th>Tom</th>\n",
       "      <td>1.600802</td>\n",
       "      <td>1.449902</td>\n",
       "      <td>0.302197</td>\n",
       "    </tr>\n",
       "  </tbody>\n",
       "</table>\n",
       "</div>"
      ],
      "text/plain": [
       "              A         B         C\n",
       "Kim    1.828986  1.428709  0.176525\n",
       "Susan  0.004205  0.173248  0.631984\n",
       "Tim    0.979364  1.270381  0.003707\n",
       "Tom    1.600802  1.449902  0.302197"
      ]
     },
     "execution_count": 62,
     "metadata": {},
     "output_type": "execute_result"
    }
   ],
   "source": [
    "print(DF)\n",
    "print(\"-\" * 60)\n",
    "DF.apply(f)\n"
   ]
  },
  {
   "cell_type": "code",
   "execution_count": 63,
   "id": "345d2ed5",
   "metadata": {},
   "outputs": [
    {
     "name": "stdout",
     "output_type": "stream",
     "text": [
      "1.8289857600000001\n"
     ]
    }
   ],
   "source": [
    "print(f(-1.352400))"
   ]
  }
 ],
 "metadata": {
  "kernelspec": {
   "display_name": "Python 3 (ipykernel)",
   "language": "python",
   "name": "python3"
  },
  "language_info": {
   "codemirror_mode": {
    "name": "ipython",
    "version": 3
   },
   "file_extension": ".py",
   "mimetype": "text/x-python",
   "name": "python",
   "nbconvert_exporter": "python",
   "pygments_lexer": "ipython3",
   "version": "3.11.4"
  }
 },
 "nbformat": 4,
 "nbformat_minor": 5
}
