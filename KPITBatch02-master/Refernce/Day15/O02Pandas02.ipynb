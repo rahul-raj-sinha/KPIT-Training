{
 "cells": [
  {
   "cell_type": "code",
   "execution_count": 6,
   "id": "46c7325f",
   "metadata": {},
   "outputs": [
    {
     "name": "stdout",
     "output_type": "stream",
     "text": [
      "['tata', 'maruti suzuki', 'honda', 'hyundai']\n",
      "0             tata\n",
      "1    maruti suzuki\n",
      "2            honda\n",
      "3          hyundai\n",
      "dtype: object\n",
      "------------------------------------------------------------\n",
      "tata\n",
      "------------------------------------------------------------\n",
      "['tata' 'maruti suzuki' 'honda' 'hyundai']\n"
     ]
    }
   ],
   "source": [
    "import pandas as pd\n",
    "\n",
    "cars = ['tata', 'maruti suzuki', 'honda', 'hyundai' ]\n",
    "\n",
    "print(cars)\n",
    "\n",
    "pdSrs = pd.Series(cars)\n",
    "\n",
    "print(pdSrs)\n",
    "\n",
    "print(\"-\" * 60)\n",
    "\n",
    "print(pdSrs[0])\n",
    "\n",
    "print(\"-\" * 60)\n",
    "\n",
    "print(pdSrs.values)"
   ]
  },
  {
   "cell_type": "code",
   "execution_count": 12,
   "id": "fcfc677b",
   "metadata": {},
   "outputs": [
    {
     "name": "stdout",
     "output_type": "stream",
     "text": [
      "a             tata\n",
      "b    maruti suzuki\n",
      "c            honda\n",
      "d          hyundai\n",
      "dtype: object\n",
      "------------------------------------------------------------\n",
      "honda\n"
     ]
    }
   ],
   "source": [
    "cars = ['tata', 'maruti suzuki', 'honda', 'hyundai' ]\n",
    "\n",
    "pdSrs = pd.Series(cars, index=['a', 'b', 'c', 'd'])\n",
    "\n",
    "print(pdSrs)\n",
    "\n",
    "print(\"-\" * 60)\n",
    "\n",
    "print(pdSrs['c'])"
   ]
  },
  {
   "cell_type": "code",
   "execution_count": 29,
   "id": "3ad23cd6",
   "metadata": {},
   "outputs": [
    {
     "name": "stdout",
     "output_type": "stream",
     "text": [
      "Sachin     85\n",
      "Sehwag    120\n",
      "dravid     45\n",
      "sourav     60\n",
      "dtype: int64\n",
      "------------------------------------------------------------\n",
      "Darvid Score - 45\n",
      "------------------------------------------------------------\n",
      "Sachin     85\n",
      "Sehwag    120\n",
      "dravid     95\n",
      "sourav     60\n",
      "dtype: int64\n",
      "------------------------------------------------------------\n",
      "Sehwag    120\n",
      "dravid     95\n",
      "dtype: int64\n",
      "------------------------------------------------------------\n",
      "Sachin    85\n",
      "sourav    60\n",
      "dtype: int64\n",
      "------------------------------------------------------------\n",
      "Sachin     8.5\n",
      "Sehwag    12.0\n",
      "dravid     9.5\n",
      "sourav     6.0\n",
      "dtype: float64\n",
      "------------------------------------------------------------\n",
      "Sachin     7225\n",
      "Sehwag    14400\n",
      "dravid     9025\n",
      "sourav     3600\n",
      "dtype: int64\n",
      "------------------------------------------------------------\n",
      "Sachin    False\n",
      "Sehwag    False\n",
      "dravid    False\n",
      "sourav    False\n",
      "dtype: bool\n"
     ]
    }
   ],
   "source": [
    "score = {'Sachin': 85, 'Sehwag': 120, 'dravid': 45, 'sourav': 60}\n",
    "\n",
    "nameSrs = pd.Series(score)\n",
    "\n",
    "print(nameSrs)\n",
    "\n",
    "print(\"-\" * 60)\n",
    "\n",
    "print(\"Darvid Score -\", nameSrs['dravid'])\n",
    "\n",
    "nameSrs['dravid'] = 95\n",
    "\n",
    "print(\"-\" * 60)\n",
    "\n",
    "print(nameSrs)\n",
    "\n",
    "print(\"-\" * 60)\n",
    "\n",
    "print(nameSrs[nameSrs>90])\n",
    "\n",
    "print(\"-\" * 60)\n",
    "\n",
    "print(nameSrs[nameSrs<=90])\n",
    "\n",
    "\"Sachin\" in nameSrs\n",
    "\n",
    "\"dravid\" in nameSrs\n",
    "\n",
    "print(\"-\" * 60)\n",
    "\n",
    "print(nameSrs / 10)\n",
    "print(\"-\" * 60)\n",
    "\n",
    "print(nameSrs ** 2)\n",
    "print(\"-\" * 60)\n",
    "\n",
    "print(nameSrs.isnull())"
   ]
  }
 ],
 "metadata": {
  "kernelspec": {
   "display_name": "Python 3 (ipykernel)",
   "language": "python",
   "name": "python3"
  },
  "language_info": {
   "codemirror_mode": {
    "name": "ipython",
    "version": 3
   },
   "file_extension": ".py",
   "mimetype": "text/x-python",
   "name": "python",
   "nbconvert_exporter": "python",
   "pygments_lexer": "ipython3",
   "version": "3.11.4"
  }
 },
 "nbformat": 4,
 "nbformat_minor": 5
}
