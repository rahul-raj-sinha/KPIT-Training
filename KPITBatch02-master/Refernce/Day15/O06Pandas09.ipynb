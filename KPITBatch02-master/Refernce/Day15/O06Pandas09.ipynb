{
 "cells": [
  {
   "cell_type": "code",
   "execution_count": 1,
   "id": "5577c96a",
   "metadata": {},
   "outputs": [],
   "source": [
    "import pandas as pd\n",
    "import numpy as np\n"
   ]
  },
  {
   "cell_type": "code",
   "execution_count": 3,
   "id": "eeed0573",
   "metadata": {},
   "outputs": [
    {
     "name": "stdout",
     "output_type": "stream",
     "text": [
      "c    0\n",
      "d    1\n",
      "a    2\n",
      "b    3\n",
      "e    4\n",
      "dtype: int64\n"
     ]
    }
   ],
   "source": [
    "srs = pd.Series(range(5), index = ['c', 'd', 'a', 'b', 'e'])\n",
    "print(srs)"
   ]
  },
  {
   "cell_type": "code",
   "execution_count": 5,
   "id": "17d38b40",
   "metadata": {},
   "outputs": [
    {
     "data": {
      "text/plain": [
       "a    2\n",
       "b    3\n",
       "c    0\n",
       "d    1\n",
       "e    4\n",
       "dtype: int64"
      ]
     },
     "execution_count": 5,
     "metadata": {},
     "output_type": "execute_result"
    }
   ],
   "source": [
    "srs.sort_index()"
   ]
  },
  {
   "cell_type": "code",
   "execution_count": 10,
   "id": "9b821134",
   "metadata": {},
   "outputs": [
    {
     "name": "stdout",
     "output_type": "stream",
     "text": [
      "       d  a   c   b\n",
      "two    0  1   2   3\n",
      "one    4  5   6   7\n",
      "three  8  9  10  11\n",
      "------------------------------------------------------------\n",
      "       d  a   c   b\n",
      "one    4  5   6   7\n",
      "three  8  9  10  11\n",
      "two    0  1   2   3\n"
     ]
    }
   ],
   "source": [
    "DF = pd.DataFrame(np.arange(12).reshape(3, 4),\n",
    "                           index = ['two', 'one', 'three'],\n",
    "                           columns=['d', 'a', 'c', 'b'])\n",
    "print(DF)\n",
    "\n",
    "print(\"-\" * 60)\n",
    "\n",
    "print(DF.sort_index())"
   ]
  },
  {
   "cell_type": "code",
   "execution_count": 12,
   "id": "02cfe19c",
   "metadata": {},
   "outputs": [
    {
     "name": "stdout",
     "output_type": "stream",
     "text": [
      "       a   b   c  d\n",
      "two    1   3   2  0\n",
      "one    5   7   6  4\n",
      "three  9  11  10  8\n"
     ]
    }
   ],
   "source": [
    "print(DF.sort_index(axis = 1))"
   ]
  },
  {
   "cell_type": "code",
   "execution_count": 14,
   "id": "e820bdda",
   "metadata": {},
   "outputs": [
    {
     "name": "stdout",
     "output_type": "stream",
     "text": [
      "       d   c   b  a\n",
      "two    0   2   3  1\n",
      "one    4   6   7  5\n",
      "three  8  10  11  9\n"
     ]
    }
   ],
   "source": [
    "print(DF.sort_index(axis = 1, ascending=False))"
   ]
  },
  {
   "cell_type": "code",
   "execution_count": 16,
   "id": "21210f49",
   "metadata": {},
   "outputs": [
    {
     "name": "stdout",
     "output_type": "stream",
     "text": [
      "0    5.0\n",
      "1    NaN\n",
      "2    3.0\n",
      "3   -1.0\n",
      "4    9.0\n",
      "dtype: float64\n"
     ]
    }
   ],
   "source": [
    "srs1 = pd.Series([5, np.nan, 3, -1, 9])\n",
    "print(srs1)\n"
   ]
  },
  {
   "cell_type": "code",
   "execution_count": 18,
   "id": "a4af5128",
   "metadata": {},
   "outputs": [
    {
     "name": "stdout",
     "output_type": "stream",
     "text": [
      "3   -1.0\n",
      "2    3.0\n",
      "0    5.0\n",
      "4    9.0\n",
      "1    NaN\n",
      "dtype: float64\n"
     ]
    }
   ],
   "source": [
    "print(srs1.sort_values())"
   ]
  },
  {
   "cell_type": "code",
   "execution_count": 20,
   "id": "11c1eb16",
   "metadata": {},
   "outputs": [
    {
     "name": "stdout",
     "output_type": "stream",
     "text": [
      "   a  b\n",
      "0  5  1\n",
      "1  3 -2\n",
      "2 -1  0\n",
      "3  9  5\n"
     ]
    }
   ],
   "source": [
    "DF1 = pd.DataFrame({\"a\": [5, 3, -1, 9], \"b\": [1, -2, 0, 5]})\n",
    "print(DF1)"
   ]
  },
  {
   "cell_type": "code",
   "execution_count": 22,
   "id": "354b8b40",
   "metadata": {},
   "outputs": [
    {
     "name": "stdout",
     "output_type": "stream",
     "text": [
      "   a  b\n",
      "1  3 -2\n",
      "2 -1  0\n",
      "0  5  1\n",
      "3  9  5\n"
     ]
    }
   ],
   "source": [
    "print(DF1.sort_values(by='b'))"
   ]
  },
  {
   "cell_type": "code",
   "execution_count": 24,
   "id": "6f905259",
   "metadata": {},
   "outputs": [
    {
     "name": "stdout",
     "output_type": "stream",
     "text": [
      "   a  b\n",
      "2 -1  0\n",
      "1  3 -2\n",
      "0  5  1\n",
      "3  9  5\n"
     ]
    }
   ],
   "source": [
    "print(DF1.sort_values(by=['a', 'b']))"
   ]
  },
  {
   "cell_type": "code",
   "execution_count": 26,
   "id": "8a19698e",
   "metadata": {},
   "outputs": [
    {
     "name": "stdout",
     "output_type": "stream",
     "text": [
      "   a  b\n",
      "2 -1  0\n",
      "1  3 -2\n",
      "0  5  1\n",
      "3  9  5\n"
     ]
    }
   ],
   "source": [
    "print(DF1.sort_values(by=\"a\"))"
   ]
  },
  {
   "cell_type": "code",
   "execution_count": 28,
   "id": "5d8a4f08",
   "metadata": {},
   "outputs": [
    {
     "name": "stdout",
     "output_type": "stream",
     "text": [
      "        Rank                                              Name Platform  \\\n",
      "0          1                                        Wii Sports      Wii   \n",
      "1          2                                 Super Mario Bros.      NES   \n",
      "2          3                                    Mario Kart Wii      Wii   \n",
      "3          4                                 Wii Sports Resort      Wii   \n",
      "4          5                          Pokemon Red/Pokemon Blue       GB   \n",
      "...      ...                                               ...      ...   \n",
      "16593  16596                Woody Woodpecker in Crazy Castle 5      GBA   \n",
      "16594  16597                     Men in Black II: Alien Escape       GC   \n",
      "16595  16598  SCORE International Baja 1000: The Official Game      PS2   \n",
      "16596  16599                                        Know How 2       DS   \n",
      "16597  16600                                  Spirits & Spells      GBA   \n",
      "\n",
      "         Year         Genre   Publisher  NA_Sales  EU_Sales  JP_Sales  \\\n",
      "0      2006.0        Sports    Nintendo     41.49     29.02      3.77   \n",
      "1      1985.0      Platform    Nintendo     29.08      3.58      6.81   \n",
      "2      2008.0        Racing    Nintendo     15.85     12.88      3.79   \n",
      "3      2009.0        Sports    Nintendo     15.75     11.01      3.28   \n",
      "4      1996.0  Role-Playing    Nintendo     11.27      8.89     10.22   \n",
      "...       ...           ...         ...       ...       ...       ...   \n",
      "16593  2002.0      Platform       Kemco      0.01      0.00      0.00   \n",
      "16594  2003.0       Shooter  Infogrames      0.01      0.00      0.00   \n",
      "16595  2008.0        Racing  Activision      0.00      0.00      0.00   \n",
      "16596  2010.0        Puzzle    7G//AMES      0.00      0.01      0.00   \n",
      "16597  2003.0      Platform     Wanadoo      0.01      0.00      0.00   \n",
      "\n",
      "       Other_Sales  Global_Sales  \n",
      "0             8.46         82.74  \n",
      "1             0.77         40.24  \n",
      "2             3.31         35.82  \n",
      "3             2.96         33.00  \n",
      "4             1.00         31.37  \n",
      "...            ...           ...  \n",
      "16593         0.00          0.01  \n",
      "16594         0.00          0.01  \n",
      "16595         0.00          0.01  \n",
      "16596         0.00          0.01  \n",
      "16597         0.00          0.01  \n",
      "\n",
      "[16598 rows x 11 columns]\n"
     ]
    }
   ],
   "source": [
    "data = pd.read_csv(\"C:\\\\Users\\\\Kiran\\\\CDAC\\\\Day15\\\\vgsalesGlobale.csv\")\n",
    "print(data)"
   ]
  },
  {
   "cell_type": "code",
   "execution_count": 31,
   "id": "06043e77",
   "metadata": {},
   "outputs": [
    {
     "name": "stdout",
     "output_type": "stream",
     "text": [
      "9135                ¡Shin Chan Flipa en colores!\n",
      "470                   wwe Smackdown vs. Raw 2006\n",
      "15523               uDraw Studio: Instant Artist\n",
      "7835                uDraw Studio: Instant Artist\n",
      "627                                 uDraw Studio\n",
      "                          ...                   \n",
      "8304               .hack//G.U. Vol.3//Redemption\n",
      "8602     .hack//G.U. Vol.2//Reminisce (jp sales)\n",
      "7107                .hack//G.U. Vol.2//Reminisce\n",
      "8357                  .hack//G.U. Vol.1//Rebirth\n",
      "4754                                 '98 Koshien\n",
      "Name: Name, Length: 16598, dtype: object\n"
     ]
    }
   ],
   "source": [
    "print(data['Name'].sort_values(ascending = False))"
   ]
  },
  {
   "cell_type": "code",
   "execution_count": 33,
   "id": "a3970232",
   "metadata": {},
   "outputs": [
    {
     "name": "stdout",
     "output_type": "stream",
     "text": [
      "        Rank                                     Name Platform    Year  \\\n",
      "4754    4756                              '98 Koshien       PS  1998.0   \n",
      "8357    8359               .hack//G.U. Vol.1//Rebirth      PS2  2006.0   \n",
      "7107    7109             .hack//G.U. Vol.2//Reminisce      PS2  2006.0   \n",
      "8602    8604  .hack//G.U. Vol.2//Reminisce (jp sales)      PS2  2006.0   \n",
      "8304    8306            .hack//G.U. Vol.3//Redemption      PS2  2007.0   \n",
      "...      ...                                      ...      ...     ...   \n",
      "627      628                             uDraw Studio      Wii  2010.0   \n",
      "7835    7837             uDraw Studio: Instant Artist      Wii  2011.0   \n",
      "15523  15526             uDraw Studio: Instant Artist     X360  2011.0   \n",
      "470      471               wwe Smackdown vs. Raw 2006      PS2     NaN   \n",
      "9135    9137             ¡Shin Chan Flipa en colores!       DS  2007.0   \n",
      "\n",
      "              Genre           Publisher  NA_Sales  EU_Sales  JP_Sales  \\\n",
      "4754         Sports     Magical Company      0.15      0.10      0.12   \n",
      "8357   Role-Playing  Namco Bandai Games      0.00      0.00      0.17   \n",
      "7107   Role-Playing  Namco Bandai Games      0.11      0.09      0.00   \n",
      "8602   Role-Playing  Namco Bandai Games      0.00      0.00      0.16   \n",
      "8304   Role-Playing  Namco Bandai Games      0.00      0.00      0.17   \n",
      "...             ...                 ...       ...       ...       ...   \n",
      "627            Misc                 THQ      1.67      0.58      0.00   \n",
      "7835           Misc                 THQ      0.08      0.09      0.00   \n",
      "15523          Misc                 THQ      0.01      0.01      0.00   \n",
      "470        Fighting                 NaN      1.57      1.02      0.00   \n",
      "9135       Platform           505 Games      0.00      0.00      0.14   \n",
      "\n",
      "       Other_Sales  Global_Sales  \n",
      "4754          0.03          0.41  \n",
      "8357          0.00          0.17  \n",
      "7107          0.03          0.23  \n",
      "8602          0.00          0.16  \n",
      "8304          0.00          0.17  \n",
      "...            ...           ...  \n",
      "627           0.20          2.46  \n",
      "7835          0.02          0.19  \n",
      "15523         0.00          0.02  \n",
      "470           0.41          3.00  \n",
      "9135          0.00          0.14  \n",
      "\n",
      "[16598 rows x 11 columns]\n"
     ]
    }
   ],
   "source": [
    "print(data.sort_values(\"Name\"))"
   ]
  },
  {
   "cell_type": "code",
   "execution_count": 35,
   "id": "adcf9232",
   "metadata": {},
   "outputs": [
    {
     "name": "stdout",
     "output_type": "stream",
     "text": [
      "        Rank                         Name Platform    Year         Genre  \\\n",
      "6896    6898                     Checkers     2600  1980.0          Misc   \n",
      "2669    2671                       Boxing     2600  1980.0      Fighting   \n",
      "5366    5368                      Freeway     2600  1980.0        Action   \n",
      "1969    1971                     Defender     2600  1980.0          Misc   \n",
      "1766    1768                      Kaboom!     2600  1980.0          Misc   \n",
      "...      ...                          ...      ...     ...           ...   \n",
      "16307  16310                Freaky Flyers       GC     NaN        Racing   \n",
      "16327  16330                    Inversion       PC     NaN       Shooter   \n",
      "16366  16369  Hakuouki: Shinsengumi Kitan      PS3     NaN     Adventure   \n",
      "16427  16430                 Virtua Quest       GC     NaN  Role-Playing   \n",
      "16493  16496                   The Smurfs      3DS     NaN        Action   \n",
      "\n",
      "                Publisher  NA_Sales  EU_Sales  JP_Sales  Other_Sales  \\\n",
      "6896                Atari      0.22      0.01       0.0         0.00   \n",
      "2669           Activision      0.72      0.04       0.0         0.01   \n",
      "5366           Activision      0.32      0.02       0.0         0.00   \n",
      "1969                Atari      0.99      0.05       0.0         0.01   \n",
      "1766           Activision      1.07      0.07       0.0         0.01   \n",
      "...                   ...       ...       ...       ...          ...   \n",
      "16307             Unknown      0.01      0.00       0.0         0.00   \n",
      "16327  Namco Bandai Games      0.01      0.00       0.0         0.00   \n",
      "16366             Unknown      0.01      0.00       0.0         0.00   \n",
      "16427             Unknown      0.01      0.00       0.0         0.00   \n",
      "16493             Unknown      0.00      0.01       0.0         0.00   \n",
      "\n",
      "       Global_Sales  \n",
      "6896           0.24  \n",
      "2669           0.77  \n",
      "5366           0.34  \n",
      "1969           1.05  \n",
      "1766           1.15  \n",
      "...             ...  \n",
      "16307          0.01  \n",
      "16327          0.01  \n",
      "16366          0.01  \n",
      "16427          0.01  \n",
      "16493          0.01  \n",
      "\n",
      "[16598 rows x 11 columns]\n"
     ]
    }
   ],
   "source": [
    "print(data.sort_values('Year'))"
   ]
  },
  {
   "cell_type": "code",
   "execution_count": 38,
   "id": "28a3bd13",
   "metadata": {},
   "outputs": [
    {
     "name": "stdout",
     "output_type": "stream",
     "text": [
      "        Rank                                        Name Platform    Year  \\\n",
      "258      259                                   Asteroids     2600  1980.0   \n",
      "2669    2671                                      Boxing     2600  1980.0   \n",
      "6317    6319                                      Bridge     2600  1980.0   \n",
      "6896    6898                                    Checkers     2600  1980.0   \n",
      "1969    1971                                    Defender     2600  1980.0   \n",
      "...      ...                                         ...      ...     ...   \n",
      "7351    7353              Yu Yu Hakusho: Dark Tournament      PS2     NaN   \n",
      "15476  15479  Yu-Gi-Oh! 5D's Wheelie Breakers (JP sales)      Wii     NaN   \n",
      "11409  11411                    Zero: Tsukihami no Kamen      Wii     NaN   \n",
      "8899    8901                              eJay Clubworld      PS2     NaN   \n",
      "470      471                  wwe Smackdown vs. Raw 2006      PS2     NaN   \n",
      "\n",
      "          Genre           Publisher  NA_Sales  EU_Sales  JP_Sales  \\\n",
      "258     Shooter               Atari      4.00      0.26      0.00   \n",
      "2669   Fighting          Activision      0.72      0.04      0.00   \n",
      "6317       Misc          Activision      0.25      0.02      0.00   \n",
      "6896       Misc               Atari      0.22      0.01      0.00   \n",
      "1969       Misc               Atari      0.99      0.05      0.00   \n",
      "...         ...                 ...       ...       ...       ...   \n",
      "7351   Fighting                 NaN      0.10      0.08      0.00   \n",
      "15476    Racing             Unknown      0.00      0.00      0.02   \n",
      "11409    Action            Nintendo      0.00      0.00      0.08   \n",
      "8899       Misc  Empire Interactive      0.07      0.06      0.00   \n",
      "470    Fighting                 NaN      1.57      1.02      0.00   \n",
      "\n",
      "       Other_Sales  Global_Sales  \n",
      "258           0.05          4.31  \n",
      "2669          0.01          0.77  \n",
      "6317          0.00          0.27  \n",
      "6896          0.00          0.24  \n",
      "1969          0.01          1.05  \n",
      "...            ...           ...  \n",
      "7351          0.03          0.21  \n",
      "15476         0.00          0.02  \n",
      "11409         0.00          0.08  \n",
      "8899          0.02          0.15  \n",
      "470           0.41          3.00  \n",
      "\n",
      "[16598 rows x 11 columns]\n"
     ]
    }
   ],
   "source": [
    "print(data.sort_values([\"Year\", \"Name\"]))"
   ]
  },
  {
   "cell_type": "code",
   "execution_count": null,
   "id": "e99c08a9",
   "metadata": {},
   "outputs": [],
   "source": []
  }
 ],
 "metadata": {
  "kernelspec": {
   "display_name": "Python 3 (ipykernel)",
   "language": "python",
   "name": "python3"
  },
  "language_info": {
   "codemirror_mode": {
    "name": "ipython",
    "version": 3
   },
   "file_extension": ".py",
   "mimetype": "text/x-python",
   "name": "python",
   "nbconvert_exporter": "python",
   "pygments_lexer": "ipython3",
   "version": "3.11.4"
  }
 },
 "nbformat": 4,
 "nbformat_minor": 5
}
