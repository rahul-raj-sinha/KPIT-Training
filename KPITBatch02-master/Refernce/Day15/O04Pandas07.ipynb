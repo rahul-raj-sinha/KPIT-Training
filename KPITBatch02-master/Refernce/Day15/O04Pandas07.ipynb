{
 "cells": [
  {
   "cell_type": "code",
   "execution_count": 3,
   "id": "bb187db9",
   "metadata": {},
   "outputs": [],
   "source": [
    "import pandas as pd\n",
    "import numpy as np"
   ]
  },
  {
   "cell_type": "code",
   "execution_count": 5,
   "id": "a523730d",
   "metadata": {},
   "outputs": [
    {
     "name": "stdout",
     "output_type": "stream",
     "text": [
      "a    1\n",
      "b    2\n",
      "c    3\n",
      "d    4\n",
      "dtype: int64\n"
     ]
    }
   ],
   "source": [
    "srs = pd.Series([1, 2, 3, 4], \n",
    "               index=['a', 'b', 'c', 'd'])\n",
    "print(srs)"
   ]
  },
  {
   "cell_type": "code",
   "execution_count": 7,
   "id": "1d947aa5",
   "metadata": {},
   "outputs": [
    {
     "name": "stdout",
     "output_type": "stream",
     "text": [
      "1\n"
     ]
    }
   ],
   "source": [
    "print(srs['a'])"
   ]
  },
  {
   "cell_type": "code",
   "execution_count": 10,
   "id": "c2bf98e8",
   "metadata": {},
   "outputs": [
    {
     "name": "stdout",
     "output_type": "stream",
     "text": [
      "b    2.0\n",
      "d    4.0\n",
      "a    1.0\n",
      "c    3.0\n",
      "e    NaN\n",
      "dtype: float64\n"
     ]
    }
   ],
   "source": [
    "srs1 = srs.reindex([\"b\", \"d\", \"a\", \"c\",\"e\"])\n",
    "print(srs1)"
   ]
  },
  {
   "cell_type": "code",
   "execution_count": 14,
   "id": "f55a57fd",
   "metadata": {},
   "outputs": [
    {
     "name": "stdout",
     "output_type": "stream",
     "text": [
      "0      blue\n",
      "2     green\n",
      "4    yellow\n",
      "dtype: object\n"
     ]
    }
   ],
   "source": [
    "srs2 = pd.Series([\"blue\", \"green\", \"yellow\"], index=[0, 2, 4])\n",
    "\n",
    "print(srs2)"
   ]
  },
  {
   "cell_type": "code",
   "execution_count": 17,
   "id": "6e8dfb83",
   "metadata": {},
   "outputs": [
    {
     "name": "stdout",
     "output_type": "stream",
     "text": [
      "0      blue\n",
      "1      blue\n",
      "2     green\n",
      "3     green\n",
      "4    yellow\n",
      "5    yellow\n",
      "dtype: object\n"
     ]
    }
   ],
   "source": [
    "srs3 = srs2.reindex(range(6), method=\"ffill\")\n",
    "print(srs3)"
   ]
  },
  {
   "cell_type": "code",
   "execution_count": 19,
   "id": "ca79583e",
   "metadata": {},
   "outputs": [
    {
     "name": "stdout",
     "output_type": "stream",
     "text": [
      "   tic  tac  toe\n",
      "a    0    1    2\n",
      "b    3    4    5\n",
      "c    6    7    8\n"
     ]
    }
   ],
   "source": [
    "DF =  pd.DataFrame(np.arange(9).reshape(3, 3),\n",
    "                  index=['a', 'b', 'c'], \n",
    "                  columns = ['tic', 'tac', 'toe'])\n",
    "print(DF)"
   ]
  },
  {
   "cell_type": "code",
   "execution_count": 21,
   "id": "62a49b0f",
   "metadata": {},
   "outputs": [
    {
     "name": "stdout",
     "output_type": "stream",
     "text": [
      "   tic  tac  toe\n",
      "d  NaN  NaN  NaN\n",
      "c  6.0  7.0  8.0\n",
      "b  3.0  4.0  5.0\n",
      "a  0.0  1.0  2.0\n"
     ]
    }
   ],
   "source": [
    "DF1 = DF.reindex(['d', 'c', 'b', 'a'])\n",
    "print(DF1)"
   ]
  },
  {
   "cell_type": "code",
   "execution_count": 28,
   "id": "aeb12f5f",
   "metadata": {},
   "outputs": [
    {
     "name": "stdout",
     "output_type": "stream",
     "text": [
      "   tac  toe  tic\n",
      "d  NaN  NaN  NaN\n",
      "c  7.0  8.0  6.0\n",
      "b  4.0  5.0  3.0\n",
      "a  1.0  2.0  0.0\n"
     ]
    }
   ],
   "source": [
    "names = ['tac', 'toe', 'tic']\n",
    "# print(names)\n",
    "DF2 = DF1.reindex(columns=names)\n",
    "print(DF2)"
   ]
  },
  {
   "cell_type": "code",
   "execution_count": 32,
   "id": "5c136b92",
   "metadata": {},
   "outputs": [
    {
     "name": "stdout",
     "output_type": "stream",
     "text": [
      "   tac  toe  tic\n",
      "c  7.0  8.0  6.0\n",
      "a  1.0  2.0  0.0\n",
      "b  4.0  5.0  3.0\n"
     ]
    }
   ],
   "source": [
    "print(DF2.loc[['c', 'a', 'b']])"
   ]
  },
  {
   "cell_type": "code",
   "execution_count": 35,
   "id": "bc3f4172",
   "metadata": {},
   "outputs": [
    {
     "name": "stdout",
     "output_type": "stream",
     "text": [
      "a    0.0\n",
      "b    1.0\n",
      "c    2.0\n",
      "d    3.0\n",
      "e    4.0\n",
      "dtype: float64\n"
     ]
    }
   ],
   "source": [
    "srs1 = pd.Series(np.arange(5.), \n",
    "                index=['a', 'b', 'c', 'd', 'e'])\n",
    "print(srs1)"
   ]
  },
  {
   "cell_type": "code",
   "execution_count": 38,
   "id": "d5542e5a",
   "metadata": {},
   "outputs": [
    {
     "name": "stdout",
     "output_type": "stream",
     "text": [
      "a    0.0\n",
      "b    1.0\n",
      "c    2.0\n",
      "d    3.0\n",
      "dtype: float64\n"
     ]
    }
   ],
   "source": [
    "srs2 = srs1.drop(\"e\")\n",
    "print(srs2)"
   ]
  },
  {
   "cell_type": "code",
   "execution_count": 40,
   "id": "770e469c",
   "metadata": {},
   "outputs": [
    {
     "name": "stdout",
     "output_type": "stream",
     "text": [
      "a    0.0\n",
      "b    1.0\n",
      "e    4.0\n",
      "dtype: float64\n"
     ]
    }
   ],
   "source": [
    "srs2 = srs1.drop(['c', 'd'])\n",
    "print(srs2)"
   ]
  },
  {
   "cell_type": "code",
   "execution_count": 42,
   "id": "c69150d3",
   "metadata": {},
   "outputs": [
    {
     "name": "stdout",
     "output_type": "stream",
     "text": [
      "        A   B   C   D\n",
      "david   0   1   2   3\n",
      "john    4   5   6   7\n",
      "ben     8   9  10  11\n",
      "mike   12  13  14  15\n"
     ]
    }
   ],
   "source": [
    "DF = pd.DataFrame(np.arange(16).reshape(4, 4), \n",
    "                 index=['david', 'john', 'ben', 'mike'], \n",
    "                 columns=list(\"ABCD\"))\n",
    "print(DF)"
   ]
  },
  {
   "cell_type": "code",
   "execution_count": 44,
   "id": "3392a95b",
   "metadata": {},
   "outputs": [
    {
     "name": "stdout",
     "output_type": "stream",
     "text": [
      "       A   B   C   D\n",
      "john   4   5   6   7\n",
      "mike  12  13  14  15\n"
     ]
    }
   ],
   "source": [
    "DF1 = DF.drop(['david', 'ben'])\n",
    "print(DF1)"
   ]
  },
  {
   "cell_type": "code",
   "execution_count": 46,
   "id": "1e5572b5",
   "metadata": {},
   "outputs": [
    {
     "name": "stdout",
     "output_type": "stream",
     "text": [
      "        B   C   D\n",
      "david   1   2   3\n",
      "john    5   6   7\n",
      "ben     9  10  11\n",
      "mike   13  14  15\n"
     ]
    }
   ],
   "source": [
    "DF2 = DF.drop('A', axis = 1)\n",
    "print(DF2)"
   ]
  },
  {
   "cell_type": "code",
   "execution_count": 50,
   "id": "d28299b4",
   "metadata": {},
   "outputs": [
    {
     "name": "stdout",
     "output_type": "stream",
     "text": [
      "        A   B   C   D\n",
      "david   0   1   2   3\n",
      "ben     8   9  10  11\n",
      "mike   12  13  14  15\n"
     ]
    }
   ],
   "source": [
    "DF2 = DF.drop(\"john\", axis=0)\n",
    "print(DF2)"
   ]
  },
  {
   "cell_type": "code",
   "execution_count": 53,
   "id": "e9b32289",
   "metadata": {},
   "outputs": [
    {
     "name": "stdout",
     "output_type": "stream",
     "text": [
      "A    6.0\n",
      "B    7.0\n",
      "C    8.0\n",
      "D    9.0\n",
      "dtype: float64\n"
     ]
    }
   ],
   "source": [
    "print(DF.mean(axis = 'index'))"
   ]
  },
  {
   "cell_type": "code",
   "execution_count": 54,
   "id": "e71ab437",
   "metadata": {},
   "outputs": [
    {
     "name": "stdout",
     "output_type": "stream",
     "text": [
      "david     1.5\n",
      "john      5.5\n",
      "ben       9.5\n",
      "mike     13.5\n",
      "dtype: float64\n"
     ]
    }
   ],
   "source": [
    "print(DF.mean(axis=\"columns\"))"
   ]
  }
 ],
 "metadata": {
  "kernelspec": {
   "display_name": "Python 3 (ipykernel)",
   "language": "python",
   "name": "python3"
  },
  "language_info": {
   "codemirror_mode": {
    "name": "ipython",
    "version": 3
   },
   "file_extension": ".py",
   "mimetype": "text/x-python",
   "name": "python",
   "nbconvert_exporter": "python",
   "pygments_lexer": "ipython3",
   "version": "3.11.4"
  }
 },
 "nbformat": 4,
 "nbformat_minor": 5
}
