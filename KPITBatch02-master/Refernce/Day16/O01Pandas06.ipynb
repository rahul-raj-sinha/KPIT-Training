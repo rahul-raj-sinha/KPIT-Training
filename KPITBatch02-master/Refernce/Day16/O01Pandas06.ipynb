{
 "cells": [
  {
   "cell_type": "code",
   "execution_count": 9,
   "id": "7e66ecec",
   "metadata": {},
   "outputs": [
    {
     "name": "stdout",
     "output_type": "stream",
     "text": [
      "{'name': ['Sachin', 'Sehwag', 'Yuvraj', 'Sourav', 'Virat'], 'runs': [120, 65, 85, 70, 25], 'opponent': ['WI', 'PAK', 'ENG', 'SA', 'AUS'], 'gender': ['M', 'M', 'M', 'M', 'M']}\n",
      "------------------------------------------------------------\n",
      "     name  runs opponent gender\n",
      "0  Sachin   120       WI      M\n",
      "1  Sehwag    65      PAK      M\n",
      "2  Yuvraj    85      ENG      M\n",
      "3  Sourav    70       SA      M\n",
      "4   Virat    25      AUS      M\n",
      "------------------------------------------------------------\n",
      "Empty DataFrame\n",
      "Columns: [Name, Runs, Opponent, Gender]\n",
      "Index: []\n",
      "------------------------------------------------------------\n",
      "     name  runs opponent gender\n",
      "0  Sachin   120       WI      M\n",
      "1  Sehwag    65      PAK      M\n",
      "2  Yuvraj    85      ENG      M\n",
      "3  Sourav    70       SA      M\n",
      "4   Virat    25      AUS      M\n",
      "------------------------------------------------------------\n",
      "     name  runs opponent gender\n",
      "0  Sachin   120       WI      M\n",
      "1  Sehwag    65      PAK      M\n",
      "2  Yuvraj    85      ENG      M\n",
      "3  Sourav    70       SA      M\n",
      "4   Virat    25      AUS      M\n",
      "------------------------------------------------------------\n"
     ]
    }
   ],
   "source": [
    "import pandas as pd\n",
    "\n",
    "data = {\n",
    "    \"name\":['Sachin', 'Sehwag', 'Yuvraj', 'Sourav', 'Virat'],\n",
    "    \"runs\":[120, 65, 85, 70, 25],\n",
    "    \"opponent\":['WI', 'PAK', 'ENG', 'SA', 'AUS'],\n",
    "    \"gender\":[\"M\", \"M\", \"M\", \"M\", \"M\"]\n",
    "}\n",
    "\n",
    "print(data)\n",
    "\n",
    "sportsDF = pd.DataFrame(data)\n",
    "print(\"-\" * 60)\n",
    "\n",
    "print(sportsDF)\n",
    "print(\"-\" * 60)\n",
    "\n",
    "colDF = pd.DataFrame(data, columns=[\"Name\", \"Runs\", \"Opponent\", \"Gender\"])\n",
    "print(colDF)\n",
    "\n",
    "print(\"-\" * 60)\n",
    "print(sportsDF.head())\n",
    "\n",
    "print(\"-\" * 60)\n",
    "print(sportsDF.tail())\n",
    "\n",
    "print(\"-\" * 60)\n",
    "\n",
    "\n"
   ]
  },
  {
   "cell_type": "code",
   "execution_count": 19,
   "id": "381d952e",
   "metadata": {},
   "outputs": [
    {
     "name": "stdout",
     "output_type": "stream",
     "text": [
      "         name  runs opponent gender\n",
      "one    Sachin   120       WI      M\n",
      "two    Sehwag    65      PAK      M\n",
      "three  Yuvraj    85      ENG      M\n",
      "four   Sourav    70       SA      M\n",
      "five    Virat    25      AUS      M\n"
     ]
    }
   ],
   "source": [
    "DF = pd.DataFrame(data, columns=['name', 'runs', 'opponent', 'gender'],\n",
    "                  index = ['one', 'two', 'three', 'four', 'five'])\n",
    "\n",
    "# column names cannot be changed\n",
    "\n",
    "print(DF)\n"
   ]
  },
  {
   "cell_type": "code",
   "execution_count": 33,
   "id": "22c1c14e",
   "metadata": {},
   "outputs": [
    {
     "name": "stdout",
     "output_type": "stream",
     "text": [
      "         name  runs opponent gender\n",
      "one    Sachin   120       WI      M\n",
      "two    Sehwag    65      PAK      M\n",
      "three  Yuvraj    85      ENG      M\n",
      "four   Sourav    70       SA      M\n",
      "five    Virat    25      AUS      M\n",
      "------------------------------------------------------------\n",
      "one      Sachin\n",
      "two      Sehwag\n",
      "three    Yuvraj\n",
      "four     Sourav\n",
      "five      Virat\n",
      "Name: name, dtype: object\n",
      "------------------------------------------------------------\n",
      "       runs opponent\n",
      "one     120       WI\n",
      "two      65      PAK\n",
      "three    85      ENG\n",
      "four     70       SA\n",
      "five     25      AUS\n",
      "------------------------------------------------------------\n",
      "one      Sachin\n",
      "two      Sehwag\n",
      "three    Yuvraj\n",
      "four     Sourav\n",
      "five      Virat\n",
      "Name: name, dtype: object\n",
      "------------------------------------------------------------\n",
      "name        Sachin\n",
      "runs           120\n",
      "opponent        WI\n",
      "gender           M\n",
      "Name: one, dtype: object\n",
      "------------------------------------------------------------\n",
      "       name  runs opponent gender\n",
      "one  Sachin   120       WI      M\n"
     ]
    }
   ],
   "source": [
    "print(DF)\n",
    "\n",
    "print(\"-\" * 60)\n",
    "\n",
    "print(DF['name'])\n",
    "\n",
    "print(\"-\" * 60)\n",
    "\n",
    "mycols = [\"runs\", \"opponent\"]\n",
    "\n",
    "print(DF[mycols])\n",
    "\n",
    "print(\"-\" * 60)\n",
    "\n",
    "print(DF.name)\n",
    "\n",
    "print(\"-\" * 60)\n",
    "\n",
    "print(DF.loc['one'])\n",
    "\n",
    "print(\"-\" * 60)\n",
    "\n",
    "print(DF.loc[['one']])"
   ]
  },
  {
   "cell_type": "code",
   "execution_count": 35,
   "id": "50c78177",
   "metadata": {},
   "outputs": [
    {
     "name": "stdout",
     "output_type": "stream",
     "text": [
      "        name  runs opponent gender\n",
      "one   Sachin   120       WI      M\n",
      "five   Virat    25      AUS      M\n"
     ]
    }
   ],
   "source": [
    "print(DF.loc[['one', 'five']])"
   ]
  },
  {
   "cell_type": "code",
   "execution_count": 39,
   "id": "408b26d2",
   "metadata": {},
   "outputs": [
    {
     "name": "stdout",
     "output_type": "stream",
     "text": [
      "one      False\n",
      "two       True\n",
      "three    False\n",
      "four      True\n",
      "five      True\n",
      "Name: runs, dtype: bool\n"
     ]
    }
   ],
   "source": [
    "print(DF[\"runs\"] < 80)"
   ]
  },
  {
   "cell_type": "code",
   "execution_count": 48,
   "id": "e033ea34",
   "metadata": {},
   "outputs": [
    {
     "name": "stdout",
     "output_type": "stream",
     "text": [
      "         name  runs opponent gender  benchmrk\n",
      "one    Sachin   120       WI      M     False\n",
      "two    Sehwag    65      PAK      M      True\n",
      "three  Yuvraj    85      ENG      M     False\n",
      "four   Sourav    70       SA      M      True\n",
      "five    Virat    25      AUS      M      True\n",
      "------------------------------------------------------------\n",
      "         name  runs opponent gender\n",
      "one    Sachin   120       WI      M\n",
      "two    Sehwag    65      PAK      M\n",
      "three  Yuvraj    85      ENG      M\n",
      "four   Sourav    70       SA      M\n",
      "five    Virat    25      AUS      M\n"
     ]
    }
   ],
   "source": [
    "DF[\"benchmrk\"] = DF.runs <= 80\n",
    "\n",
    "print(DF)\n",
    "\n",
    "print(\"-\" * 60)\n",
    "\n",
    "del DF[\"benchmrk\"]\n",
    "\n",
    "print(DF)"
   ]
  },
  {
   "cell_type": "code",
   "execution_count": 50,
   "id": "0720b8be",
   "metadata": {
    "collapsed": true
   },
   "outputs": [
    {
     "name": "stdout",
     "output_type": "stream",
     "text": [
      "       Math  Physics\n",
      "Jack     85       90\n",
      "Kevin    90       80\n",
      "Nixon    95       75\n"
     ]
    }
   ],
   "source": [
    "scores = {\"Math\":{\"Jack\": 85, 'Kevin': 90, 'Nixon': 95},  \"Physics\": {\"Jack\": 90, 'Kevin': 80, 'Nixon': 75}}\n",
    "\n",
    "scrDF = pd.DataFrame(scores)\n",
    "\n",
    "print(scrDF)"
   ]
  },
  {
   "cell_type": "code",
   "execution_count": 52,
   "id": "3c5b6a05",
   "metadata": {},
   "outputs": [
    {
     "name": "stdout",
     "output_type": "stream",
     "text": [
      "         Jack  Kevin  Nixon\n",
      "Math       85     90     95\n",
      "Physics    90     80     75\n"
     ]
    }
   ],
   "source": [
    "print(scrDF.T)"
   ]
  },
  {
   "cell_type": "code",
   "execution_count": 57,
   "id": "4a9bfb29",
   "metadata": {},
   "outputs": [
    {
     "name": "stdout",
     "output_type": "stream",
     "text": [
      "Subjects  Math  Physics\n",
      "StudName               \n",
      "Jack        85       90\n",
      "Kevin       90       80\n",
      "Nixon       95       75\n"
     ]
    }
   ],
   "source": [
    "scrDF.index.name=\"StudName\"\n",
    "scrDF.columns.name = \"Subjects\"\n",
    "\n",
    "print(scrDF)\n"
   ]
  },
  {
   "cell_type": "code",
   "execution_count": 59,
   "id": "0f3257c2",
   "metadata": {},
   "outputs": [
    {
     "name": "stdout",
     "output_type": "stream",
     "text": [
      "[[85 90]\n",
      " [90 80]\n",
      " [95 75]]\n"
     ]
    }
   ],
   "source": [
    "print(scrDF.values)"
   ]
  },
  {
   "cell_type": "code",
   "execution_count": null,
   "id": "11f8dea6",
   "metadata": {},
   "outputs": [],
   "source": []
  }
 ],
 "metadata": {
  "kernelspec": {
   "display_name": "Python 3 (ipykernel)",
   "language": "python",
   "name": "python3"
  },
  "language_info": {
   "codemirror_mode": {
    "name": "ipython",
    "version": 3
   },
   "file_extension": ".py",
   "mimetype": "text/x-python",
   "name": "python",
   "nbconvert_exporter": "python",
   "pygments_lexer": "ipython3",
   "version": "3.11.4"
  }
 },
 "nbformat": 4,
 "nbformat_minor": 5
}
