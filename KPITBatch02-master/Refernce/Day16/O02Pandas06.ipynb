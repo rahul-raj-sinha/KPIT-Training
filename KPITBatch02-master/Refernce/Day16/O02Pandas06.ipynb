{
 "cells": [
  {
   "cell_type": "code",
   "execution_count": 5,
   "id": "70cead65",
   "metadata": {},
   "outputs": [
    {
     "name": "stdout",
     "output_type": "stream",
     "text": [
      "a    0\n",
      "b    1\n",
      "c    2\n",
      "d    3\n",
      "e    4\n",
      "dtype: int32\n"
     ]
    }
   ],
   "source": [
    "import pandas as pd\n",
    "import numpy as np\n",
    "\n",
    "DF = pd.Series(np.arange(5), index=[\"a\", \"b\", \"c\", \"d\", \"e\"])\n",
    "print(DF)"
   ]
  },
  {
   "cell_type": "code",
   "execution_count": 7,
   "id": "64e0e4d1",
   "metadata": {},
   "outputs": [
    {
     "name": "stdout",
     "output_type": "stream",
     "text": [
      "2\n"
     ]
    }
   ],
   "source": [
    "print(DF[\"c\"])"
   ]
  },
  {
   "cell_type": "code",
   "execution_count": 9,
   "id": "cedbe46d",
   "metadata": {},
   "outputs": [
    {
     "name": "stdout",
     "output_type": "stream",
     "text": [
      "2\n"
     ]
    }
   ],
   "source": [
    "print(DF[2])"
   ]
  },
  {
   "cell_type": "code",
   "execution_count": 11,
   "id": "ffa17d33",
   "metadata": {},
   "outputs": [
    {
     "name": "stdout",
     "output_type": "stream",
     "text": [
      "a    0\n",
      "b    1\n",
      "c    2\n",
      "dtype: int32\n"
     ]
    }
   ],
   "source": [
    "print(DF[0:3])"
   ]
  },
  {
   "cell_type": "code",
   "execution_count": 15,
   "id": "dff6ce20",
   "metadata": {},
   "outputs": [
    {
     "name": "stdout",
     "output_type": "stream",
     "text": [
      "a    0\n",
      "b    1\n",
      "c    2\n",
      "dtype: int32\n"
     ]
    }
   ],
   "source": [
    "print(DF[\"a\": \"c\"])"
   ]
  },
  {
   "cell_type": "code",
   "execution_count": 19,
   "id": "57e49dfd",
   "metadata": {},
   "outputs": [
    {
     "name": "stdout",
     "output_type": "stream",
     "text": [
      "a     0\n",
      "b    25\n",
      "c    25\n",
      "d     3\n",
      "e     4\n",
      "dtype: int32\n"
     ]
    }
   ],
   "source": [
    "DF[\"b\":\"c\"] = 25\n",
    "\n",
    "print(DF)"
   ]
  },
  {
   "cell_type": "code",
   "execution_count": 27,
   "id": "a86fada2",
   "metadata": {},
   "outputs": [
    {
     "name": "stdout",
     "output_type": "stream",
     "text": [
      "          one  two  three  four\n",
      "london      0    1      2     3\n",
      "paris       4    5      6     7\n",
      "Berlin      8    9     10    11\n",
      "Istanbul   12   13     14    15\n"
     ]
    }
   ],
   "source": [
    "DF = pd.DataFrame(np.arange(16).reshape(4, 4),\n",
    "                 index = [\"london\", \"paris\", \"Berlin\", \"Istanbul\"], \n",
    "                 columns = [\"one\", \"two\", \"three\", \"four\"])\n",
    "\n",
    "print(DF)"
   ]
  },
  {
   "cell_type": "code",
   "execution_count": 29,
   "id": "383d1a74",
   "metadata": {},
   "outputs": [
    {
     "name": "stdout",
     "output_type": "stream",
     "text": [
      "london       1\n",
      "paris        5\n",
      "Berlin       9\n",
      "Istanbul    13\n",
      "Name: two, dtype: int32\n"
     ]
    }
   ],
   "source": [
    "print(DF[\"two\"])"
   ]
  },
  {
   "cell_type": "code",
   "execution_count": 33,
   "id": "a4b2748e",
   "metadata": {},
   "outputs": [
    {
     "name": "stdout",
     "output_type": "stream",
     "text": [
      "          one  two\n",
      "london      0    1\n",
      "paris       4    5\n",
      "Berlin      8    9\n",
      "Istanbul   12   13\n"
     ]
    }
   ],
   "source": [
    "print(DF[[\"one\", \"two\"]])"
   ]
  },
  {
   "cell_type": "code",
   "execution_count": 36,
   "id": "ffc9fe20",
   "metadata": {},
   "outputs": [
    {
     "name": "stdout",
     "output_type": "stream",
     "text": [
      "          one  two  three  four\n",
      "paris       4    5      6     7\n",
      "Berlin      8    9     10    11\n",
      "Istanbul   12   13     14    15\n"
     ]
    }
   ],
   "source": [
    "print(DF[DF[\"four\"]> 5])"
   ]
  },
  {
   "cell_type": "code",
   "execution_count": 38,
   "id": "bcd67cb0",
   "metadata": {},
   "outputs": [
    {
     "name": "stdout",
     "output_type": "stream",
     "text": [
      "        one  two  three  four\n",
      "london    0    1      2     3\n",
      "paris     4    5      6     7\n",
      "Berlin    8    9     10    11\n"
     ]
    }
   ],
   "source": [
    "print(DF[:3])"
   ]
  },
  {
   "cell_type": "code",
   "execution_count": 42,
   "id": "147db111",
   "metadata": {},
   "outputs": [
    {
     "name": "stdout",
     "output_type": "stream",
     "text": [
      "          one  two  three  four\n",
      "paris       4    5      6     7\n",
      "Berlin      8    9     10    11\n",
      "Istanbul   12   13     14    15\n"
     ]
    }
   ],
   "source": [
    "print(DF[DF[\"four\"]>5])"
   ]
  },
  {
   "cell_type": "code",
   "execution_count": 48,
   "id": "ce2d9925",
   "metadata": {},
   "outputs": [
    {
     "name": "stdout",
     "output_type": "stream",
     "text": [
      "          one  two  three  four\n",
      "london      0    0      0     0\n",
      "paris       0    5      6     7\n",
      "Berlin      8    9     10    11\n",
      "Istanbul   12   13     14    15\n"
     ]
    }
   ],
   "source": [
    "DF[DF<5]=0\n",
    "print(DF)"
   ]
  },
  {
   "cell_type": "code",
   "execution_count": 51,
   "id": "ae298b66",
   "metadata": {},
   "outputs": [
    {
     "name": "stdout",
     "output_type": "stream",
     "text": [
      "          one  two  three  four\n",
      "london      0    0      0     0\n",
      "paris       0    5      6     7\n",
      "Berlin      8    9     10    11\n",
      "Istanbul   12   13     14    15\n",
      "------------------------------------------------------------\n",
      "one      0\n",
      "two      5\n",
      "three    6\n",
      "four     7\n",
      "Name: paris, dtype: int32\n"
     ]
    }
   ],
   "source": [
    "# selecting with loc and iloc\n",
    "print(DF)\n",
    "\n",
    "print(\"-\" * 60)\n",
    "\n",
    "print(DF.iloc[1])"
   ]
  },
  {
   "cell_type": "code",
   "execution_count": 53,
   "id": "305a7229",
   "metadata": {},
   "outputs": [
    {
     "name": "stdout",
     "output_type": "stream",
     "text": [
      "two      5\n",
      "three    6\n",
      "four     7\n",
      "Name: paris, dtype: int32\n"
     ]
    }
   ],
   "source": [
    "print(DF.iloc[1, [1, 2, 3]])"
   ]
  },
  {
   "cell_type": "code",
   "execution_count": 55,
   "id": "10a779e1",
   "metadata": {},
   "outputs": [
    {
     "name": "stdout",
     "output_type": "stream",
     "text": [
      "        two  three  four\n",
      "paris     5      6     7\n",
      "Berlin    9     10    11\n"
     ]
    }
   ],
   "source": [
    "print(DF.iloc[1:3, [1, 2, 3]])"
   ]
  },
  {
   "cell_type": "code",
   "execution_count": 58,
   "id": "df25cce9",
   "metadata": {},
   "outputs": [
    {
     "name": "stdout",
     "output_type": "stream",
     "text": [
      "one    0\n",
      "two    5\n",
      "Name: paris, dtype: int32\n"
     ]
    }
   ],
   "source": [
    "print(DF.loc['paris', ['one', 'two']])"
   ]
  },
  {
   "cell_type": "code",
   "execution_count": 60,
   "id": "95a04535",
   "metadata": {},
   "outputs": [
    {
     "name": "stdout",
     "output_type": "stream",
     "text": [
      "          one  two  three  four\n",
      "london      0    0      0     0\n",
      "paris       0    5      6     7\n",
      "Berlin      8    9     10    11\n",
      "Istanbul   12   13     14    15\n",
      "------------------------------------------------------------\n",
      "london    0\n",
      "paris     7\n",
      "Name: four, dtype: int32\n"
     ]
    }
   ],
   "source": [
    "print(DF)\n",
    "print(\"-\" * 60)\n",
    "print(DF.loc[:\"paris\", \"four\"])"
   ]
  }
 ],
 "metadata": {
  "kernelspec": {
   "display_name": "Python 3 (ipykernel)",
   "language": "python",
   "name": "python3"
  },
  "language_info": {
   "codemirror_mode": {
    "name": "ipython",
    "version": 3
   },
   "file_extension": ".py",
   "mimetype": "text/x-python",
   "name": "python",
   "nbconvert_exporter": "python",
   "pygments_lexer": "ipython3",
   "version": "3.11.4"
  }
 },
 "nbformat": 4,
 "nbformat_minor": 5
}
