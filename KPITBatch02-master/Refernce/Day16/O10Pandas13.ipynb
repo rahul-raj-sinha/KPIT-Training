{
 "cells": [
  {
   "cell_type": "code",
   "execution_count": 2,
   "id": "c9dc61d2",
   "metadata": {},
   "outputs": [],
   "source": [
    "import pandas as pd"
   ]
  },
  {
   "cell_type": "code",
   "execution_count": 5,
   "id": "c3f1a5c7",
   "metadata": {},
   "outputs": [
    {
     "name": "stdout",
     "output_type": "stream",
     "text": [
      "     a  b\n",
      "0  one  1\n",
      "1  two  1\n",
      "2  one  2\n",
      "3  two  3\n",
      "4  one  2\n",
      "5  two  3\n"
     ]
    }
   ],
   "source": [
    "DF = pd.DataFrame({\"a\": ['one',  'two']*3,\n",
    "                   \"b\":[1, 1, 2, 3, 2, 3]})\n",
    "print(DF)"
   ]
  },
  {
   "cell_type": "code",
   "execution_count": 8,
   "id": "4b392ee6",
   "metadata": {},
   "outputs": [
    {
     "name": "stdout",
     "output_type": "stream",
     "text": [
      "0    False\n",
      "1    False\n",
      "2    False\n",
      "3    False\n",
      "4     True\n",
      "5     True\n",
      "dtype: bool\n"
     ]
    }
   ],
   "source": [
    "print(DF.duplicated())"
   ]
  },
  {
   "cell_type": "code",
   "execution_count": 10,
   "id": "af559924",
   "metadata": {},
   "outputs": [
    {
     "name": "stdout",
     "output_type": "stream",
     "text": [
      "     a  b\n",
      "0  one  1\n",
      "1  two  1\n",
      "2  one  2\n",
      "3  two  3\n"
     ]
    }
   ],
   "source": [
    "res = DF.drop_duplicates()\n",
    "print(res)"
   ]
  },
  {
   "cell_type": "code",
   "execution_count": 12,
   "id": "1d3643ef",
   "metadata": {},
   "outputs": [
    {
     "name": "stdout",
     "output_type": "stream",
     "text": [
      "     a  b  c\n",
      "0  one  1  0\n",
      "1  two  1  1\n",
      "2  one  2  2\n",
      "3  two  3  3\n",
      "4  one  2  4\n",
      "5  two  3  5\n"
     ]
    }
   ],
   "source": [
    "DF[\"c\"] = range(6)\n",
    "print(DF)"
   ]
  },
  {
   "cell_type": "code",
   "execution_count": 15,
   "id": "00acc1c4",
   "metadata": {},
   "outputs": [
    {
     "name": "stdout",
     "output_type": "stream",
     "text": [
      "0    False\n",
      "1    False\n",
      "2     True\n",
      "3     True\n",
      "4    False\n",
      "5    False\n",
      "dtype: bool\n"
     ]
    }
   ],
   "source": [
    "res = DF.duplicated([\"a\", \"b\"], keep=\"last\")\n",
    "print(res)"
   ]
  },
  {
   "cell_type": "code",
   "execution_count": 17,
   "id": "08cb1328",
   "metadata": {},
   "outputs": [
    {
     "name": "stdout",
     "output_type": "stream",
     "text": [
      "  names  Scores\n",
      "0   Tim      60\n",
      "1   Tom      50\n",
      "2   Sam      70\n",
      "3  Kate      80\n",
      "4   Kim      40\n"
     ]
    }
   ],
   "source": [
    "DF1 = pd.DataFrame({'names': ['Tim', 'Tom', 'Sam', 'Kate', 'Kim'],\n",
    "                   'Scores': [60, 50, 70, 80, 40]})\n",
    "print(DF1)"
   ]
  },
  {
   "cell_type": "code",
   "execution_count": 19,
   "id": "e14b5441",
   "metadata": {},
   "outputs": [],
   "source": [
    "classes = {\"Tim\":\"A\", \"Tom\":\"A\", \"Sam\":\"B\", \"Kate\":\"B\", \"Kim\":\"B\"}"
   ]
  },
  {
   "cell_type": "code",
   "execution_count": 24,
   "id": "58da0d9c",
   "metadata": {},
   "outputs": [
    {
     "name": "stdout",
     "output_type": "stream",
     "text": [
      "0     Tim\n",
      "1     Tom\n",
      "2     Sam\n",
      "3    Kate\n",
      "4     Kim\n",
      "Name: names, dtype: object\n"
     ]
    }
   ],
   "source": [
    "resDF = DF1[\"names\"].str.capitalize()\n",
    "print(resDF)"
   ]
  },
  {
   "cell_type": "code",
   "execution_count": 28,
   "id": "86cbb5d6",
   "metadata": {},
   "outputs": [
    {
     "name": "stdout",
     "output_type": "stream",
     "text": [
      "{'Tim': 'A', 'Tom': 'A', 'Sam': 'B', 'Kate': 'B', 'Kim': 'B'}\n",
      "------------------------------------------------------------\n",
      "  names  Scores branches\n",
      "0   Tim      60        A\n",
      "1   Tom      50        A\n",
      "2   Sam      70        B\n",
      "3  Kate      80        B\n",
      "4   Kim      40        B\n"
     ]
    }
   ],
   "source": [
    "print(classes)\n",
    "print(\"-\" * 60)\n",
    "DF1[\"branches\"] = resDF.map(classes)\n",
    "print(DF1)"
   ]
  },
  {
   "cell_type": "code",
   "execution_count": 29,
   "id": "3bc43983",
   "metadata": {},
   "outputs": [
    {
     "name": "stdout",
     "output_type": "stream",
     "text": [
      "0    80\n",
      "1    70\n",
      "2    90\n",
      "3    60\n",
      "dtype: int64\n"
     ]
    }
   ],
   "source": [
    "srs = pd.Series([80, 70, 90, 60])\n",
    "print(srs)"
   ]
  }
 ],
 "metadata": {
  "kernelspec": {
   "display_name": "Python 3 (ipykernel)",
   "language": "python",
   "name": "python3"
  },
  "language_info": {
   "codemirror_mode": {
    "name": "ipython",
    "version": 3
   },
   "file_extension": ".py",
   "mimetype": "text/x-python",
   "name": "python",
   "nbconvert_exporter": "python",
   "pygments_lexer": "ipython3",
   "version": "3.11.4"
  }
 },
 "nbformat": 4,
 "nbformat_minor": 5
}
