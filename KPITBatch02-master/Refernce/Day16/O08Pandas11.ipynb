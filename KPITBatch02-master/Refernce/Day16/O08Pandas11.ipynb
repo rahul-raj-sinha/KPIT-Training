{
 "cells": [
  {
   "cell_type": "code",
   "execution_count": 2,
   "id": "91c23071",
   "metadata": {},
   "outputs": [],
   "source": [
    "import pandas as pd\n",
    "import numpy as np"
   ]
  },
  {
   "cell_type": "code",
   "execution_count": 4,
   "id": "914ccf59",
   "metadata": {},
   "outputs": [
    {
     "name": "stdout",
     "output_type": "stream",
     "text": [
      "  name  score sex\n",
      "0  Tim     80   M\n",
      "1  Tom     85   M\n",
      "2  Kim     70   F\n",
      "3  Sam     90   M\n",
      "4  Efe     75   M\n"
     ]
    }
   ],
   "source": [
    "DF1 = pd.read_table(\"C:\\\\Users\\\\Kiran\\\\CDAC\\\\Untitled Folder\\\\data.txt\")\n",
    "print(DF1)"
   ]
  },
  {
   "cell_type": "code",
   "execution_count": 12,
   "id": "cc530f5a",
   "metadata": {},
   "outputs": [
    {
     "name": "stdout",
     "output_type": "stream",
     "text": [
      "      0   1  2\n",
      "0   Tom  80  M\n",
      "1   Tim  85  M\n",
      "2   Kim  70  M\n",
      "3  Kate  90  F\n",
      "4  Alex  75  F\n"
     ]
    }
   ],
   "source": [
    "DF2 = pd.read_table(\"C:\\\\Users\\\\Kiran\\CDAC\\\\Untitled Folder\\\\data2.txt\", sep=\",\", header=None)\n",
    "print(DF2)"
   ]
  },
  {
   "cell_type": "code",
   "execution_count": 18,
   "id": "a75119e7",
   "metadata": {},
   "outputs": [
    {
     "name": "stdout",
     "output_type": "stream",
     "text": [
      "        name score gender\n",
      "lesson  name   one    two\n",
      "Math     Kim    80     85\n",
      "Math     Tim    90     70\n",
      "Math     Tom    70     95\n",
      "Stat    Kate    65     90\n",
      "Stat    Alex    85     80\n",
      "Stat     Sam    55     70\n"
     ]
    }
   ],
   "source": [
    "DF2 = pd.read_table(\"C:\\\\Users\\\\Kiran\\CDAC\\\\Untitled Folder\\\\data2.txt\", \n",
    "                    sep=\",\", header=None, \n",
    "                   names=[\"name\", \"score\", \"gender\"])\n",
    "print(DF2)"
   ]
  },
  {
   "cell_type": "code",
   "execution_count": 23,
   "id": "095a0727",
   "metadata": {},
   "outputs": [
    {
     "name": "stdout",
     "output_type": "stream",
     "text": [
      "             one  two\n",
      "lesson name          \n",
      "Math   Kim    80   85\n",
      "       Tim    90   70\n",
      "       Tom    70   95\n",
      "Stat   Kate   65   90\n",
      "       Alex   85   80\n",
      "       Sam    55   70\n"
     ]
    }
   ],
   "source": [
    "DF3=pd.read_table(\"C:\\\\Users\\\\Kiran\\CDAC\\\\Untitled Folder\\\\data3.txt\",\n",
    "                  sep=\",\",\n",
    "                  index_col=[\"lesson\",\"name\"])\n",
    "\n",
    "print(DF3)\n"
   ]
  },
  {
   "cell_type": "code",
   "execution_count": 26,
   "id": "fb0b704a",
   "metadata": {},
   "outputs": [
    {
     "name": "stdout",
     "output_type": "stream",
     "text": [
      "                          #hello\n",
      "name                score    sex\n",
      "#scores of students NaN      NaN\n",
      "Tim                 80         M\n",
      "Kate                85         F\n",
      "Alex                70         M\n",
      "Tom                 90         M\n",
      "Kim                 75         F\n"
     ]
    }
   ],
   "source": [
    "DF4 = pd.read_table(\"C:\\\\Users\\\\Kiran\\CDAC\\\\Untitled Folder\\\\data4.txt\",\n",
    "                  sep=\",\")\n",
    "\n",
    "print(DF4)"
   ]
  },
  {
   "cell_type": "code",
   "execution_count": 28,
   "id": "67e51383",
   "metadata": {},
   "outputs": [
    {
     "name": "stdout",
     "output_type": "stream",
     "text": [
      "   name  score sex\n",
      "0   Tim     80   M\n",
      "1  Kate     85   F\n",
      "2  Alex     70   M\n",
      "3   Tom     90   M\n",
      "4   Kim     75   F\n"
     ]
    }
   ],
   "source": [
    "DF4 = pd.read_table(\"C:\\\\Users\\\\Kiran\\CDAC\\\\Untitled Folder\\\\data4.txt\",\n",
    "                  sep=\",\", skiprows=[0, 2])\n",
    "\n",
    "print(DF4)"
   ]
  },
  {
   "cell_type": "code",
   "execution_count": 32,
   "id": "acf2ae05",
   "metadata": {},
   "outputs": [
    {
     "name": "stdout",
     "output_type": "stream",
     "text": [
      "  name  score sex\n",
      "0  Tim     80   M\n",
      "1  Tom     85   M\n",
      "2  Kim     70   F\n",
      "3  Sam     90   M\n",
      "4  Efe     75   M\n"
     ]
    }
   ],
   "source": [
    "DF1 = pd.read_csv(\"C:\\\\Users\\\\Kiran\\CDAC\\\\Untitled Folder\\\\data.txt\", sep='\\t')\n",
    "print(DF1)"
   ]
  },
  {
   "cell_type": "code",
   "execution_count": 33,
   "id": "c24095df",
   "metadata": {},
   "outputs": [],
   "source": [
    "DF1.to_csv(\"C:\\\\Users\\\\Kiran\\CDAC\\\\Untitled Folder\\\\data.csv\")"
   ]
  }
 ],
 "metadata": {
  "kernelspec": {
   "display_name": "Python 3 (ipykernel)",
   "language": "python",
   "name": "python3"
  },
  "language_info": {
   "codemirror_mode": {
    "name": "ipython",
    "version": 3
   },
   "file_extension": ".py",
   "mimetype": "text/x-python",
   "name": "python",
   "nbconvert_exporter": "python",
   "pygments_lexer": "ipython3",
   "version": "3.11.4"
  }
 },
 "nbformat": 4,
 "nbformat_minor": 5
}
