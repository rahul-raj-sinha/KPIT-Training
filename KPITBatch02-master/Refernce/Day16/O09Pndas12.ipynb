{
 "cells": [
  {
   "cell_type": "code",
   "execution_count": 2,
   "id": "64aecac3",
   "metadata": {},
   "outputs": [],
   "source": [
    "import pandas as pd\n",
    "import numpy as np"
   ]
  },
  {
   "cell_type": "code",
   "execution_count": 4,
   "id": "248b6344",
   "metadata": {},
   "outputs": [
    {
     "name": "stdout",
     "output_type": "stream",
     "text": [
      "0    Sam\n",
      "1    NaN\n",
      "2    Tim\n",
      "3    Kim\n",
      "dtype: object\n"
     ]
    }
   ],
   "source": [
    "srs = pd.Series(['Sam', np.nan, \"Tim\", \"Kim\"])\n",
    "print(srs)"
   ]
  },
  {
   "cell_type": "code",
   "execution_count": 6,
   "id": "1b8fa962",
   "metadata": {},
   "outputs": [
    {
     "name": "stdout",
     "output_type": "stream",
     "text": [
      "0    False\n",
      "1     True\n",
      "2    False\n",
      "3    False\n",
      "dtype: bool\n"
     ]
    }
   ],
   "source": [
    "print(srs.isnull())"
   ]
  },
  {
   "cell_type": "code",
   "execution_count": 9,
   "id": "7f44a87e",
   "metadata": {},
   "outputs": [
    {
     "name": "stdout",
     "output_type": "stream",
     "text": [
      "0    False\n",
      "1     True\n",
      "2    False\n",
      "3     True\n",
      "dtype: bool\n"
     ]
    }
   ],
   "source": [
    "srs[3] = None\n",
    "print(srs.isnull())"
   ]
  },
  {
   "cell_type": "code",
   "execution_count": 12,
   "id": "948c1651",
   "metadata": {},
   "outputs": [
    {
     "name": "stdout",
     "output_type": "stream",
     "text": [
      "0    Sam\n",
      "2    Tim\n",
      "dtype: object\n"
     ]
    }
   ],
   "source": [
    "res = srs.dropna()\n",
    "print(res)"
   ]
  },
  {
   "cell_type": "code",
   "execution_count": 14,
   "id": "dc42d795",
   "metadata": {},
   "outputs": [],
   "source": [
    "from numpy import nan as NA"
   ]
  },
  {
   "cell_type": "code",
   "execution_count": 16,
   "id": "0bb0c22b",
   "metadata": {},
   "outputs": [
    {
     "name": "stdout",
     "output_type": "stream",
     "text": [
      "     0    1    2\n",
      "0  1.0  2.0  3.0\n",
      "1  4.0  NaN  5.0\n",
      "2  NaN  NaN  NaN\n"
     ]
    }
   ],
   "source": [
    "DF = pd.DataFrame([[1, 2, 3],  [4, NA, 5], \n",
    "                  [NA, NA, NA]])\n",
    "print(DF)"
   ]
  },
  {
   "cell_type": "code",
   "execution_count": 18,
   "id": "079a4787",
   "metadata": {},
   "outputs": [
    {
     "name": "stdout",
     "output_type": "stream",
     "text": [
      "     0    1    2\n",
      "0  1.0  2.0  3.0\n"
     ]
    }
   ],
   "source": [
    "res = DF.dropna()\n",
    "print(res)"
   ]
  },
  {
   "cell_type": "code",
   "execution_count": 20,
   "id": "9bfd17b0",
   "metadata": {},
   "outputs": [
    {
     "name": "stdout",
     "output_type": "stream",
     "text": [
      "     0    1    2\n",
      "0  1.0  2.0  3.0\n",
      "1  4.0  NaN  5.0\n",
      "2  NaN  NaN  NaN\n"
     ]
    }
   ],
   "source": [
    "print(DF)"
   ]
  },
  {
   "cell_type": "code",
   "execution_count": 22,
   "id": "d16191a2",
   "metadata": {},
   "outputs": [
    {
     "name": "stdout",
     "output_type": "stream",
     "text": [
      "     0   1    2\n",
      "0  1.0 NaN  3.0\n",
      "1  4.0 NaN  5.0\n",
      "2  NaN NaN  NaN\n"
     ]
    }
   ],
   "source": [
    "DF[1] = NA\n",
    "print(DF)"
   ]
  },
  {
   "cell_type": "code",
   "execution_count": 36,
   "id": "52be1e97",
   "metadata": {},
   "outputs": [
    {
     "name": "stdout",
     "output_type": "stream",
     "text": [
      "     0   1    2\n",
      "0  1.0 NaN  3.0\n",
      "1  4.0 NaN  5.0\n"
     ]
    }
   ],
   "source": [
    "res = DF.dropna(thresh=2, axis=0)\n",
    "print(res)"
   ]
  },
  {
   "cell_type": "code",
   "execution_count": 37,
   "id": "9d968c39",
   "metadata": {},
   "outputs": [
    {
     "name": "stdout",
     "output_type": "stream",
     "text": [
      "     0    2\n",
      "0  1.0  3.0\n",
      "1  4.0  5.0\n",
      "2  NaN  NaN\n"
     ]
    }
   ],
   "source": [
    "res = DF.dropna(thresh=2, axis=1)\n",
    "print(res)"
   ]
  },
  {
   "cell_type": "code",
   "execution_count": 39,
   "id": "3689d78f",
   "metadata": {},
   "outputs": [
    {
     "name": "stdout",
     "output_type": "stream",
     "text": [
      "     0    1    2\n",
      "0  1.0  0.0  3.0\n",
      "1  4.0  0.0  5.0\n",
      "2  0.0  0.0  0.0\n"
     ]
    }
   ],
   "source": [
    "res = DF.fillna(0)\n",
    "print(res)"
   ]
  },
  {
   "cell_type": "code",
   "execution_count": 41,
   "id": "25243c68",
   "metadata": {},
   "outputs": [
    {
     "name": "stdout",
     "output_type": "stream",
     "text": [
      "      0     1     2\n",
      "0   1.0  25.0   3.0\n",
      "1   4.0  25.0   5.0\n",
      "2  15.0  25.0  35.0\n"
     ]
    }
   ],
   "source": [
    "res = DF.fillna({0:15, 1:25, 2:35})\n",
    "print(res)"
   ]
  },
  {
   "cell_type": "code",
   "execution_count": 43,
   "id": "27a29135",
   "metadata": {},
   "outputs": [
    {
     "name": "stdout",
     "output_type": "stream",
     "text": [
      "     0   1    2\n",
      "0  1.0 NaN  3.0\n",
      "1  4.0 NaN  5.0\n",
      "2  NaN NaN  NaN\n"
     ]
    }
   ],
   "source": [
    "print(DF)"
   ]
  },
  {
   "cell_type": "code",
   "execution_count": 45,
   "id": "bda2e776",
   "metadata": {},
   "outputs": [
    {
     "name": "stdout",
     "output_type": "stream",
     "text": [
      "     0    1    2\n",
      "0  1.0  2.0  3.0\n",
      "1  4.0  NaN  5.0\n",
      "2  NaN  NaN  NaN\n"
     ]
    }
   ],
   "source": [
    "DF1 = pd.DataFrame([[1, 2, 3], [4, NA, 5], [NA, NA, NA]])\n",
    "print(DF1)"
   ]
  },
  {
   "cell_type": "code",
   "execution_count": 48,
   "id": "2935aa91",
   "metadata": {},
   "outputs": [
    {
     "name": "stdout",
     "output_type": "stream",
     "text": [
      "     0    1    2\n",
      "0  1.0  2.0  3.0\n",
      "1  4.0  2.0  5.0\n",
      "2  4.0  2.0  5.0\n"
     ]
    }
   ],
   "source": [
    "res = DF1.fillna(method='ffill')\n",
    "print(res)"
   ]
  },
  {
   "cell_type": "code",
   "execution_count": 54,
   "id": "f26641a7",
   "metadata": {},
   "outputs": [
    {
     "name": "stdout",
     "output_type": "stream",
     "text": [
      "     0    1    2\n",
      "0  1.0  2.0  3.0\n",
      "1  4.0  2.0  5.0\n",
      "2  4.0  NaN  5.0\n"
     ]
    }
   ],
   "source": [
    "res = DF1.fillna(method=\"ffill\", limit=1)\n",
    "print(res)"
   ]
  },
  {
   "cell_type": "code",
   "execution_count": 56,
   "id": "6e9ea200",
   "metadata": {},
   "outputs": [
    {
     "name": "stdout",
     "output_type": "stream",
     "text": [
      "0    1.0\n",
      "1    0.0\n",
      "2    NaN\n",
      "3    5.0\n",
      "dtype: float64\n"
     ]
    }
   ],
   "source": [
    "srs = pd.Series([1, 0, NA, 5])\n",
    "print(srs)"
   ]
  },
  {
   "cell_type": "code",
   "execution_count": 58,
   "id": "3da30cdf",
   "metadata": {},
   "outputs": [
    {
     "name": "stdout",
     "output_type": "stream",
     "text": [
      "0    1.0\n",
      "1    0.0\n",
      "2    2.0\n",
      "3    5.0\n",
      "dtype: float64\n"
     ]
    }
   ],
   "source": [
    "res = srs.fillna(srs.mean())\n",
    "print(res)"
   ]
  },
  {
   "cell_type": "code",
   "execution_count": 61,
   "id": "147b67ff",
   "metadata": {},
   "outputs": [
    {
     "name": "stdout",
     "output_type": "stream",
     "text": [
      "     0    1    2\n",
      "0  1.0  2.0  3.0\n",
      "1  4.0  NaN  5.0\n",
      "2  NaN  NaN  NaN\n"
     ]
    }
   ],
   "source": [
    "print(DF1)"
   ]
  },
  {
   "cell_type": "code",
   "execution_count": 64,
   "id": "c1ec3c78",
   "metadata": {},
   "outputs": [
    {
     "name": "stdout",
     "output_type": "stream",
     "text": [
      "     0    1    2\n",
      "0  1.0  2.0  3.0\n",
      "1  4.0  2.0  5.0\n",
      "2  2.5  2.0  4.0\n"
     ]
    }
   ],
   "source": [
    "res = DF1.fillna(DF1.mean())\n",
    "print(res)"
   ]
  }
 ],
 "metadata": {
  "kernelspec": {
   "display_name": "Python 3 (ipykernel)",
   "language": "python",
   "name": "python3"
  },
  "language_info": {
   "codemirror_mode": {
    "name": "ipython",
    "version": 3
   },
   "file_extension": ".py",
   "mimetype": "text/x-python",
   "name": "python",
   "nbconvert_exporter": "python",
   "pygments_lexer": "ipython3",
   "version": "3.11.4"
  }
 },
 "nbformat": 4,
 "nbformat_minor": 5
}
