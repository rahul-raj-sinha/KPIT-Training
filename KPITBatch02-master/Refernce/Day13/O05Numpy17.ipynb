{
 "cells": [
  {
   "cell_type": "code",
   "execution_count": 8,
   "id": "1547d901",
   "metadata": {},
   "outputs": [
    {
     "name": "stdout",
     "output_type": "stream",
     "text": [
      "arr1 :[ 1  2  3  4  5  6  7  8  9 10]\n",
      "Boolean  Mask :[False False False False False  True  True  True  True  True]\n",
      "[ True False  True False  True False  True False  True False]\n",
      "[1 3 5 7 9]\n"
     ]
    }
   ],
   "source": [
    "import numpy as np\n",
    "\n",
    "arr1 = np.array([1, 2, 3, 4, 5, 6, 7, 8, 9, 10])\n",
    "\n",
    "print(f\"arr1 :{arr1}\")\n",
    "\n",
    "boolean_mask = arr1 > 6\n",
    "print(f\"Boolean  Mask :{arr1 > 5}\")\n",
    "\n",
    "boolean_mask = arr1 % 2 != 0\n",
    "print(boolean_mask)\n",
    "\n",
    "print(arr1[boolean_mask])"
   ]
  },
  {
   "cell_type": "markdown",
   "id": "0ed8972b",
   "metadata": {},
   "source": [
    "arr1 = np.array([1, 2, 4, 9, 11, 16, 18, 22, 26, 31, 32, 47, 51])\n",
    "print(F"
   ]
  },
  {
   "cell_type": "code",
   "execution_count": 13,
   "id": "2c49426f",
   "metadata": {},
   "outputs": [
    {
     "name": "stdout",
     "output_type": "stream",
     "text": [
      "arr1 :[ 1  2  4  9 11 16 18 22 26 31 32 47 51]\n",
      "[ 1  2  4  9 47 51]\n"
     ]
    }
   ],
   "source": [
    "arr1 = np.array([1, 2, 4, 9, 11, 16, 18, 22, 26, 31, 32, 47, 51])\n",
    "\n",
    "print(f\"arr1 :{arr1}\")\n",
    "\n",
    "boolean_mask = (arr1 < 10) | (arr1 > 40)\n",
    "\n",
    "result = arr1[boolean_mask]\n",
    "\n",
    "print(result)"
   ]
  },
  {
   "cell_type": "code",
   "execution_count": 16,
   "id": "554ad4ae",
   "metadata": {},
   "outputs": [
    {
     "name": "stdout",
     "output_type": "stream",
     "text": [
      "arr1 :[ 1  2  4  9 11 16 18 22 26 31 32 47 51 52]\n",
      "arr2 :[ 1  0  0  9 11  0  0  0  0 31  0 47 51  0]\n"
     ]
    }
   ],
   "source": [
    "# modfying array using boolean indexing\n",
    "\n",
    "arr1 = np.array([1, 2, 4, 9, 11, 16, 18, 22, 26, 31, 32, 47, 51, 52])\n",
    "print(f\"arr1 :{arr1}\")\n",
    "\n",
    "arr2 = arr1.copy()          # deep copy\n",
    "\n",
    "# change all even number to 0 \n",
    "arr2[arr1 % 2 == 0] = 0\n",
    "\n",
    "print(f\"arr2 :{arr2}\")\n",
    "\n"
   ]
  },
  {
   "cell_type": "code",
   "execution_count": 22,
   "id": "267446d8",
   "metadata": {},
   "outputs": [
    {
     "name": "stdout",
     "output_type": "stream",
     "text": [
      "arr1 :\n",
      "[[1 2 3]\n",
      " [4 5 6]\n",
      " [7 8 9]]\n",
      "------------------------------------------------------------\n",
      "[4 5 6 7 8 9]\n"
     ]
    }
   ],
   "source": [
    "# 2d indexing\n",
    "\n",
    "arr1 = np.array([[1, 2, 3],\n",
    "                 [4, 5, 6], \n",
    "                 [7, 8, 9]])\n",
    "print(f\"arr1 :\\n{arr1}\")\n",
    "# array elements that are greater than 3\n",
    "\n",
    "boolean_mask = arr1 > 3\n",
    "\n",
    "print(\"-\" * 60)\n",
    "result = arr1[boolean_mask]\n",
    "\n",
    "print(result)"
   ]
  }
 ],
 "metadata": {
  "kernelspec": {
   "display_name": "Python 3 (ipykernel)",
   "language": "python",
   "name": "python3"
  },
  "language_info": {
   "codemirror_mode": {
    "name": "ipython",
    "version": 3
   },
   "file_extension": ".py",
   "mimetype": "text/x-python",
   "name": "python",
   "nbconvert_exporter": "python",
   "pygments_lexer": "ipython3",
   "version": "3.11.4"
  }
 },
 "nbformat": 4,
 "nbformat_minor": 5
}
