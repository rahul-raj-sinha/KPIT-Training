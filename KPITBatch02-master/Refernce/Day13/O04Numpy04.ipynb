{
 "cells": [
  {
   "cell_type": "code",
   "execution_count": 2,
   "id": "da124405",
   "metadata": {},
   "outputs": [
    {
     "name": "stdout",
     "output_type": "stream",
     "text": [
      "[[1 2 3 4]\n",
      " [5 6 7 8]]\n",
      "2\n"
     ]
    }
   ],
   "source": [
    "import numpy as np\n",
    "\n",
    "# ndim attribute\n",
    "\n",
    "arr1 = np.array([[1, 2, 3, 4], \n",
    "                [5, 6, 7, 8]])\n",
    "\n",
    "print(arr1)\n",
    "print(arr1.ndim)"
   ]
  },
  {
   "cell_type": "code",
   "execution_count": 4,
   "id": "97ebf51f",
   "metadata": {},
   "outputs": [
    {
     "name": "stdout",
     "output_type": "stream",
     "text": [
      "[[1 2 3 4]\n",
      " [5 6 7 8]]\n",
      "8\n"
     ]
    }
   ],
   "source": [
    "# attribute size\n",
    "\n",
    "arr1 = np.array([[1, 2, 3, 4,],\n",
    "                 [5, 6, 7, 8]])\n",
    "\n",
    "print(arr1)\n",
    "print(arr1.size)"
   ]
  },
  {
   "cell_type": "code",
   "execution_count": 7,
   "id": "59a3ee0b",
   "metadata": {},
   "outputs": [
    {
     "name": "stdout",
     "output_type": "stream",
     "text": [
      "[[1 2 3 4]\n",
      " [5 6 7 8]]\n",
      "(2, 4)\n"
     ]
    }
   ],
   "source": [
    "# attribute shape\n",
    "\n",
    "arr1 = np.array([[1, 2, 3, 4], \n",
    "                  [5, 6, 7, 8]])\n",
    "\n",
    "print(arr1)\n",
    "print(arr1.shape)\n"
   ]
  },
  {
   "cell_type": "code",
   "execution_count": 9,
   "id": "d54d6f57",
   "metadata": {},
   "outputs": [
    {
     "name": "stdout",
     "output_type": "stream",
     "text": [
      "int32\n",
      "[[1 2 3 4]\n",
      " [5 6 7 8]]\n"
     ]
    }
   ],
   "source": [
    "# attribute dtype\n",
    "\n",
    "arr1 = np.array([[1, 2, 3, 4], \n",
    "                 [5, 6, 7, 8]])\n",
    "\n",
    "print(arr1.dtype)\n",
    "print(arr1)"
   ]
  },
  {
   "cell_type": "code",
   "execution_count": 11,
   "id": "92538688",
   "metadata": {},
   "outputs": [
    {
     "name": "stdout",
     "output_type": "stream",
     "text": [
      "4\n",
      "[[1 2 3 4]\n",
      " [5 6 7 8]]\n"
     ]
    }
   ],
   "source": [
    "# attribute itemsize\n",
    "\n",
    "arr1 = np.array([[1, 2, 3, 4],\n",
    "                 [5, 6, 7, 8]])\n",
    "\n",
    "print(arr1.itemsize)\n",
    "print(arr1)"
   ]
  },
  {
   "cell_type": "code",
   "execution_count": 12,
   "id": "ab8cdc5a",
   "metadata": {},
   "outputs": [
    {
     "name": "stdout",
     "output_type": "stream",
     "text": [
      "<memory at 0x0000023241F36330>\n",
      "[[1 2 3 4]\n",
      " [5 6 7 8]]\n"
     ]
    }
   ],
   "source": [
    "# attribute data\n",
    "\n",
    "arr1 = np.array([[1, 2, 3, 4],\n",
    "                 [5, 6, 7, 8]])\n",
    "\n",
    "print(arr1.data)\n",
    "print(arr1)\n"
   ]
  }
 ],
 "metadata": {
  "kernelspec": {
   "display_name": "Python 3 (ipykernel)",
   "language": "python",
   "name": "python3"
  },
  "language_info": {
   "codemirror_mode": {
    "name": "ipython",
    "version": 3
   },
   "file_extension": ".py",
   "mimetype": "text/x-python",
   "name": "python",
   "nbconvert_exporter": "python",
   "pygments_lexer": "ipython3",
   "version": "3.11.4"
  }
 },
 "nbformat": 4,
 "nbformat_minor": 5
}
