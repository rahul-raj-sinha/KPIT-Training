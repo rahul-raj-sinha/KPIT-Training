{
 "cells": [
  {
   "cell_type": "code",
   "execution_count": 5,
   "id": "445e0ca2",
   "metadata": {},
   "outputs": [
    {
     "name": "stdout",
     "output_type": "stream",
     "text": [
      "arr1 :['iphone - ' 'price :']\n",
      "arr2 :['15' '145000']\n",
      "Result :['iphone - 15' 'price :145000']\n"
     ]
    }
   ],
   "source": [
    "import numpy as np\n",
    "\n",
    "# add\n",
    "\n",
    "arr1 = np.array(['iphone - ', 'price :'])\n",
    "arr2 = np.array(['15', '145000'])\n",
    "\n",
    "print(f\"arr1 :{arr1}\")\n",
    "print(f\"arr2 :{arr2}\")\n",
    "\n",
    "res = np.char.add(arr1, arr2)\n",
    "print(f\"Result :{res}\")\n",
    "\n"
   ]
  },
  {
   "cell_type": "code",
   "execution_count": 8,
   "id": "db3ecdb9",
   "metadata": {},
   "outputs": [
    {
     "name": "stdout",
     "output_type": "stream",
     "text": [
      "arr1 :['A' 'B' 'C']\n",
      "Result :['AA' 'BB' 'CC']\n"
     ]
    }
   ],
   "source": [
    "# Multiply\n",
    "\n",
    "arr1 = np.array(['A', 'B', 'C'])\n",
    "print(f\"arr1 :{arr1}\")\n",
    "\n",
    "res = np.char.multiply(arr1, 2)\n",
    "\n",
    "print(f\"Result :{res}\")"
   ]
  },
  {
   "cell_type": "code",
   "execution_count": 12,
   "id": "31a023e4",
   "metadata": {},
   "outputs": [
    {
     "name": "stdout",
     "output_type": "stream",
     "text": [
      "names :['jack' 'MIKE' 'kevin' 'bernard' 'peter' 'RUBEN']\n",
      "Captilized :['Jack' 'Mike' 'Kevin' 'Bernard' 'Peter' 'Ruben']\n"
     ]
    }
   ],
   "source": [
    "# capitalize\n",
    "\n",
    "names = np.array(['jack', 'MIKE', 'kevin', 'bernard', 'peter', 'RUBEN'])\n",
    "print(f\"names :{names}\")\n",
    "\n",
    "res = np.char.capitalize(names)\n",
    "\n",
    "print(f\"Captilized :{res}\")\n"
   ]
  },
  {
   "cell_type": "code",
   "execution_count": 15,
   "id": "2dc97e9b",
   "metadata": {},
   "outputs": [
    {
     "name": "stdout",
     "output_type": "stream",
     "text": [
      "names :['jack' 'MIKE' 'kevin' 'bernard' 'peter' 'RUBEN']\n",
      "Upper Case :['JACK' 'MIKE' 'KEVIN' 'BERNARD' 'PETER' 'RUBEN']\n",
      "Lower Case :['jack' 'mike' 'kevin' 'bernard' 'peter' 'ruben']\n"
     ]
    }
   ],
   "source": [
    "# upper and lower\n",
    "\n",
    "names = np.array(['jack', 'MIKE', 'kevin', 'bernard', 'peter', 'RUBEN'])\n",
    "print(f\"names :{names}\")\n",
    "\n",
    "res1 = np.char.upper(names)\n",
    "print(f\"Upper Case :{res1}\")\n",
    "\n",
    "res2 = np.char.lower(names)\n",
    "print(f\"Lower Case :{res2}\")"
   ]
  },
  {
   "cell_type": "code",
   "execution_count": 18,
   "id": "5d65c230",
   "metadata": {},
   "outputs": [
    {
     "name": "stdout",
     "output_type": "stream",
     "text": [
      "cities :['Bangalore' 'Hyderabad' 'Chennai']\n",
      "Join Results :['B-a-n-g-a-l-o-r-e' 'H-y-d-e-r-a-b-a-d' 'C-h-e-n-n-a-i']\n"
     ]
    }
   ],
   "source": [
    "# join\n",
    "\n",
    "cities = np.array(['Bangalore', 'Hyderabad', 'Chennai'])\n",
    "print(f\"cities :{cities}\")\n",
    "\n",
    "res = np.char.join(\"-\", cities)\n",
    "print(f\"Join Results :{res}\")"
   ]
  },
  {
   "cell_type": "code",
   "execution_count": 21,
   "id": "3b08de0f",
   "metadata": {},
   "outputs": [
    {
     "name": "stdout",
     "output_type": "stream",
     "text": [
      "arr1 :['A' 'B' 'C' 'hello' 'world']\n",
      "arr2 :['a' 'b' 'C' 'Hello' 'world']\n",
      "res :[False False  True False  True]\n"
     ]
    }
   ],
   "source": [
    "# equal\n",
    "\n",
    "arr1 = np.array(['A', 'B', 'C', 'hello', 'world'])\n",
    "arr2 = np.array(['a', 'b', 'C', 'Hello', \"world\"])\n",
    "\n",
    "print(f\"arr1 :{arr1}\")\n",
    "print(f\"arr2 :{arr2}\")\n",
    "\n",
    "res = np.char.equal(arr1, arr2)\n",
    "print(f\"res :{res}\")"
   ]
  }
 ],
 "metadata": {
  "kernelspec": {
   "display_name": "Python 3 (ipykernel)",
   "language": "python",
   "name": "python3"
  },
  "language_info": {
   "codemirror_mode": {
    "name": "ipython",
    "version": 3
   },
   "file_extension": ".py",
   "mimetype": "text/x-python",
   "name": "python",
   "nbconvert_exporter": "python",
   "pygments_lexer": "ipython3",
   "version": "3.11.4"
  }
 },
 "nbformat": 4,
 "nbformat_minor": 5
}
