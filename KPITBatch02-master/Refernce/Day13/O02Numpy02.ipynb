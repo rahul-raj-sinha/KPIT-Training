{
 "cells": [
  {
   "cell_type": "code",
   "execution_count": 3,
   "id": "9f333294",
   "metadata": {},
   "outputs": [
    {
     "name": "stdout",
     "output_type": "stream",
     "text": [
      "[1 2 3 4 5]\n"
     ]
    }
   ],
   "source": [
    "import numpy as np\n",
    "\n",
    "# list as an argument\n",
    "\n",
    "arr = np.array([1, 2, 3, 4, 5])\n",
    "\n",
    "print(arr)\n"
   ]
  },
  {
   "cell_type": "code",
   "execution_count": 5,
   "id": "64c3a9f0",
   "metadata": {},
   "outputs": [
    {
     "name": "stdout",
     "output_type": "stream",
     "text": [
      "[10 20 30 40 50]\n"
     ]
    }
   ],
   "source": [
    "# passing a tuple as argument\n",
    "\n",
    "arr1 = np.array((10, 20, 30, 40, 50))\n",
    "\n",
    "print(arr1)"
   ]
  },
  {
   "cell_type": "code",
   "execution_count": 7,
   "id": "a3497a26",
   "metadata": {},
   "outputs": [
    {
     "name": "stdout",
     "output_type": "stream",
     "text": [
      "25\n"
     ]
    }
   ],
   "source": [
    "# zero dimension array example\n",
    "\n",
    "arr2 = np.array(25)\n",
    "\n",
    "print(arr2)"
   ]
  },
  {
   "cell_type": "code",
   "execution_count": 9,
   "id": "fef85478",
   "metadata": {},
   "outputs": [
    {
     "name": "stdout",
     "output_type": "stream",
     "text": [
      "[1 2 3 4 5]\n"
     ]
    }
   ],
   "source": [
    "# one dimension array\n",
    "\n",
    "arr3 = np.array([1, 2, 3, 4, 5])\n",
    "\n",
    "print(arr3)"
   ]
  },
  {
   "cell_type": "code",
   "execution_count": 12,
   "id": "772b82ce",
   "metadata": {},
   "outputs": [
    {
     "name": "stdout",
     "output_type": "stream",
     "text": [
      "[[ 1  2  3  4  5]\n",
      " [ 6  7  8  9 10]]\n"
     ]
    }
   ],
   "source": [
    "# two dimension array\n",
    "\n",
    "arr4 = np.array([[1, 2, 3, 4, 5],\n",
    "                 [6, 7, 8, 9, 10]])\n",
    "print(arr4)"
   ]
  },
  {
   "cell_type": "code",
   "execution_count": 17,
   "id": "875d8ca7",
   "metadata": {},
   "outputs": [
    {
     "name": "stdout",
     "output_type": "stream",
     "text": [
      "[[[ 1  2  3]\n",
      "  [ 4  5  6]]\n",
      "\n",
      " [[ 7  8  9]\n",
      "  [10 11 12]]]\n"
     ]
    }
   ],
   "source": [
    "# three dimension array\n",
    "\n",
    "arr5 = np.array([[[1, 2, 3], \n",
    "                  [4, 5, 6]], \n",
    "                  [[7, 8, 9],\n",
    "                  [10, 11, 12]]])\n",
    "\n",
    "print(arr5)"
   ]
  },
  {
   "cell_type": "code",
   "execution_count": 24,
   "id": "1c328b02",
   "metadata": {},
   "outputs": [
    {
     "name": "stdout",
     "output_type": "stream",
     "text": [
      "0\n",
      "------------------------------------------------------------\n",
      "1\n",
      "------------------------------------------------------------\n",
      "2\n",
      "------------------------------------------------------------\n",
      "3\n"
     ]
    }
   ],
   "source": [
    "# print the dimension of a numpy array\n",
    "\n",
    "ar1 = np.array(50)\n",
    "print(ar1.ndim)\n",
    "\n",
    "print(\"-\" * 60)\n",
    "\n",
    "ar2 = np.array([1, 2, 3, 4, 5])\n",
    "print(ar2.ndim)\n",
    "\n",
    "print(\"-\" * 60)\n",
    "\n",
    "ar3 = np.array([[1, 2, 3, 4], \n",
    "                [6, 7, 8, 9]])\n",
    "print(ar3.ndim)\n",
    "\n",
    "print(\"-\" * 60)\n",
    "\n",
    "ar4 = np.array([[[1, 2, 3], \n",
    "               [4, 5, 6]], \n",
    "              [[7, 8 , 9],\n",
    "               [10, 11, 12]]])\n",
    "\n",
    "print(ar4.ndim)\n"
   ]
  },
  {
   "cell_type": "code",
   "execution_count": 27,
   "id": "0f6fcb3f",
   "metadata": {},
   "outputs": [
    {
     "name": "stdout",
     "output_type": "stream",
     "text": [
      "[[[[[1 2 3 4]]]]]\n",
      "Array Dimension : 5\n"
     ]
    }
   ],
   "source": [
    "arr = np.array([1, 2, 3, 4], ndmin=5)\n",
    "\n",
    "print(arr)\n",
    "\n",
    "print(\"Array Dimension :\", arr.ndim)"
   ]
  },
  {
   "cell_type": "code",
   "execution_count": 34,
   "id": "9709ed8d",
   "metadata": {},
   "outputs": [
    {
     "name": "stdout",
     "output_type": "stream",
     "text": [
      "[[0. 0. 0.]\n",
      " [0. 0. 0.]]\n",
      "------------------------------------------------------------\n",
      "[[[0. 0. 0. 0.]\n",
      "  [0. 0. 0. 0.]\n",
      "  [0. 0. 0. 0.]]\n",
      "\n",
      " [[0. 0. 0. 0.]\n",
      "  [0. 0. 0. 0.]\n",
      "  [0. 0. 0. 0.]]]\n"
     ]
    }
   ],
   "source": [
    "\n",
    "arr1 = np.zeros((2, 3))\n",
    "\n",
    "print(arr1)\n",
    "\n",
    "print(\"-\" * 60)\n",
    "\n",
    "arr2 = np.zeros((2, 3, 4))\n",
    "\n",
    "print(arr2)\n"
   ]
  },
  {
   "cell_type": "code",
   "execution_count": 45,
   "id": "ab08e512",
   "metadata": {},
   "outputs": [
    {
     "name": "stdout",
     "output_type": "stream",
     "text": [
      "[[5 5]\n",
      " [5 5]]\n"
     ]
    }
   ],
   "source": [
    "arr02 = np.full((2, 2), 5)\n",
    "print(arr02)\n",
    "\n",
    "arr03 = np.full"
   ]
  },
  {
   "cell_type": "code",
   "execution_count": 47,
   "id": "c52861c8",
   "metadata": {},
   "outputs": [
    {
     "name": "stdout",
     "output_type": "stream",
     "text": [
      "[[0.04548247 0.35554407]\n",
      " [0.54376392 0.20978911]]\n",
      "------------------------------------------------------------\n",
      "[[[0.34148622 0.03423753]\n",
      "  [0.83207928 0.95076233]]\n",
      "\n",
      " [[0.36940342 0.8415555 ]\n",
      "  [0.90657846 0.49695036]]]\n"
     ]
    }
   ],
   "source": [
    "arr1 = np.random.rand(2, 2)\n",
    "print(arr1)\n",
    "\n",
    "print(\"-\" * 60)\n",
    "\n",
    "arr2 = np.random.rand(2, 2, 2)\n",
    "print(arr2)\n",
    "\n",
    "\n"
   ]
  }
 ],
 "metadata": {
  "kernelspec": {
   "display_name": "Python 3 (ipykernel)",
   "language": "python",
   "name": "python3"
  },
  "language_info": {
   "codemirror_mode": {
    "name": "ipython",
    "version": 3
   },
   "file_extension": ".py",
   "mimetype": "text/x-python",
   "name": "python",
   "nbconvert_exporter": "python",
   "pygments_lexer": "ipython3",
   "version": "3.11.4"
  }
 },
 "nbformat": 4,
 "nbformat_minor": 5
}
