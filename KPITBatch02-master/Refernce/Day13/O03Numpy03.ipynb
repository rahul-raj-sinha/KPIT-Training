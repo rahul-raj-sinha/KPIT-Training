{
 "cells": [
  {
   "cell_type": "code",
   "execution_count": 5,
   "id": "837141b3",
   "metadata": {},
   "outputs": [
    {
     "name": "stdout",
     "output_type": "stream",
     "text": [
      "int32\n",
      "1\n",
      "[2 4 6]\n"
     ]
    }
   ],
   "source": [
    "import numpy as np\n",
    "\n",
    "# create and array\n",
    "array1 = np.array([2, 4, 6])\n",
    "\n",
    "print(array1.dtype)\n",
    "print(array1.ndim)\n",
    "\n",
    "print(array1)"
   ]
  },
  {
   "cell_type": "code",
   "execution_count": 8,
   "id": "80ba70fa",
   "metadata": {},
   "outputs": [
    {
     "name": "stdout",
     "output_type": "stream",
     "text": [
      "int32\n",
      "1\n",
      "[-2 -1  0  1  2]\n"
     ]
    }
   ],
   "source": [
    "int_array = np.array([-2, -1, 0, 1, 2])\n",
    "\n",
    "print(int_array.dtype)\n",
    "print(int_array.ndim)\n",
    "print(int_array)"
   ]
  },
  {
   "cell_type": "code",
   "execution_count": 11,
   "id": "8dc68a7b",
   "metadata": {},
   "outputs": [
    {
     "name": "stdout",
     "output_type": "stream",
     "text": [
      "float64\n",
      "1\n",
      "[0.1 0.2 0.3]\n"
     ]
    }
   ],
   "source": [
    "flt_array = np.array([0.1, 0.2, 0.3])\n",
    "\n",
    "print(flt_array.dtype)\n",
    "print(flt_array.ndim)\n",
    "print(flt_array)"
   ]
  },
  {
   "cell_type": "code",
   "execution_count": 14,
   "id": "29a2bcea",
   "metadata": {},
   "outputs": [
    {
     "name": "stdout",
     "output_type": "stream",
     "text": [
      "complex128\n",
      "1\n",
      "[1.+2.j 2.+3.j 3.+4.j]\n"
     ]
    }
   ],
   "source": [
    "comp_array = np.array([1+2j, 2+3j, 3+4j])\n",
    "\n",
    "print(comp_array.dtype)\n",
    "print(comp_array.ndim)\n",
    "print(comp_array)"
   ]
  },
  {
   "cell_type": "code",
   "execution_count": 18,
   "id": "d98b1fbd",
   "metadata": {},
   "outputs": [
    {
     "name": "stdout",
     "output_type": "stream",
     "text": [
      "[1 2 3 4]\n",
      "int32\n"
     ]
    }
   ],
   "source": [
    "# add the datatype when creating an array\n",
    "\n",
    "arr1 = np.array([1, 2, 3, 4], dtype='int32')\n",
    "\n",
    "print(arr1)\n",
    "print(arr1.dtype)"
   ]
  },
  {
   "cell_type": "code",
   "execution_count": 23,
   "id": "987146ae",
   "metadata": {},
   "outputs": [
    {
     "name": "stdout",
     "output_type": "stream",
     "text": [
      "int8\n",
      "uint16\n",
      "float32\n",
      "complex64\n"
     ]
    }
   ],
   "source": [
    "# 8 bit integer\n",
    "arr1 = np.array([1, 3, 7], dtype=\"int8\")\n",
    "\n",
    "# 16 bit unsigned integer\n",
    "arr2 = np.array([2, 4, 6], dtype='uint16')\n",
    "\n",
    "# float 32 bit\n",
    "arr3 = np.array([2.1, 3.2, 4.3, 5.4], dtype=\"float32\")\n",
    "\n",
    "# 64 bit complex\n",
    "arr4 = np.array([1-2j, 2-3j, 3-4j], dtype=\"complex64\")\n",
    "\n",
    "print(arr1.dtype)\n",
    "print(arr2.dtype)\n",
    "print(arr3.dtype)\n",
    "print(arr4.dtype)\n",
    "\n",
    "\n"
   ]
  },
  {
   "cell_type": "code",
   "execution_count": 29,
   "id": "43982b39",
   "metadata": {},
   "outputs": [
    {
     "name": "stdout",
     "output_type": "stream",
     "text": [
      "[1 2 3 4 5]\n",
      "int32\n",
      "------------------------------------------------------------\n",
      "[1. 2. 3. 4. 5.]\n",
      "float64\n"
     ]
    }
   ],
   "source": [
    "# converting it into different data types\n",
    "\n",
    "int_arr = np.array([1, 2, 3, 4, 5]) \n",
    "\n",
    "print(int_arr)\n",
    "print(int_arr.dtype)\n",
    "\n",
    "\n",
    "print(\"-\" * 60)\n",
    "# convert it into float\n",
    "\n",
    "flt_arr = int_arr.astype('float')\n",
    "\n",
    "print(flt_arr)\n",
    "print(flt_arr.dtype)\n"
   ]
  },
  {
   "cell_type": "code",
   "execution_count": null,
   "id": "db18ea83",
   "metadata": {},
   "outputs": [],
   "source": []
  }
 ],
 "metadata": {
  "kernelspec": {
   "display_name": "Python 3 (ipykernel)",
   "language": "python",
   "name": "python3"
  },
  "language_info": {
   "codemirror_mode": {
    "name": "ipython",
    "version": 3
   },
   "file_extension": ".py",
   "mimetype": "text/x-python",
   "name": "python",
   "nbconvert_exporter": "python",
   "pygments_lexer": "ipython3",
   "version": "3.11.4"
  }
 },
 "nbformat": 4,
 "nbformat_minor": 5
}
