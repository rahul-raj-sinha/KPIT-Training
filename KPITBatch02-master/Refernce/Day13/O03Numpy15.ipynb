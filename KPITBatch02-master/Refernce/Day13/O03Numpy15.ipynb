{
 "cells": [
  {
   "cell_type": "code",
   "execution_count": 5,
   "id": "30d7d1dc",
   "metadata": {},
   "outputs": [
    {
     "name": "stdout",
     "output_type": "stream",
     "text": [
      "A :[1 3 5]\n",
      "B :[0 2 3]\n",
      "A union B :[0 1 2 3 5]\n"
     ]
    }
   ],
   "source": [
    "import numpy as np\n",
    "\n",
    "# union\n",
    "\n",
    "A = np.array([1, 3, 5])\n",
    "B = np.array([0, 2, 3])\n",
    "\n",
    "print(f\"A :{A}\")\n",
    "print(f\"B :{B}\")\n",
    "\n",
    "print(f\"A union B :{np.union1d(A, B)}\")"
   ]
  },
  {
   "cell_type": "code",
   "execution_count": 10,
   "id": "cb528b6d",
   "metadata": {},
   "outputs": [
    {
     "name": "stdout",
     "output_type": "stream",
     "text": [
      "A :[1 3 5]\n",
      "B :[1 2 3]\n",
      "A intersection B :[1 3]\n"
     ]
    }
   ],
   "source": [
    "# intersection\n",
    "\n",
    "A = np.array([1, 3, 5])\n",
    "B = np.array([1, 2, 3])\n",
    "\n",
    "print(f\"A :{A}\")\n",
    "print(f\"B :{B}\")\n",
    "\n",
    "print(f\"A intersection B :{np.intersect1d(A, B)}\")\n"
   ]
  },
  {
   "cell_type": "code",
   "execution_count": 14,
   "id": "65e84c26",
   "metadata": {},
   "outputs": [
    {
     "name": "stdout",
     "output_type": "stream",
     "text": [
      "A :[1 3 5]\n",
      "B :[0 2 3]\n",
      "A difference B :[1 5]\n",
      "B difference A :[0 2]\n"
     ]
    }
   ],
   "source": [
    "#difference \n",
    "A = np.array([1, 3, 5])\n",
    "B = np.array([0, 2, 3])\n",
    "\n",
    "print(f\"A :{A}\")\n",
    "print(f\"B :{B}\")\n",
    "\n",
    "print(f\"A difference B :{np.setdiff1d(A, B)}\")\n",
    "print(f\"B difference A :{np.setdiff1d(B, A)}\")\n"
   ]
  },
  {
   "cell_type": "code",
   "execution_count": 17,
   "id": "a8b00aeb",
   "metadata": {},
   "outputs": [
    {
     "name": "stdout",
     "output_type": "stream",
     "text": [
      "A :[1 3 5]\n",
      "B :[0 2 3]\n",
      "A symmetric difference B :[0 1 2 5]\n"
     ]
    }
   ],
   "source": [
    "# Symmetric difference\n",
    "\n",
    "A = np.array([1, 3, 5])\n",
    "B = np.array([0, 2, 3])\n",
    "\n",
    "print(f\"A :{A}\")\n",
    "print(f\"B :{B}\")\n",
    "\n",
    "print(f\"A symmetric difference B :{np.setxor1d(A, B)}\")"
   ]
  },
  {
   "cell_type": "code",
   "execution_count": 25,
   "id": "87b492ba",
   "metadata": {},
   "outputs": [
    {
     "name": "stdout",
     "output_type": "stream",
     "text": [
      "arr1 :[1 2 3 1 2 3 1 1 1 1 1 2 2 2 2 2 2 2 3 4 5 6]\n",
      "Unique Values :[1 2 3 4 5 6]\n"
     ]
    }
   ],
   "source": [
    "# unique\n",
    "\n",
    "arr1  = np.array([1, 2, 3, 1, 2, 3,1, 1, 1,1 ,1 , 2, 2, 2,2, 2, 2, 2, 3, 4, 5, 6 ])\n",
    "\n",
    "print(f\"arr1 :{arr1}\")\n",
    "\n",
    "print(f\"Unique Values :{np.unique(arr1)}\")\n"
   ]
  }
 ],
 "metadata": {
  "kernelspec": {
   "display_name": "Python 3 (ipykernel)",
   "language": "python",
   "name": "python3"
  },
  "language_info": {
   "codemirror_mode": {
    "name": "ipython",
    "version": 3
   },
   "file_extension": ".py",
   "mimetype": "text/x-python",
   "name": "python",
   "nbconvert_exporter": "python",
   "pygments_lexer": "ipython3",
   "version": "3.11.4"
  }
 },
 "nbformat": 4,
 "nbformat_minor": 5
}
