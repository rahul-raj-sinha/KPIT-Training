{
 "cells": [
  {
   "cell_type": "code",
   "execution_count": 6,
   "id": "8003cc1c",
   "metadata": {},
   "outputs": [
    {
     "name": "stdout",
     "output_type": "stream",
     "text": [
      "arr1 :[1 2 3 4 5 6 7 8]\n",
      "Selected Indexes :[2 3 6 8]\n",
      "Simple Index :4\n"
     ]
    }
   ],
   "source": [
    "import numpy as np\n",
    "\n",
    "# Fancy indexing\n",
    "\n",
    "arr1 = np.array([1, 2, 3, 4, 5, 6, 7, 8])\n",
    "print(f\"arr1 :{arr1}\")\n",
    "\n",
    "# select elements with index 1, 2, 5, 7\n",
    "sel_idx = arr1[[1, 2, 5, 7]]\n",
    "\n",
    "print(f\"Selected Indexes :{sel_idx}\")\n",
    "\n",
    "# Simple indexing\n",
    "\n",
    "sim_idx = arr1[3]\n",
    "\n",
    "print(f\"Simple Index :{sim_idx}\")"
   ]
  },
  {
   "cell_type": "code",
   "execution_count": 13,
   "id": "567e7dbf",
   "metadata": {},
   "outputs": [
    {
     "name": "stdout",
     "output_type": "stream",
     "text": [
      "arr1 :[10  2  9  6  1  8  3  5  4  7]\n",
      "Sorted Array in ascending order :[ 1  2  3  4  5  6  7  8  9 10]\n",
      "Sorted Array in descending order:[10  9  8  7  6  5  4  3  2  1]\n"
     ]
    }
   ],
   "source": [
    "# sort array using simple index\n",
    "\n",
    "arr1 = np.array([10, 2, 9, 6, 1, 8, 3, 5, 4, 7])\n",
    "print(f\"arr1 :{arr1}\")\n",
    "\n",
    "# sort the array using fancy indexing\n",
    "\n",
    "str_arr_asc = arr1[np.argsort(arr1)]\n",
    "print(f\"Sorted Array in ascending order :{str_arr_asc}\")\n",
    "\n",
    "str_arr_desc = arr1[np.argsort(-arr1)]\n",
    "print(f\"Sorted Array in descending order:{str_arr_desc}\")"
   ]
  },
  {
   "cell_type": "code",
   "execution_count": 16,
   "id": "7983f4be",
   "metadata": {},
   "outputs": [
    {
     "name": "stdout",
     "output_type": "stream",
     "text": [
      "arr1 :[3 2 6 1 8 5 7 4]\n",
      "arr1 :[ 3 10  6 20  8  5 30  4]\n"
     ]
    }
   ],
   "source": [
    "# change the values using fancy indexing\n",
    "arr1 = np.array([3, 2, 6, 1, 8, 5, 7, 4])\n",
    "print(f\"arr1 :{arr1}\")\n",
    "\n",
    "indices = [1, 3, 6]\n",
    "\n",
    "# create new values\n",
    "new_values = [10, 20, 30]\n",
    "\n",
    "arr1[indices]= new_values\n",
    "\n",
    "print(f\"arr1 :{arr1}\")\n"
   ]
  },
  {
   "cell_type": "code",
   "execution_count": 20,
   "id": "9729b59c",
   "metadata": {},
   "outputs": [
    {
     "name": "stdout",
     "output_type": "stream",
     "text": [
      "Selected Rows :\n",
      "[[ 1  3  5]\n",
      " [19 15 12]]\n"
     ]
    }
   ],
   "source": [
    "# fancy indexing for an n dimension array\n",
    "\n",
    "arr1 = np.array([[1, 3, 5], \n",
    "                 [11, 12, 13], \n",
    "                 [19, 15, 12]])\n",
    "\n",
    "row_indices = np.array([0, 2])\n",
    "\n",
    "selected_rows = arr1[row_indices, :]\n",
    "print(f\"Selected Rows :\\n{selected_rows}\")"
   ]
  }
 ],
 "metadata": {
  "kernelspec": {
   "display_name": "Python 3 (ipykernel)",
   "language": "python",
   "name": "python3"
  },
  "language_info": {
   "codemirror_mode": {
    "name": "ipython",
    "version": 3
   },
   "file_extension": ".py",
   "mimetype": "text/x-python",
   "name": "python",
   "nbconvert_exporter": "python",
   "pygments_lexer": "ipython3",
   "version": "3.11.4"
  }
 },
 "nbformat": 4,
 "nbformat_minor": 5
}
