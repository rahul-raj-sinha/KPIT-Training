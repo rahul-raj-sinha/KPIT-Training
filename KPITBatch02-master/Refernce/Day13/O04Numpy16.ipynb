{
 "cells": [
  {
   "cell_type": "code",
   "execution_count": 7,
   "id": "cd3e473c",
   "metadata": {},
   "outputs": [
    {
     "name": "stdout",
     "output_type": "stream",
     "text": [
      "Array1 :[1 2 3 4 5]\n",
      "[11 12 13 14 15]\n"
     ]
    }
   ],
   "source": [
    "import numpy as np\n",
    "\n",
    "arr1 = np.array([1, 2, 3, 4, 5])\n",
    "print(f\"Array1 :{arr1}\")\n",
    "\n",
    "n = 10\n",
    "result =arr1 + n\n",
    "\n",
    "print(result)"
   ]
  },
  {
   "cell_type": "code",
   "execution_count": 18,
   "id": "b6c4963e",
   "metadata": {},
   "outputs": [
    {
     "name": "stdout",
     "output_type": "stream",
     "text": [
      "arr1 :\n",
      "[[1 2 3]\n",
      " [4 5 6]]\n",
      "arr2 :\n",
      "[[0 1 2]\n",
      " [0 1 2]]\n",
      "result :\n",
      "[[1 3 5]\n",
      " [4 6 8]]\n"
     ]
    }
   ],
   "source": [
    "# sum \n",
    "\n",
    "arr1 = np.array([[1, 2, 3],\n",
    "                [4, 5, 6]])\n",
    "print(f\"arr1 :\\n{arr1}\")\n",
    "\n",
    "arr2 = np.array([[0, 1, 2],\n",
    "                [0, 1, 2]])\n",
    "print(f\"arr2 :\\n{arr2}\")\n",
    "\n",
    "result = arr1 + arr2\n",
    "\n",
    "print(f\"result :\\n{result}\")"
   ]
  },
  {
   "cell_type": "code",
   "execution_count": 28,
   "id": "71dc7482",
   "metadata": {},
   "outputs": [
    {
     "name": "stdout",
     "output_type": "stream",
     "text": [
      "arr1 :[ 1  2  3  4  5  6  7  8  9 10]\n",
      "arr1 :[-1724114087 -1724114086 -1724114085 -1724114084 -1724114083 -1724114082\n",
      " -1724114081 -1724114080 -1724114079 -1724114078]\n",
      "The total time take :0.06528663635253906\n"
     ]
    },
    {
     "name": "stderr",
     "output_type": "stream",
     "text": [
      "C:\\Users\\Kiran\\AppData\\Local\\Temp\\ipykernel_28236\\4158236953.py:12: RuntimeWarning: overflow encountered in scalar add\n",
      "  arr1[i] += (j ** 2)\n"
     ]
    }
   ],
   "source": [
    "import time\n",
    "\n",
    "arr1 = np.array([1, 2, 3, 4, 5, 6,7, 8, 9, 10])\n",
    "\n",
    "print(f\"arr1 :{arr1}\")\n",
    "\n",
    "st = time.time()\n",
    "\n",
    "# Loop to iterate\n",
    "for i in range(len(arr1)):\n",
    "    for j in range(10000):\n",
    "        arr1[i] += (j ** 2)\n",
    "et = time.time()\n",
    "\n",
    "print(f\"arr1 :{arr1}\")\n",
    "\n",
    "print(f\"The total time take :{et - st}\")"
   ]
  },
  {
   "cell_type": "code",
   "execution_count": 33,
   "id": "61ae3c89",
   "metadata": {},
   "outputs": [
    {
     "name": "stdout",
     "output_type": "stream",
     "text": [
      "arr1:[ 1  2  3  4  5  6  7  8  9 10]\n",
      "[  1   4   9  16  25  36  49  64  81 100]\n"
     ]
    }
   ],
   "source": [
    "arr1 = np.array([1, 2, 3, 4, 5, 6, 7, 8, 9, 10])\n",
    "print(f\"arr1:{arr1}\")\n",
    "\n",
    "def get_square(x):\n",
    "    if x < 0:\n",
    "        return 0\n",
    "    else:\n",
    "        return x ** 2\n",
    "    \n",
    "vector_fun = np.vectorize(get_square)\n",
    "\n",
    "result = vector_fun(arr1)\n",
    "\n",
    "print(result)\n"
   ]
  }
 ],
 "metadata": {
  "kernelspec": {
   "display_name": "Python 3 (ipykernel)",
   "language": "python",
   "name": "python3"
  },
  "language_info": {
   "codemirror_mode": {
    "name": "ipython",
    "version": 3
   },
   "file_extension": ".py",
   "mimetype": "text/x-python",
   "name": "python",
   "nbconvert_exporter": "python",
   "pygments_lexer": "ipython3",
   "version": "3.11.4"
  }
 },
 "nbformat": 4,
 "nbformat_minor": 5
}
