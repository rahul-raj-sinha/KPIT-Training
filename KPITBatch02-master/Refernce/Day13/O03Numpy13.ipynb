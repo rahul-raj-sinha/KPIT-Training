{
 "cells": [
  {
   "cell_type": "code",
   "execution_count": 5,
   "id": "c7799dc4",
   "metadata": {},
   "outputs": [
    {
     "name": "stdout",
     "output_type": "stream",
     "text": [
      "matrix :\n",
      "[[1 2]\n",
      " [3 4]]\n",
      "------------------------------------------------------------\n",
      "Matrix :\n",
      "[[1 2 3]\n",
      " [4 5 6]\n",
      " [7 8 9]]\n"
     ]
    }
   ],
   "source": [
    "import numpy as np\n",
    "\n",
    "\n",
    "matrix1 = np.array([[1, 2], \n",
    "                    [3, 4]])\n",
    "print(f\"matrix :\\n{matrix1}\")\n",
    "\n",
    "print(\"-\" * 60)\n",
    "\n",
    "# 3x3\n",
    "\n",
    "matrix2 = np.array([[1, 2, 3],\n",
    "                    [4, 5, 6],\n",
    "                    [7, 8, 9]])\n",
    "\n",
    "print(f\"Matrix :\\n{matrix2}\")"
   ]
  },
  {
   "cell_type": "code",
   "execution_count": 12,
   "id": "d7483dd3",
   "metadata": {},
   "outputs": [
    {
     "name": "stdout",
     "output_type": "stream",
     "text": [
      "Matrix1 :\n",
      "[[1 2]\n",
      " [3 4]]\n",
      "Matrix2 :\n",
      "[[5 6]\n",
      " [7 8]]\n",
      "Product of mat1 and mat2 :\n",
      "[[19 22]\n",
      " [43 50]]\n"
     ]
    }
   ],
   "source": [
    "# matrix Multiplication\n",
    "\n",
    "mat1 = np.array([[1, 2], \n",
    "                 [3, 4]])\n",
    "mat2 = np.array([[5, 6], \n",
    "                 [7, 8]])\n",
    "print(f\"Matrix1 :\\n{mat1}\")\n",
    "print(f\"Matrix2 :\\n{mat2}\")\n",
    "\n",
    "res = np.dot(mat1, mat2)\n",
    "print(f\"Product of mat1 and mat2 :\\n{res}\")"
   ]
  },
  {
   "cell_type": "code",
   "execution_count": 18,
   "id": "ce7869d0",
   "metadata": {},
   "outputs": [
    {
     "name": "stdout",
     "output_type": "stream",
     "text": [
      "matrix1 :\n",
      "[[1 2]\n",
      " [3 4]]\n",
      "matrix2 :\n",
      "[[1 2 3]\n",
      " [4 5 6]]\n",
      "------------------------------------------------------------\n",
      "Matrix1 Transpose :\n",
      "[[1 3]\n",
      " [2 4]]\n",
      "------------------------------------------------------------\n",
      "Matrix2 Transpose :\n",
      "[[1 4]\n",
      " [2 5]\n",
      " [3 6]]\n"
     ]
    }
   ],
   "source": [
    "# Matrix Trasnpose\n",
    "\n",
    "mat1 = np.array([[1, 2], \n",
    "                 [3, 4]])\n",
    "mat2 = np.array([[1, 2, 3], \n",
    "                 [4, 5, 6]])\n",
    "\n",
    "print(f\"matrix1 :\\n{mat1}\")\n",
    "print(f\"matrix2 :\\n{mat2}\")\n",
    "\n",
    "print(\"-\" * 60)\n",
    "mat1_tran = np.transpose(mat1)\n",
    "print(f\"Matrix1 Transpose :\\n{mat1_tran}\")\n",
    "\n",
    "print(\"-\" * 60)\n",
    "mat2_tran = np.transpose(mat2)\n",
    "print(f\"Matrix2 Transpose :\\n{mat2_tran}\")\n"
   ]
  },
  {
   "cell_type": "code",
   "execution_count": 22,
   "id": "188161df",
   "metadata": {},
   "outputs": [
    {
     "name": "stdout",
     "output_type": "stream",
     "text": [
      "Matrix :\n",
      "[[1 2 3]\n",
      " [4 5 6]\n",
      " [7 8 9]]\n",
      "Inverse of mat1 :\n",
      "[[ 3.15251974e+15 -6.30503948e+15  3.15251974e+15]\n",
      " [-6.30503948e+15  1.26100790e+16 -6.30503948e+15]\n",
      " [ 3.15251974e+15 -6.30503948e+15  3.15251974e+15]]\n"
     ]
    }
   ],
   "source": [
    "# inverse\n",
    "\n",
    "mat1 = np.array([[1, 2, 3], \n",
    "                 [4, 5, 6], \n",
    "                 [7, 8, 9]])\n",
    "\n",
    "print(f\"Matrix :\\n{mat1}\")\n",
    "\n",
    "mat1_inv = np.linalg.inv(mat1)\n",
    "print(f\"Inverse of mat1 :\\n{mat1_inv}\")"
   ]
  },
  {
   "cell_type": "code",
   "execution_count": 30,
   "id": "ef92819e",
   "metadata": {},
   "outputs": [
    {
     "name": "stdout",
     "output_type": "stream",
     "text": [
      "Matrix1 :\n",
      "[[1 2]\n",
      " [3 4]]\n",
      "Determinant :-2.0000000000000004\n",
      "------------------------------------------------------------\n",
      "Matrix2 :\n",
      "[[1 2 3]\n",
      " [4 5 6]\n",
      " [7 8 9]]\n",
      "Determinant mat2 :-9.51619735392994e-16\n"
     ]
    }
   ],
   "source": [
    "# determinent\n",
    "\n",
    "mat1 = np.array([[1, 2], \n",
    "                 [3, 4]])\n",
    "print(f\"Matrix1 :\\n{mat1}\")\n",
    "\n",
    "res_det = np.linalg.det(mat1)\n",
    "print(f\"Determinant :{res_det}\")\n",
    "      \n",
    "print(\"-\" * 60)\n",
    "mat2 = np.array([[1, 2, 3], \n",
    "                 [4, 5, 6], \n",
    "                 [7, 8, 9]])\n",
    "print(f\"Matrix2 :\\n{mat2}\")\n",
    "res_det1 = np.linalg.det(mat2)\n",
    "\n",
    "print(f\"Determinant mat2 :{res_det1}\")\n",
    "\n"
   ]
  },
  {
   "cell_type": "code",
   "execution_count": 31,
   "id": "c24d7845",
   "metadata": {},
   "outputs": [
    {
     "name": "stdout",
     "output_type": "stream",
     "text": [
      "matrix1 :\n",
      "[[1 2 3]\n",
      " [4 5 6]]\n",
      "[1 2 3 4 5 6]\n"
     ]
    }
   ],
   "source": [
    "# flatten\n",
    "\n",
    "mat1 = np.array([[1, 2, 3], \n",
    "                 [4, 5, 6]])\n",
    "\n",
    "print(f\"matrix1 :\\n{mat1}\")\n",
    "res = mat1.flatten()\n",
    "\n",
    "print(res)\n"
   ]
  }
 ],
 "metadata": {
  "kernelspec": {
   "display_name": "Python 3 (ipykernel)",
   "language": "python",
   "name": "python3"
  },
  "language_info": {
   "codemirror_mode": {
    "name": "ipython",
    "version": 3
   },
   "file_extension": ".py",
   "mimetype": "text/x-python",
   "name": "python",
   "nbconvert_exporter": "python",
   "pygments_lexer": "ipython3",
   "version": "3.11.4"
  }
 },
 "nbformat": 4,
 "nbformat_minor": 5
}
