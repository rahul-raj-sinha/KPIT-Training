{
 "cells": [
  {
   "cell_type": "code",
   "execution_count": 2,
   "id": "56c4c441",
   "metadata": {},
   "outputs": [],
   "source": [
    "import numpy as np\n",
    "import pandas as pd"
   ]
  },
  {
   "cell_type": "code",
   "execution_count": 6,
   "id": "8eeda3a5",
   "metadata": {},
   "outputs": [
    {
     "name": "stdout",
     "output_type": "stream",
     "text": [
      "a  1   -1.985909\n",
      "   2   -0.208876\n",
      "   3    1.158504\n",
      "b  1   -0.028370\n",
      "   2    1.068554\n",
      "   3    1.260635\n",
      "c  1    0.922889\n",
      "   2   -1.377619\n",
      "dtype: float64\n"
     ]
    }
   ],
   "source": [
    "data = pd.Series(np.random.randn(8), \n",
    "                index=[['a', 'a', 'a', 'b', 'b', 'b', 'c', 'c'], \n",
    "                [1, 2, 3, 1, 2, 3, 1, 2]])\n",
    "print(data)"
   ]
  },
  {
   "cell_type": "code",
   "execution_count": 8,
   "id": "c040d9b4",
   "metadata": {},
   "outputs": [
    {
     "name": "stdout",
     "output_type": "stream",
     "text": [
      "MultiIndex([('a', 1),\n",
      "            ('a', 2),\n",
      "            ('a', 3),\n",
      "            ('b', 1),\n",
      "            ('b', 2),\n",
      "            ('b', 3),\n",
      "            ('c', 1),\n",
      "            ('c', 2)],\n",
      "           )\n"
     ]
    }
   ],
   "source": [
    "print(data.index)"
   ]
  },
  {
   "cell_type": "code",
   "execution_count": 10,
   "id": "a4c24226",
   "metadata": {},
   "outputs": [
    {
     "name": "stdout",
     "output_type": "stream",
     "text": [
      "1   -1.985909\n",
      "2   -0.208876\n",
      "3    1.158504\n",
      "dtype: float64\n"
     ]
    }
   ],
   "source": [
    "print(data['a'])"
   ]
  },
  {
   "cell_type": "code",
   "execution_count": 12,
   "id": "bf9011a0",
   "metadata": {},
   "outputs": [
    {
     "name": "stdout",
     "output_type": "stream",
     "text": [
      "b  1   -0.028370\n",
      "   2    1.068554\n",
      "   3    1.260635\n",
      "c  1    0.922889\n",
      "   2   -1.377619\n",
      "dtype: float64\n"
     ]
    }
   ],
   "source": [
    "print(data['b':'c'])"
   ]
  },
  {
   "cell_type": "code",
   "execution_count": 16,
   "id": "b900a2f6",
   "metadata": {},
   "outputs": [
    {
     "name": "stdout",
     "output_type": "stream",
     "text": [
      "a  1   -1.985909\n",
      "   2   -0.208876\n",
      "   3    1.158504\n",
      "c  1    0.922889\n",
      "   2   -1.377619\n",
      "dtype: float64\n"
     ]
    }
   ],
   "source": [
    "print(data.loc[['a', 'c']])"
   ]
  },
  {
   "cell_type": "code",
   "execution_count": 19,
   "id": "7572978b",
   "metadata": {},
   "outputs": [
    {
     "name": "stdout",
     "output_type": "stream",
     "text": [
      "a   -1.985909\n",
      "b   -0.028370\n",
      "c    0.922889\n",
      "dtype: float64\n"
     ]
    }
   ],
   "source": [
    "print(data.loc[:, 1])"
   ]
  },
  {
   "cell_type": "code",
   "execution_count": 21,
   "id": "f9257b42",
   "metadata": {},
   "outputs": [
    {
     "name": "stdout",
     "output_type": "stream",
     "text": [
      "          1         2         3\n",
      "a -1.985909 -0.208876  1.158504\n",
      "b -0.028370  1.068554  1.260635\n",
      "c  0.922889 -1.377619       NaN\n"
     ]
    }
   ],
   "source": [
    "print(data.unstack())"
   ]
  },
  {
   "cell_type": "code",
   "execution_count": 24,
   "id": "d8e4c0a8",
   "metadata": {},
   "outputs": [
    {
     "name": "stdout",
     "output_type": "stream",
     "text": [
      "a  1   -1.985909\n",
      "   2   -0.208876\n",
      "   3    1.158504\n",
      "b  1   -0.028370\n",
      "   2    1.068554\n",
      "   3    1.260635\n",
      "c  1    0.922889\n",
      "   2   -1.377619\n",
      "dtype: float64\n"
     ]
    }
   ],
   "source": [
    "print(data.unstack().stack())"
   ]
  },
  {
   "cell_type": "code",
   "execution_count": 30,
   "id": "55ba5602",
   "metadata": {},
   "outputs": [
    {
     "name": "stdout",
     "output_type": "stream",
     "text": [
      "     num          ver\n",
      "    math stat  ML Geo\n",
      "a 1    0    1   2   3\n",
      "  2    4    5   6   7\n",
      "  3    8    9  10  11\n",
      "b 1   12   13  14  15\n",
      "  2   16   17  18  19\n"
     ]
    }
   ],
   "source": [
    "DF = pd.DataFrame(\n",
    "    np.arange(20).reshape(5, 4), \n",
    "    index = [['a', 'a', 'a', 'b', 'b'], \n",
    "    [1, 2, 3, 1, 2]],\n",
    "    columns=[['num', 'num', 'num', 'ver'], \n",
    "            ['math', 'stat', 'ML', 'Geo']])\n",
    "print(DF)"
   ]
  },
  {
   "cell_type": "code",
   "execution_count": 33,
   "id": "0baa99ce",
   "metadata": {},
   "outputs": [
    {
     "name": "stdout",
     "output_type": "stream",
     "text": [
      "field       num          ver\n",
      "lesson     math stat  ML Geo\n",
      "class exam                  \n",
      "a     1       0    1   2   3\n",
      "      2       4    5   6   7\n",
      "      3       8    9  10  11\n",
      "b     1      12   13  14  15\n",
      "      2      16   17  18  19\n"
     ]
    }
   ],
   "source": [
    "DF.index.names = ['class', 'exam']\n",
    "DF.columns.names = [\"field\", 'lesson']\n",
    "print(DF)"
   ]
  },
  {
   "cell_type": "code",
   "execution_count": 35,
   "id": "f8725436",
   "metadata": {},
   "outputs": [
    {
     "name": "stdout",
     "output_type": "stream",
     "text": [
      "lesson      math  stat  ML\n",
      "class exam                \n",
      "a     1        0     1   2\n",
      "      2        4     5   6\n",
      "      3        8     9  10\n",
      "b     1       12    13  14\n",
      "      2       16    17  18\n"
     ]
    }
   ],
   "source": [
    "print(DF['num'])"
   ]
  },
  {
   "cell_type": "code",
   "execution_count": 37,
   "id": "cbfef4d2",
   "metadata": {},
   "outputs": [
    {
     "name": "stdout",
     "output_type": "stream",
     "text": [
      "field       num          ver\n",
      "lesson     math stat  ML Geo\n",
      "exam class                  \n",
      "1    a        0    1   2   3\n",
      "2    a        4    5   6   7\n",
      "3    a        8    9  10  11\n",
      "1    b       12   13  14  15\n",
      "2    b       16   17  18  19\n"
     ]
    }
   ],
   "source": [
    "print(DF.swaplevel(\"class\", \"exam\"))"
   ]
  },
  {
   "cell_type": "markdown",
   "id": "49bec016",
   "metadata": {},
   "source": [
    "DF.sort_index(level=1)"
   ]
  },
  {
   "cell_type": "code",
   "execution_count": 42,
   "id": "9be07b5d",
   "metadata": {},
   "outputs": [
    {
     "name": "stdout",
     "output_type": "stream",
     "text": [
      "field   num          ver\n",
      "lesson math stat  ML Geo\n",
      "exam                    \n",
      "1        12   14  16  18\n",
      "2        20   22  24  26\n",
      "3         8    9  10  11\n"
     ]
    },
    {
     "name": "stderr",
     "output_type": "stream",
     "text": [
      "C:\\Users\\Kiran\\AppData\\Local\\Temp\\ipykernel_9304\\1729514749.py:1: FutureWarning: Using the level keyword in DataFrame and Series aggregations is deprecated and will be removed in a future version. Use groupby instead. df.sum(level=1) should use df.groupby(level=1).sum().\n",
      "  print(DF.sum(level=\"exam\"))\n"
     ]
    }
   ],
   "source": [
    "print(DF.sum(level=\"exam\"))"
   ]
  },
  {
   "cell_type": "code",
   "execution_count": 47,
   "id": "40c2973f",
   "metadata": {},
   "outputs": [
    {
     "name": "stdout",
     "output_type": "stream",
     "text": [
      "field       num  ver\n",
      "class exam          \n",
      "a     1       3    3\n",
      "      2      15    7\n",
      "      3      27   11\n",
      "b     1      39   15\n",
      "      2      51   19\n"
     ]
    },
    {
     "name": "stderr",
     "output_type": "stream",
     "text": [
      "C:\\Users\\Kiran\\AppData\\Local\\Temp\\ipykernel_9304\\1847305691.py:1: FutureWarning: Using the level keyword in DataFrame and Series aggregations is deprecated and will be removed in a future version. Use groupby instead. df.sum(level=1) should use df.groupby(level=1).sum().\n",
      "  print(DF.sum(level=\"field\", axis= 1))\n"
     ]
    }
   ],
   "source": [
    "print(DF.sum(level=\"field\", axis= 1))"
   ]
  },
  {
   "cell_type": "code",
   "execution_count": 60,
   "id": "2bf901df",
   "metadata": {},
   "outputs": [
    {
     "name": "stdout",
     "output_type": "stream",
     "text": [
      "   x  y    a  b\n",
      "0  0  8  one  0\n",
      "1  1  7  one  1\n",
      "2  2  6  one  2\n",
      "3  3  5  one  3\n",
      "4  4  4  two  0\n",
      "5  5  3  two  1\n",
      "6  6  2  two  2\n",
      "7  7  1  two  3\n"
     ]
    }
   ],
   "source": [
    "DF1 = pd.DataFrame(\n",
    "    {\"x\": range(8), \"y\":range(8, 0, -1),\n",
    "     \"a\":['one', 'one', 'one', 'one', 'two', 'two', 'two', 'two'], \n",
    "     \"b\":[0, 1, 2, 3, 0, 1, 2, 3]})\n",
    "print(DF1)"
   ]
  },
  {
   "cell_type": "code",
   "execution_count": 63,
   "id": "34565746",
   "metadata": {},
   "outputs": [
    {
     "name": "stdout",
     "output_type": "stream",
     "text": [
      "       x  y\n",
      "a   b      \n",
      "one 0  0  8\n",
      "    1  1  7\n",
      "    2  2  6\n",
      "    3  3  5\n",
      "two 0  4  4\n",
      "    1  5  3\n",
      "    2  6  2\n",
      "    3  7  1\n"
     ]
    }
   ],
   "source": [
    "data2 = DF1.set_index([\"a\", \"b\"])\n",
    "print(data2)"
   ]
  },
  {
   "cell_type": "code",
   "execution_count": 67,
   "id": "c2fd685d",
   "metadata": {},
   "outputs": [
    {
     "name": "stdout",
     "output_type": "stream",
     "text": [
      "       x  y    a  b\n",
      "a   b              \n",
      "one 0  0  8  one  0\n",
      "    1  1  7  one  1\n",
      "    2  2  6  one  2\n",
      "    3  3  5  one  3\n",
      "two 0  4  4  two  0\n",
      "    1  5  3  two  1\n",
      "    2  6  2  two  2\n",
      "    3  7  1  two  3\n"
     ]
    }
   ],
   "source": [
    "data3 = DF1.set_index([\"a\", \"b\"],drop = False)\n",
    "print(data3)"
   ]
  }
 ],
 "metadata": {
  "kernelspec": {
   "display_name": "Python 3 (ipykernel)",
   "language": "python",
   "name": "python3"
  },
  "language_info": {
   "codemirror_mode": {
    "name": "ipython",
    "version": 3
   },
   "file_extension": ".py",
   "mimetype": "text/x-python",
   "name": "python",
   "nbconvert_exporter": "python",
   "pygments_lexer": "ipython3",
   "version": "3.11.4"
  }
 },
 "nbformat": 4,
 "nbformat_minor": 5
}
