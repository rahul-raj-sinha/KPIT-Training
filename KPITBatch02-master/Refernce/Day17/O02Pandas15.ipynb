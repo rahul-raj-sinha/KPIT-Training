{
 "cells": [
  {
   "cell_type": "code",
   "execution_count": 1,
   "id": "98175019",
   "metadata": {},
   "outputs": [],
   "source": [
    "import numpy as np\n",
    "import pandas as pd"
   ]
  },
  {
   "cell_type": "code",
   "execution_count": 4,
   "id": "83c63624",
   "metadata": {},
   "outputs": [],
   "source": [
    "# joining dataframes\n",
    "\n",
    "DF1 = pd.DataFrame(\n",
    "    {\"key\":[\"a\", \"b\", \"c\", \"c\", \"d\", \"e\"], \n",
    "     \"num1\":range(6)})\n",
    "DF2 = pd.DataFrame(\n",
    "    {\"key\":[\"b\", \"c\", \"e\",\"f\"],\n",
    "     \"num2\":range(4)})"
   ]
  },
  {
   "cell_type": "code",
   "execution_count": 5,
   "id": "3f2544ff",
   "metadata": {},
   "outputs": [
    {
     "name": "stdout",
     "output_type": "stream",
     "text": [
      "  key  num1\n",
      "0   a     0\n",
      "1   b     1\n",
      "2   c     2\n",
      "3   c     3\n",
      "4   d     4\n",
      "5   e     5\n"
     ]
    }
   ],
   "source": [
    "print(DF1)"
   ]
  },
  {
   "cell_type": "code",
   "execution_count": 7,
   "id": "43ddc7c2",
   "metadata": {},
   "outputs": [
    {
     "name": "stdout",
     "output_type": "stream",
     "text": [
      "  key  num2\n",
      "0   b     0\n",
      "1   c     1\n",
      "2   e     2\n",
      "3   f     3\n"
     ]
    }
   ],
   "source": [
    "print(DF2)"
   ]
  },
  {
   "cell_type": "code",
   "execution_count": 10,
   "id": "9ae1c250",
   "metadata": {},
   "outputs": [
    {
     "name": "stdout",
     "output_type": "stream",
     "text": [
      "  key  num1  num2\n",
      "0   b     1     0\n",
      "1   c     2     1\n",
      "2   c     3     1\n",
      "3   e     5     2\n"
     ]
    }
   ],
   "source": [
    "DF3 = pd.merge(DF1, DF2, on=\"key\")\n",
    "print(DF3)"
   ]
  },
  {
   "cell_type": "code",
   "execution_count": 18,
   "id": "8a0fbe0b",
   "metadata": {},
   "outputs": [],
   "source": [
    "DF4 = pd.DataFrame(\n",
    "    {\"key1\":[\"a\", \"b\", \"c\", \"c\", \"d\", \"e\"],\n",
    "     \"num1\":range(6)})\n",
    "\n",
    "DF5 = pd.DataFrame(\n",
    "    {\"key2\":[\"b\", \"c\", \"e\", \"f\"], \n",
    "    \"num2\":range(4)})"
   ]
  },
  {
   "cell_type": "code",
   "execution_count": 19,
   "id": "cb489ba5",
   "metadata": {},
   "outputs": [
    {
     "name": "stdout",
     "output_type": "stream",
     "text": [
      "  key1  num1\n",
      "0    a     0\n",
      "1    b     1\n",
      "2    c     2\n",
      "3    c     3\n",
      "4    d     4\n",
      "5    e     5\n"
     ]
    }
   ],
   "source": [
    "print(DF4)"
   ]
  },
  {
   "cell_type": "code",
   "execution_count": 20,
   "id": "ab2491e9",
   "metadata": {},
   "outputs": [
    {
     "name": "stdout",
     "output_type": "stream",
     "text": [
      "  key2  num2\n",
      "0    b     0\n",
      "1    c     1\n",
      "2    e     2\n",
      "3    f     3\n"
     ]
    }
   ],
   "source": [
    "print(DF5)"
   ]
  },
  {
   "cell_type": "code",
   "execution_count": 24,
   "id": "0e13f879",
   "metadata": {},
   "outputs": [
    {
     "name": "stdout",
     "output_type": "stream",
     "text": [
      "  key1  num1 key2  num2\n",
      "0    b     1    b     0\n",
      "1    c     2    c     1\n",
      "2    c     3    c     1\n",
      "3    e     5    e     2\n"
     ]
    }
   ],
   "source": [
    "DF6 = pd.merge(DF4, DF5, left_on=\"key1\", right_on=\"key2\")\n",
    "print(DF6)"
   ]
  },
  {
   "cell_type": "code",
   "execution_count": 26,
   "id": "b3e9f851",
   "metadata": {},
   "outputs": [
    {
     "name": "stdout",
     "output_type": "stream",
     "text": [
      "  key  num1\n",
      "0   a     0\n",
      "1   b     1\n",
      "2   c     2\n",
      "3   c     3\n",
      "4   d     4\n",
      "5   e     5\n"
     ]
    }
   ],
   "source": [
    "print(DF1)"
   ]
  },
  {
   "cell_type": "code",
   "execution_count": 27,
   "id": "3dc0cb6e",
   "metadata": {},
   "outputs": [
    {
     "name": "stdout",
     "output_type": "stream",
     "text": [
      "  key  num2\n",
      "0   b     0\n",
      "1   c     1\n",
      "2   e     2\n",
      "3   f     3\n"
     ]
    }
   ],
   "source": [
    "print(DF2)"
   ]
  },
  {
   "cell_type": "code",
   "execution_count": 28,
   "id": "7956ad38",
   "metadata": {},
   "outputs": [
    {
     "name": "stdout",
     "output_type": "stream",
     "text": [
      "  key  num1  num2\n",
      "0   a   0.0   NaN\n",
      "1   b   1.0   0.0\n",
      "2   c   2.0   1.0\n",
      "3   c   3.0   1.0\n",
      "4   d   4.0   NaN\n",
      "5   e   5.0   2.0\n",
      "6   f   NaN   3.0\n"
     ]
    }
   ],
   "source": [
    "DF3 = pd.merge(DF1, DF2, how=\"outer\")\n",
    "print(DF3)"
   ]
  },
  {
   "cell_type": "code",
   "execution_count": 31,
   "id": "130ef4bb",
   "metadata": {},
   "outputs": [
    {
     "name": "stdout",
     "output_type": "stream",
     "text": [
      "  key  num1  num2\n",
      "0   b     1     0\n",
      "1   c     2     1\n",
      "2   c     3     1\n",
      "3   e     5     2\n"
     ]
    }
   ],
   "source": [
    "DF3 = pd.merge(DF1, DF2, how=\"inner\")\n",
    "print(DF3)"
   ]
  },
  {
   "cell_type": "code",
   "execution_count": 33,
   "id": "15f9ffbb",
   "metadata": {},
   "outputs": [
    {
     "name": "stdout",
     "output_type": "stream",
     "text": [
      "  key  num1  num2\n",
      "0   b   1.0     0\n",
      "1   c   2.0     1\n",
      "2   c   3.0     1\n",
      "3   e   5.0     2\n",
      "4   f   NaN     3\n"
     ]
    }
   ],
   "source": [
    "DF3 = pd.merge(DF1, DF2, how=\"right\")\n",
    "print(DF3)"
   ]
  },
  {
   "cell_type": "code",
   "execution_count": 49,
   "id": "90daa508",
   "metadata": {},
   "outputs": [],
   "source": [
    "DF1 = pd.DataFrame({\n",
    "    \"letter\":[\"a\", \"a\", \"b\", \"b\", \"a\", \"c\"],\n",
    "    \"num\":range(6)})\n",
    "DF2 = pd.DataFrame({\n",
    "    \"value\":[3, 5, 7]}, \n",
    "    index=[\"a\", \"b\", \"e\"]\n",
    ")"
   ]
  },
  {
   "cell_type": "code",
   "execution_count": 40,
   "id": "d5edf417",
   "metadata": {},
   "outputs": [
    {
     "name": "stdout",
     "output_type": "stream",
     "text": [
      "  letter  num\n",
      "0      a    0\n",
      "1      a    1\n",
      "2      b    2\n",
      "3      b    3\n",
      "4      a    4\n",
      "5      c    5\n"
     ]
    }
   ],
   "source": [
    "print(DF1)"
   ]
  },
  {
   "cell_type": "code",
   "execution_count": 50,
   "id": "8610a1d2",
   "metadata": {},
   "outputs": [
    {
     "name": "stdout",
     "output_type": "stream",
     "text": [
      "   value\n",
      "a      3\n",
      "b      5\n",
      "e      7\n"
     ]
    }
   ],
   "source": [
    "print(DF2)"
   ]
  },
  {
   "cell_type": "code",
   "execution_count": 51,
   "id": "99bb2437",
   "metadata": {},
   "outputs": [
    {
     "name": "stdout",
     "output_type": "stream",
     "text": [
      "  letter  num  value\n",
      "0      a    0      3\n",
      "1      a    1      3\n",
      "4      a    4      3\n",
      "2      b    2      5\n",
      "3      b    3      5\n"
     ]
    }
   ],
   "source": [
    "DF3 = pd.merge(DF1, DF2, left_on=\"letter\", right_index=True)\n",
    "print(DF3)"
   ]
  },
  {
   "cell_type": "code",
   "execution_count": 52,
   "id": "3e521955",
   "metadata": {},
   "outputs": [],
   "source": [
    "# Merge these Dataframes how=outer by index\n",
    "# Solve the problem\n",
    "\n",
    "right=pd.DataFrame(\n",
    "    [[1,2],[3,4],[5,6]],\n",
    "    index=[\"a\",\"c\",\"d\"],\n",
    "    columns=[\"Tom\",\"Tim\"])\n",
    "\n",
    "left=pd.DataFrame(\n",
    "    [[7,8],[9,10],[11,12],[13,14]],\n",
    "    index=[\"a\",\"b\",\"e\",\"f\"],\n",
    "    columns=[\"Sam\",\"Kim\"])\n"
   ]
  },
  {
   "cell_type": "code",
   "execution_count": 54,
   "id": "002746c7",
   "metadata": {},
   "outputs": [
    {
     "name": "stdout",
     "output_type": "stream",
     "text": [
      "[[ 0  1  2  3  4]\n",
      " [ 5  6  7  8  9]\n",
      " [10 11 12 13 14]\n",
      " [15 16 17 18 19]]\n"
     ]
    }
   ],
   "source": [
    "seq= np.arange(20).reshape(4, 5)\n",
    "print(seq)"
   ]
  },
  {
   "cell_type": "code",
   "execution_count": 58,
   "id": "7c1dedfc",
   "metadata": {},
   "outputs": [
    {
     "name": "stdout",
     "output_type": "stream",
     "text": [
      "[[ 0  1  2  3  4  0  1  2  3  4]\n",
      " [ 5  6  7  8  9  5  6  7  8  9]\n",
      " [10 11 12 13 14 10 11 12 13 14]\n",
      " [15 16 17 18 19 15 16 17 18 19]]\n"
     ]
    }
   ],
   "source": [
    "res = np.concatenate([seq, seq], axis = 1)\n",
    "print(res)"
   ]
  },
  {
   "cell_type": "code",
   "execution_count": 61,
   "id": "9c8a24cc",
   "metadata": {},
   "outputs": [
    {
     "name": "stdout",
     "output_type": "stream",
     "text": [
      "[[ 0  1  2  3  4]\n",
      " [ 5  6  7  8  9]\n",
      " [10 11 12 13 14]\n",
      " [15 16 17 18 19]\n",
      " [ 0  1  2  3  4]\n",
      " [ 5  6  7  8  9]\n",
      " [10 11 12 13 14]\n",
      " [15 16 17 18 19]]\n"
     ]
    }
   ],
   "source": [
    "res = np.concatenate([seq, seq], axis=0)\n",
    "print(res)"
   ]
  },
  {
   "cell_type": "code",
   "execution_count": 63,
   "id": "4914bd45",
   "metadata": {},
   "outputs": [],
   "source": [
    "data1 = pd.Series([0, 1], index=[\"a\", \"b\"])\n",
    "data2 = pd.Series([2, 3, 4], index=[\"c\", \"d\", \"e\"])\n",
    "data3 = pd.Series([5, 6], index=[\"f\", \"g\"])"
   ]
  },
  {
   "cell_type": "code",
   "execution_count": 65,
   "id": "2c752e7c",
   "metadata": {},
   "outputs": [
    {
     "name": "stdout",
     "output_type": "stream",
     "text": [
      "a    0\n",
      "b    1\n",
      "dtype: int64\n"
     ]
    }
   ],
   "source": [
    "print(data1)"
   ]
  },
  {
   "cell_type": "code",
   "execution_count": 67,
   "id": "24e64696",
   "metadata": {},
   "outputs": [
    {
     "name": "stdout",
     "output_type": "stream",
     "text": [
      "c    2\n",
      "d    3\n",
      "e    4\n",
      "dtype: int64\n"
     ]
    }
   ],
   "source": [
    "print(data2)"
   ]
  },
  {
   "cell_type": "code",
   "execution_count": 69,
   "id": "0a0ae3b1",
   "metadata": {},
   "outputs": [
    {
     "name": "stdout",
     "output_type": "stream",
     "text": [
      "f    5\n",
      "g    6\n",
      "dtype: int64\n"
     ]
    }
   ],
   "source": [
    "print(data3)"
   ]
  },
  {
   "cell_type": "code",
   "execution_count": 73,
   "id": "a9071178",
   "metadata": {},
   "outputs": [
    {
     "name": "stdout",
     "output_type": "stream",
     "text": [
      "a    0\n",
      "b    1\n",
      "c    2\n",
      "d    3\n",
      "e    4\n",
      "f    5\n",
      "g    6\n",
      "dtype: int64\n"
     ]
    }
   ],
   "source": [
    "res = pd.concat([data1, data2, data3])\n",
    "print(res)"
   ]
  },
  {
   "cell_type": "code",
   "execution_count": 75,
   "id": "6b64bb97",
   "metadata": {},
   "outputs": [
    {
     "name": "stdout",
     "output_type": "stream",
     "text": [
      "     0    1    2\n",
      "a  0.0  NaN  NaN\n",
      "b  1.0  NaN  NaN\n",
      "c  NaN  2.0  NaN\n",
      "d  NaN  3.0  NaN\n",
      "e  NaN  4.0  NaN\n",
      "f  NaN  NaN  5.0\n",
      "g  NaN  NaN  6.0\n"
     ]
    }
   ],
   "source": [
    "res = pd.concat([data1, data2, data3], axis=1)\n",
    "print(res)"
   ]
  },
  {
   "cell_type": "code",
   "execution_count": 77,
   "id": "0aab2932",
   "metadata": {},
   "outputs": [
    {
     "name": "stdout",
     "output_type": "stream",
     "text": [
      "a     0\n",
      "b     1\n",
      "a    10\n",
      "b    11\n",
      "c    12\n",
      "dtype: int64\n"
     ]
    }
   ],
   "source": [
    "data4 = pd.Series([10, 11, 12], \n",
    "                 index=[\"a\", \"b\", \"c\"])\n",
    "res = pd.concat([data1, data4], join=\"inner\")\n",
    "print(res)"
   ]
  },
  {
   "cell_type": "code",
   "execution_count": 78,
   "id": "977ece58",
   "metadata": {},
   "outputs": [
    {
     "name": "stdout",
     "output_type": "stream",
     "text": [
      "one    a     0\n",
      "       b     1\n",
      "two    c     2\n",
      "       d     3\n",
      "       e     4\n",
      "three  a    10\n",
      "       b    11\n",
      "       c    12\n",
      "dtype: int64\n"
     ]
    }
   ],
   "source": [
    "res = pd.concat([data1, data2, data4], \n",
    "               keys=[\"one\", \"two\", \"three\"])\n",
    "print(res)"
   ]
  }
 ],
 "metadata": {
  "kernelspec": {
   "display_name": "Python 3 (ipykernel)",
   "language": "python",
   "name": "python3"
  },
  "language_info": {
   "codemirror_mode": {
    "name": "ipython",
    "version": 3
   },
   "file_extension": ".py",
   "mimetype": "text/x-python",
   "name": "python",
   "nbconvert_exporter": "python",
   "pygments_lexer": "ipython3",
   "version": "3.11.4"
  }
 },
 "nbformat": 4,
 "nbformat_minor": 5
}
