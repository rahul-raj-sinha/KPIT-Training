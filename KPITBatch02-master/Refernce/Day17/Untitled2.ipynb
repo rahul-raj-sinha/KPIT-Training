{
 "cells": [
  {
   "cell_type": "code",
   "execution_count": 3,
   "id": "3b8f6bc6",
   "metadata": {},
   "outputs": [],
   "source": [
    "import pandas as pd\n",
    "import numpy as np"
   ]
  },
  {
   "cell_type": "code",
   "execution_count": 5,
   "id": "48b2858b",
   "metadata": {},
   "outputs": [
    {
     "name": "stdout",
     "output_type": "stream",
     "text": [
      "     num      comp     \n",
      "    math stat math stat\n",
      "a 1    0    1    2    3\n",
      "  2    4    5    6    7\n",
      "b 1    8    9   10   11\n",
      "  2   12   13   14   15\n"
     ]
    }
   ],
   "source": [
    "DF = pd.DataFrame(\n",
    "    np.arange(16).reshape(4, 4), \n",
    "    index=[list(\"aabb\"), [1, 2] * 2],\n",
    "    columns = [[\"num\", \"num\", \n",
    "                \"comp\", \"comp\"], [\"math\", \"stat\"]*2])\n",
    "print(DF)"
   ]
  },
  {
   "cell_type": "code",
   "execution_count": 7,
   "id": "82b552d3",
   "metadata": {},
   "outputs": [
    {
     "name": "stdout",
     "output_type": "stream",
     "text": [
      "field       num      comp     \n",
      "lesson     math stat math stat\n",
      "class exam                    \n",
      "a     1       0    1    2    3\n",
      "      2       4    5    6    7\n",
      "b     1       8    9   10   11\n",
      "      2      12   13   14   15\n"
     ]
    }
   ],
   "source": [
    "DF.index.names=[\"class\", \"exam\"]\n",
    "DF.columns.names = [\"field\", \"lesson\"]\n",
    "print(DF)"
   ]
  },
  {
   "cell_type": "code",
   "execution_count": 10,
   "id": "3d4b1124",
   "metadata": {},
   "outputs": [
    {
     "name": "stdout",
     "output_type": "stream",
     "text": [
      "field              comp  num\n",
      "class exam lesson           \n",
      "a     1    math       2    0\n",
      "           stat       3    1\n",
      "      2    math       6    4\n",
      "           stat       7    5\n",
      "b     1    math      10    8\n",
      "           stat      11    9\n",
      "      2    math      14   12\n",
      "           stat      15   13\n"
     ]
    }
   ],
   "source": [
    "long = DF.stack()\n",
    "print(long)"
   ]
  },
  {
   "cell_type": "code",
   "execution_count": 14,
   "id": "17022794",
   "metadata": {},
   "outputs": [
    {
     "name": "stdout",
     "output_type": "stream",
     "text": [
      "field      comp       num     \n",
      "lesson     math stat math stat\n",
      "class exam                    \n",
      "a     1       2    3    0    1\n",
      "      2       6    7    4    5\n",
      "b     1      10   11    8    9\n",
      "      2      14   15   12   13\n"
     ]
    }
   ],
   "source": [
    "print(long.unstack())"
   ]
  },
  {
   "cell_type": "code",
   "execution_count": 15,
   "id": "09f9b419",
   "metadata": {},
   "outputs": [
    {
     "name": "stdout",
     "output_type": "stream",
     "text": [
      "field              comp  num\n",
      "class exam lesson           \n",
      "a     1    math       2    0\n",
      "           stat       3    1\n",
      "      2    math       6    4\n",
      "           stat       7    5\n",
      "b     1    math      10    8\n",
      "           stat      11    9\n",
      "      2    math      14   12\n",
      "           stat      15   13\n"
     ]
    }
   ],
   "source": [
    "print(DF.stack())"
   ]
  },
  {
   "cell_type": "code",
   "execution_count": 17,
   "id": "6baa0424",
   "metadata": {},
   "outputs": [
    {
     "data": {
      "text/html": [
       "<div>\n",
       "<style scoped>\n",
       "    .dataframe tbody tr th:only-of-type {\n",
       "        vertical-align: middle;\n",
       "    }\n",
       "\n",
       "    .dataframe tbody tr th {\n",
       "        vertical-align: top;\n",
       "    }\n",
       "\n",
       "    .dataframe thead th {\n",
       "        text-align: right;\n",
       "    }\n",
       "</style>\n",
       "<table border=\"1\" class=\"dataframe\">\n",
       "  <thead>\n",
       "    <tr style=\"text-align: right;\">\n",
       "      <th></th>\n",
       "      <th></th>\n",
       "      <th>lesson</th>\n",
       "      <th>math</th>\n",
       "      <th>stat</th>\n",
       "    </tr>\n",
       "    <tr>\n",
       "      <th>class</th>\n",
       "      <th>exam</th>\n",
       "      <th>field</th>\n",
       "      <th></th>\n",
       "      <th></th>\n",
       "    </tr>\n",
       "  </thead>\n",
       "  <tbody>\n",
       "    <tr>\n",
       "      <th rowspan=\"4\" valign=\"top\">a</th>\n",
       "      <th rowspan=\"2\" valign=\"top\">1</th>\n",
       "      <th>comp</th>\n",
       "      <td>2</td>\n",
       "      <td>3</td>\n",
       "    </tr>\n",
       "    <tr>\n",
       "      <th>num</th>\n",
       "      <td>0</td>\n",
       "      <td>1</td>\n",
       "    </tr>\n",
       "    <tr>\n",
       "      <th rowspan=\"2\" valign=\"top\">2</th>\n",
       "      <th>comp</th>\n",
       "      <td>6</td>\n",
       "      <td>7</td>\n",
       "    </tr>\n",
       "    <tr>\n",
       "      <th>num</th>\n",
       "      <td>4</td>\n",
       "      <td>5</td>\n",
       "    </tr>\n",
       "    <tr>\n",
       "      <th rowspan=\"4\" valign=\"top\">b</th>\n",
       "      <th rowspan=\"2\" valign=\"top\">1</th>\n",
       "      <th>comp</th>\n",
       "      <td>10</td>\n",
       "      <td>11</td>\n",
       "    </tr>\n",
       "    <tr>\n",
       "      <th>num</th>\n",
       "      <td>8</td>\n",
       "      <td>9</td>\n",
       "    </tr>\n",
       "    <tr>\n",
       "      <th rowspan=\"2\" valign=\"top\">2</th>\n",
       "      <th>comp</th>\n",
       "      <td>14</td>\n",
       "      <td>15</td>\n",
       "    </tr>\n",
       "    <tr>\n",
       "      <th>num</th>\n",
       "      <td>12</td>\n",
       "      <td>13</td>\n",
       "    </tr>\n",
       "  </tbody>\n",
       "</table>\n",
       "</div>"
      ],
      "text/plain": [
       "lesson            math  stat\n",
       "class exam field            \n",
       "a     1    comp      2     3\n",
       "           num       0     1\n",
       "      2    comp      6     7\n",
       "           num       4     5\n",
       "b     1    comp     10    11\n",
       "           num       8     9\n",
       "      2    comp     14    15\n",
       "           num      12    13"
      ]
     },
     "execution_count": 17,
     "metadata": {},
     "output_type": "execute_result"
    }
   ],
   "source": [
    "DF.stack(0)"
   ]
  },
  {
   "cell_type": "code",
   "execution_count": 20,
   "id": "160750a0",
   "metadata": {},
   "outputs": [
    {
     "name": "stdout",
     "output_type": "stream",
     "text": [
      "a    0\n",
      "b    1\n",
      "c    2\n",
      "d    3\n",
      "dtype: int32\n",
      "c    6\n",
      "d    7\n",
      "e    8\n",
      "dtype: int32\n"
     ]
    }
   ],
   "source": [
    "s1 = pd.Series(np.arange(4), index=list(\"abcd\"))\n",
    "s2 = pd.Series(np.arange(6, 9), index=list(\"cde\"))\n",
    "print(s1)\n",
    "print(s2)"
   ]
  },
  {
   "cell_type": "code",
   "execution_count": 23,
   "id": "5870fdaf",
   "metadata": {},
   "outputs": [
    {
     "name": "stdout",
     "output_type": "stream",
     "text": [
      "blr  a    0\n",
      "     b    1\n",
      "     c    2\n",
      "     d    3\n",
      "che  c    6\n",
      "     d    7\n",
      "     e    8\n",
      "dtype: int32\n"
     ]
    }
   ],
   "source": [
    "res = pd.concat([s1, s2], keys=([\"blr\", \"che\"]))\n",
    "print(res)"
   ]
  },
  {
   "cell_type": "code",
   "execution_count": 26,
   "id": "79982f18",
   "metadata": {},
   "outputs": [
    {
     "name": "stdout",
     "output_type": "stream",
     "text": [
      "       a    b    c    d    e\n",
      "blr  0.0  1.0  2.0  3.0  NaN\n",
      "che  NaN  NaN  6.0  7.0  8.0\n"
     ]
    }
   ],
   "source": [
    "res1 = res.unstack()\n",
    "print(res1)"
   ]
  },
  {
   "cell_type": "code",
   "execution_count": null,
   "id": "c8366d45",
   "metadata": {},
   "outputs": [],
   "source": []
  },
  {
   "cell_type": "code",
   "execution_count": null,
   "id": "1f501595",
   "metadata": {},
   "outputs": [],
   "source": []
  }
 ],
 "metadata": {
  "kernelspec": {
   "display_name": "Python 3 (ipykernel)",
   "language": "python",
   "name": "python3"
  },
  "language_info": {
   "codemirror_mode": {
    "name": "ipython",
    "version": 3
   },
   "file_extension": ".py",
   "mimetype": "text/x-python",
   "name": "python",
   "nbconvert_exporter": "python",
   "pygments_lexer": "ipython3",
   "version": "3.11.4"
  }
 },
 "nbformat": 4,
 "nbformat_minor": 5
}
