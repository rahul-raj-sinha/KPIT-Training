{
 "cells": [
  {
   "cell_type": "code",
   "execution_count": 1,
   "id": "7c956996",
   "metadata": {},
   "outputs": [],
   "source": [
    "import pandas as pd\n",
    "import numpy as np"
   ]
  },
  {
   "cell_type": "code",
   "execution_count": 2,
   "id": "e9c7a6d3",
   "metadata": {},
   "outputs": [
    {
     "name": "stdout",
     "output_type": "stream",
     "text": [
      "     num      comp     \n",
      "    math stat math stat\n",
      "a 1    0    1    2    3\n",
      "  2    4    5    6    7\n",
      "b 1    8    9   10   11\n",
      "  2   12   13   14   15\n"
     ]
    }
   ],
   "source": [
    "DF = pd.DataFrame(\n",
    "    np.arange(16).reshape(4, 4), \n",
    "    index=[list(\"aabb\"), [1, 2] * 2],\n",
    "    columns = [[\"num\", \"num\", \n",
    "                \"comp\", \"comp\"], [\"math\", \"stat\"]*2])\n",
    "print(DF)"
   ]
  },
  {
   "cell_type": "code",
   "execution_count": 3,
   "id": "6e03eb86",
   "metadata": {},
   "outputs": [
    {
     "name": "stdout",
     "output_type": "stream",
     "text": [
      "field       num      comp     \n",
      "lesson     math stat math stat\n",
      "class exam                    \n",
      "a     1       0    1    2    3\n",
      "      2       4    5    6    7\n",
      "b     1       8    9   10   11\n",
      "      2      12   13   14   15\n"
     ]
    }
   ],
   "source": [
    "DF.index.names=[\"class\", \"exam\"]\n",
    "DF.columns.names = [\"field\", \"lesson\"]\n",
    "print(DF)"
   ]
  },
  {
   "cell_type": "code",
   "execution_count": 4,
   "id": "1c6ed227",
   "metadata": {},
   "outputs": [
    {
     "name": "stdout",
     "output_type": "stream",
     "text": [
      "field              comp  num\n",
      "class exam lesson           \n",
      "a     1    math       2    0\n",
      "           stat       3    1\n",
      "      2    math       6    4\n",
      "           stat       7    5\n",
      "b     1    math      10    8\n",
      "           stat      11    9\n",
      "      2    math      14   12\n",
      "           stat      15   13\n"
     ]
    }
   ],
   "source": [
    "long = DF.stack()\n",
    "print(long)"
   ]
  },
  {
   "cell_type": "code",
   "execution_count": 5,
   "id": "d89e3616",
   "metadata": {},
   "outputs": [
    {
     "name": "stdout",
     "output_type": "stream",
     "text": [
      "field      comp       num     \n",
      "lesson     math stat math stat\n",
      "class exam                    \n",
      "a     1       2    3    0    1\n",
      "      2       6    7    4    5\n",
      "b     1      10   11    8    9\n",
      "      2      14   15   12   13\n"
     ]
    }
   ],
   "source": [
    "print(long.unstack())"
   ]
  },
  {
   "cell_type": "code",
   "execution_count": 6,
   "id": "1880bae0",
   "metadata": {},
   "outputs": [
    {
     "name": "stdout",
     "output_type": "stream",
     "text": [
      "field              comp  num\n",
      "class exam lesson           \n",
      "a     1    math       2    0\n",
      "           stat       3    1\n",
      "      2    math       6    4\n",
      "           stat       7    5\n",
      "b     1    math      10    8\n",
      "           stat      11    9\n",
      "      2    math      14   12\n",
      "           stat      15   13\n"
     ]
    }
   ],
   "source": [
    "print(DF.stack())"
   ]
  },
  {
   "cell_type": "code",
   "execution_count": 7,
   "id": "5152352f",
   "metadata": {},
   "outputs": [
    {
     "data": {
      "text/html": [
       "<div>\n",
       "<style scoped>\n",
       "    .dataframe tbody tr th:only-of-type {\n",
       "        vertical-align: middle;\n",
       "    }\n",
       "\n",
       "    .dataframe tbody tr th {\n",
       "        vertical-align: top;\n",
       "    }\n",
       "\n",
       "    .dataframe thead th {\n",
       "        text-align: right;\n",
       "    }\n",
       "</style>\n",
       "<table border=\"1\" class=\"dataframe\">\n",
       "  <thead>\n",
       "    <tr style=\"text-align: right;\">\n",
       "      <th></th>\n",
       "      <th></th>\n",
       "      <th>lesson</th>\n",
       "      <th>math</th>\n",
       "      <th>stat</th>\n",
       "    </tr>\n",
       "    <tr>\n",
       "      <th>class</th>\n",
       "      <th>exam</th>\n",
       "      <th>field</th>\n",
       "      <th></th>\n",
       "      <th></th>\n",
       "    </tr>\n",
       "  </thead>\n",
       "  <tbody>\n",
       "    <tr>\n",
       "      <th rowspan=\"4\" valign=\"top\">a</th>\n",
       "      <th rowspan=\"2\" valign=\"top\">1</th>\n",
       "      <th>comp</th>\n",
       "      <td>2</td>\n",
       "      <td>3</td>\n",
       "    </tr>\n",
       "    <tr>\n",
       "      <th>num</th>\n",
       "      <td>0</td>\n",
       "      <td>1</td>\n",
       "    </tr>\n",
       "    <tr>\n",
       "      <th rowspan=\"2\" valign=\"top\">2</th>\n",
       "      <th>comp</th>\n",
       "      <td>6</td>\n",
       "      <td>7</td>\n",
       "    </tr>\n",
       "    <tr>\n",
       "      <th>num</th>\n",
       "      <td>4</td>\n",
       "      <td>5</td>\n",
       "    </tr>\n",
       "    <tr>\n",
       "      <th rowspan=\"4\" valign=\"top\">b</th>\n",
       "      <th rowspan=\"2\" valign=\"top\">1</th>\n",
       "      <th>comp</th>\n",
       "      <td>10</td>\n",
       "      <td>11</td>\n",
       "    </tr>\n",
       "    <tr>\n",
       "      <th>num</th>\n",
       "      <td>8</td>\n",
       "      <td>9</td>\n",
       "    </tr>\n",
       "    <tr>\n",
       "      <th rowspan=\"2\" valign=\"top\">2</th>\n",
       "      <th>comp</th>\n",
       "      <td>14</td>\n",
       "      <td>15</td>\n",
       "    </tr>\n",
       "    <tr>\n",
       "      <th>num</th>\n",
       "      <td>12</td>\n",
       "      <td>13</td>\n",
       "    </tr>\n",
       "  </tbody>\n",
       "</table>\n",
       "</div>"
      ],
      "text/plain": [
       "lesson            math  stat\n",
       "class exam field            \n",
       "a     1    comp      2     3\n",
       "           num       0     1\n",
       "      2    comp      6     7\n",
       "           num       4     5\n",
       "b     1    comp     10    11\n",
       "           num       8     9\n",
       "      2    comp     14    15\n",
       "           num      12    13"
      ]
     },
     "execution_count": 7,
     "metadata": {},
     "output_type": "execute_result"
    }
   ],
   "source": [
    "DF.stack(0)"
   ]
  },
  {
   "cell_type": "code",
   "execution_count": 8,
   "id": "e152c8c3",
   "metadata": {},
   "outputs": [
    {
     "name": "stdout",
     "output_type": "stream",
     "text": [
      "a    0\n",
      "b    1\n",
      "c    2\n",
      "d    3\n",
      "dtype: int32\n",
      "c    6\n",
      "d    7\n",
      "e    8\n",
      "dtype: int32\n"
     ]
    }
   ],
   "source": [
    "s1 = pd.Series(np.arange(4), index=list(\"abcd\"))\n",
    "s2 = pd.Series(np.arange(6, 9), index=list(\"cde\"))\n",
    "print(s1)\n",
    "print(s2)"
   ]
  },
  {
   "cell_type": "code",
   "execution_count": 9,
   "id": "7733bed2",
   "metadata": {},
   "outputs": [
    {
     "name": "stdout",
     "output_type": "stream",
     "text": [
      "blr  a    0\n",
      "     b    1\n",
      "     c    2\n",
      "     d    3\n",
      "che  c    6\n",
      "     d    7\n",
      "     e    8\n",
      "dtype: int32\n"
     ]
    }
   ],
   "source": [
    "res = pd.concat([s1, s2], keys=([\"blr\", \"che\"]))\n",
    "print(res)"
   ]
  },
  {
   "cell_type": "code",
   "execution_count": 10,
   "id": "8feda2b1",
   "metadata": {},
   "outputs": [
    {
     "name": "stdout",
     "output_type": "stream",
     "text": [
      "       a    b    c    d    e\n",
      "blr  0.0  1.0  2.0  3.0  NaN\n",
      "che  NaN  NaN  6.0  7.0  8.0\n"
     ]
    }
   ],
   "source": [
    "res1 = res.unstack()\n",
    "print(res1)"
   ]
  },
  {
   "cell_type": "code",
   "execution_count": 14,
   "id": "8e4a58d5",
   "metadata": {},
   "outputs": [
    {
     "data": {
      "text/plain": [
       "blr  a    0.0\n",
       "     b    1.0\n",
       "     c    2.0\n",
       "     d    3.0\n",
       "     e    NaN\n",
       "che  a    NaN\n",
       "     b    NaN\n",
       "     c    6.0\n",
       "     d    7.0\n",
       "     e    8.0\n",
       "dtype: float64"
      ]
     },
     "execution_count": 14,
     "metadata": {},
     "output_type": "execute_result"
    }
   ],
   "source": [
    "res.unstack().stack(dropna = False)"
   ]
  },
  {
   "cell_type": "code",
   "execution_count": null,
   "id": "919b7d4a",
   "metadata": {},
   "outputs": [],
   "source": []
  }
 ],
 "metadata": {
  "kernelspec": {
   "display_name": "Python 3 (ipykernel)",
   "language": "python",
   "name": "python3"
  },
  "language_info": {
   "codemirror_mode": {
    "name": "ipython",
    "version": 3
   },
   "file_extension": ".py",
   "mimetype": "text/x-python",
   "name": "python",
   "nbconvert_exporter": "python",
   "pygments_lexer": "ipython3",
   "version": "3.11.4"
  }
 },
 "nbformat": 4,
 "nbformat_minor": 5
}
