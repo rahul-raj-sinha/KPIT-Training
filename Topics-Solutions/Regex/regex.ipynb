{
 "cells": [
  {
   "cell_type": "code",
   "execution_count": null,
   "metadata": {},
   "outputs": [],
   "source": [
    "# Write a Python program to remove all whitespaces from a string.\n",
    "import re\n",
    "text1 = ' Python    Exercises '\n",
    "print(\"Original string:\",text1)\n",
    "print(\"Without extra spaces:\",re.sub(r'\\s+', '',text1))\n"
   ]
  },
  {
   "cell_type": "code",
   "execution_count": null,
   "metadata": {},
   "outputs": [],
   "source": [
    "# Write a Python program to check that a string contains only a certain set of characters (in this case a-z, A-Z and 0-9).\n",
    "import re\n",
    "def is_allowed_specific_char(string):\n",
    "    charRe = re.compile(r'[^a-zA-Z0-9]')\n",
    "    string = charRe.search(string)\n",
    "    return not bool(string)\n",
    "\n",
    "print(is_allowed_specific_char(\"ABCDEFabcdef123450\")) \n",
    "print(is_allowed_specific_char(\"*&%@#!}{\"))\n"
   ]
  },
  {
   "cell_type": "code",
   "execution_count": null,
   "metadata": {},
   "outputs": [],
   "source": [
    "# Write a Python program that matches a string that has an a followed by zero or more b's.\n",
    "import re\n",
    "def text_match(text):\n",
    "        patterns = '^a(b*)$'\n",
    "        if re.search(patterns,  text):\n",
    "                return 'Found a match!'\n",
    "        else:\n",
    "                return('Not matched!')\n",
    "print(text_match(\"ac\"))\n",
    "print(text_match(\"abc\"))\n",
    "print(text_match(\"a\"))\n",
    "print(text_match(\"ab\"))\n",
    "print(text_match(\"abb\"))\n"
   ]
  },
  {
   "cell_type": "code",
   "execution_count": null,
   "metadata": {},
   "outputs": [],
   "source": [
    "# Write a Python program that matches a string that has an a followed by one or more b's.\n",
    "import re\n",
    "def text_match(text):\n",
    "        patterns = 'ab+?'\n",
    "        if re.search(patterns,  text):\n",
    "                return 'Found a match!'\n",
    "        else:\n",
    "                return('Not matched!')\n",
    "\n",
    "print(text_match(\"ab\"))\n",
    "print(text_match(\"abc\"))\n"
   ]
  },
  {
   "cell_type": "code",
   "execution_count": null,
   "metadata": {},
   "outputs": [],
   "source": [
    "# Write a Python program that matches a string that has an a followed by zero or one 'b'.\n",
    "import re\n",
    "def text_match(text):\n",
    "        patterns = 'ab?'\n",
    "        if re.search(patterns,  text):\n",
    "                return 'Found a match!'\n",
    "        else:\n",
    "                return('Not matched!')\n",
    "\n",
    "print(text_match(\"ab\"))\n",
    "print(text_match(\"abc\"))\n",
    "print(text_match(\"abbc\"))\n",
    "print(text_match(\"aabbc\"))\n"
   ]
  },
  {
   "cell_type": "code",
   "execution_count": null,
   "metadata": {},
   "outputs": [],
   "source": [
    "# Write a Python program that matches a string that has an a followed by three 'b'\n",
    "import re\n",
    "def text_match(text):\n",
    "        patterns = 'ab{3}?'\n",
    "        if re.search(patterns,  text):\n",
    "                return 'Found a match!'\n",
    "        else:\n",
    "                return('Not matched!')\n",
    "\n",
    "print(text_match(\"abbb\"))\n",
    "print(text_match(\"aabbbbbc\"))\n"
   ]
  },
  {
   "cell_type": "code",
   "execution_count": null,
   "metadata": {},
   "outputs": [],
   "source": [
    "# Write a Python program that matches a string that has an a followed by two to three 'b'.\n",
    "import re\n",
    "def text_match(text):\n",
    "        patterns = 'ab{2,3}'\n",
    "        if re.search(patterns,  text):\n",
    "                return 'Found a match!'\n",
    "        else:\n",
    "                return('Not matched!')\n",
    "print(text_match(\"ab\"))\n",
    "print(text_match(\"aabbbbbc\"))\n"
   ]
  },
  {
   "cell_type": "code",
   "execution_count": null,
   "metadata": {},
   "outputs": [],
   "source": [
    "# Write a Python program to find sequences of lowercase letters joined by an underscore.\n",
    "import re\n",
    "def text_match(text):\n",
    "        patterns = '^[a-z]+_[a-z]+$'\n",
    "        if re.search(patterns,  text):\n",
    "                return 'Found a match!'\n",
    "        else:\n",
    "                return('Not matched!')\n",
    "\n",
    "print(text_match(\"aab_cbbbc\"))\n",
    "print(text_match(\"aab_Abbbc\"))\n",
    "print(text_match(\"Aaab_abbbc\"))\n"
   ]
  },
  {
   "cell_type": "code",
   "execution_count": null,
   "metadata": {},
   "outputs": [],
   "source": [
    "# Write a Python program to find the sequences of one upper case letter followed by lower case letters.\n",
    "import re\n",
    "def text_match(text):\n",
    "        patterns = '[A-Z]+[a-z]+$'\n",
    "        if re.search(patterns, text):\n",
    "                return 'Found a match!'\n",
    "        else:\n",
    "                return('Not matched!')\n",
    "print(text_match(\"AaBbGg\"))\n",
    "print(text_match(\"Python\"))\n",
    "print(text_match(\"python\"))\n",
    "print(text_match(\"PYTHON\"))\n",
    "print(text_match(\"aA\"))\n",
    "print(text_match(\"Aa\"))\n"
   ]
  },
  {
   "cell_type": "code",
   "execution_count": null,
   "metadata": {},
   "outputs": [],
   "source": [
    "# Write a Python program that matches a string that has an 'a' followed by anything ending in 'b'.\n",
    "import re\n",
    "def text_match(text):\n",
    "        patterns = 'a.*?b$'\n",
    "        if re.search(patterns,  text):\n",
    "                return 'Found a match!'\n",
    "        else:\n",
    "                return('Not matched!')\n",
    "\n",
    "print(text_match(\"aabbbbd\"))\n",
    "print(text_match(\"aabAbbbc\"))\n",
    "print(text_match(\"accddbbjjjb\"))\n"
   ]
  },
  {
   "cell_type": "code",
   "execution_count": null,
   "metadata": {},
   "outputs": [],
   "source": [
    "# Write a Python program that matches a word at the beginning of a string.\n",
    "import re\n",
    "def text_match(text):\n",
    "        patterns = '^\\w+'\n",
    "        if re.search(patterns,  text):\n",
    "                return 'Found a match!'\n",
    "        else:\n",
    "                return('Not matched!')\n",
    "\n",
    "print(text_match(\"The quick brown fox jumps over the lazy dog.\"))\n",
    "print(text_match(\" The quick brown fox jumps over the lazy dog.\"))\n"
   ]
  },
  {
   "cell_type": "code",
   "execution_count": null,
   "metadata": {},
   "outputs": [],
   "source": [
    "# Write a Python program that matches a word at the end of a string, with optional punctuation.\n",
    "import re\n",
    "def text_match(text):\n",
    "        patterns = '\\w+\\S*$'\n",
    "        if re.search(patterns,  text):\n",
    "                return 'Found a match!'\n",
    "        else:\n",
    "                return('Not matched!')\n",
    "\n",
    "print(text_match(\"The quick brown fox jumps over the lazy dog.\"))\n",
    "print(text_match(\"The quick brown fox jumps over the lazy dog. \"))\n",
    "print(text_match(\"The quick brown fox jumps over the lazy dog \"))\n"
   ]
  },
  {
   "cell_type": "code",
   "execution_count": null,
   "metadata": {},
   "outputs": [],
   "source": [
    "# Write a Python program that matches a word containing 'z'.\n",
    "import re\n",
    "def text_match(text):\n",
    "        patterns = '\\w*z.\\w*'\n",
    "        if re.search(patterns,  text):\n",
    "                return 'Found a match!'\n",
    "        else:\n",
    "                return('Not matched!')\n",
    "\n",
    "print(text_match(\"The quick brown fox jumps over the lazy dog.\"))\n",
    "print(text_match(\"Python Exercises.\"))\n"
   ]
  },
  {
   "cell_type": "code",
   "execution_count": null,
   "metadata": {},
   "outputs": [],
   "source": [
    "# Write a Python program that matches a word containing 'z', not the start or end of the word.\n",
    "import re\n",
    "def text_match(text):\n",
    "        patterns = '\\Bz\\B'\n",
    "        if re.search(patterns,  text):\n",
    "                return 'Found a match!'\n",
    "        else:\n",
    "                return('Not matched!')\n",
    "\n",
    "print(text_match(\"The quick brown fox jumps over the lazy dog.\"))\n",
    "print(text_match(\"Python Exercises.\"))\n"
   ]
  },
  {
   "cell_type": "code",
   "execution_count": null,
   "metadata": {},
   "outputs": [],
   "source": [
    "# Write a Python program to match a string that contains only upper and lowercase letters, numbers, and underscores.\n",
    "import re\n",
    "def text_match(text):\n",
    "        patterns = '^[a-zA-Z0-9_]*$'\n",
    "        if re.search(patterns,  text):\n",
    "                return 'Found a match!'\n",
    "        else:\n",
    "                return('Not matched!')\n",
    "\n",
    "print(text_match(\"The quick brown fox jumps over the lazy dog.\"))\n",
    "print(text_match(\"Python_Exercises_1\"))\n"
   ]
  },
  {
   "cell_type": "code",
   "execution_count": null,
   "metadata": {},
   "outputs": [],
   "source": [
    "# Write a Python program that starts each string with a specific number.\n",
    "import re\n",
    "def match_num(string):\n",
    "    text = re.compile(r\"^5\")\n",
    "    if text.match(string):\n",
    "        return True\n",
    "    else:\n",
    "        return False\n",
    "print(match_num('5-2345861'))\n",
    "print(match_num('6-2345861'))\n"
   ]
  },
  {
   "cell_type": "code",
   "execution_count": null,
   "metadata": {},
   "outputs": [],
   "source": [
    "# Write a Python program to remove leading zeros from an IP address.\n",
    "import re\n",
    "ip = \"216.08.094.196\"\n",
    "string = re.sub('\\.[0]*', '.', ip)\n",
    "print(string)\n"
   ]
  },
  {
   "cell_type": "code",
   "execution_count": null,
   "metadata": {},
   "outputs": [],
   "source": [
    "# Write a Python program to check for a number at the end of a string\n",
    "import re\n",
    "def end_num(string):\n",
    "    text = re.compile(r\".*[0-9]$\")\n",
    "    if text.match(string):\n",
    "        return True\n",
    "    else:\n",
    "        return False\n",
    "\n",
    "print(end_num('abcdef'))\n",
    "print(end_num('abcdef6'))\n"
   ]
  },
  {
   "cell_type": "code",
   "execution_count": null,
   "metadata": {},
   "outputs": [],
   "source": [
    "# Write a Python program to search for numbers (0-9) of length between 1 and 3 in a given string.\n",
    "import re\n",
    "results = re.finditer(r\"([0-9]{1,3})\", \"Exercises number 1, 12, 13, and 345 are important\")\n",
    "print(\"Number of length 1 to 3\")\n",
    "for n in results:\n",
    "     print(n.group(0))\n",
    "\t "
   ]
  },
  {
   "cell_type": "code",
   "execution_count": null,
   "metadata": {},
   "outputs": [],
   "source": [
    "# Write a Python program to search for literal strings within a string.\n",
    "import re\n",
    "patterns = [ 'fox', 'dog', 'horse' ]\n",
    "text = 'The quick brown fox jumps over the lazy dog.'\n",
    "for pattern in patterns:\n",
    "    print('Searching for \"%s\" in \"%s\" ->' % (pattern, text),)\n",
    "    if re.search(pattern,  text):\n",
    "        print('Matched!')\n",
    "    else:\n",
    "        print('Not Matched!')\n",
    "\t\t"
   ]
  },
  {
   "cell_type": "code",
   "execution_count": null,
   "metadata": {},
   "outputs": [],
   "source": [
    "# Write a Python program to search for a literal string in a string and also find the location within the original string where the pattern occurs.\n",
    "import re\n",
    "pattern = 'fox'\n",
    "text = 'The quick brown fox jumps over the lazy dog.'\n",
    "match = re.search(pattern, text)\n",
    "s = match.start()\n",
    "e = match.end()\n",
    "print('Found \"%s\" in \"%s\" from %d to %d ' % \\\n",
    "    (match.re.pattern, match.string, s, e))\n",
    "\t"
   ]
  },
  {
   "cell_type": "code",
   "execution_count": null,
   "metadata": {},
   "outputs": [],
   "source": [
    "# Write a Python program to find the substrings within a string.\n",
    "# Sample text:\n",
    "# 'Python exercises, PHP exercises, C# exercises'\n",
    "# Pattern:\n",
    "# 'exercises'\n",
    "import re\n",
    "text = 'Python exercises, PHP exercises, C# exercises'\n",
    "pattern = 'exercises'\n",
    "for match in re.findall(pattern, text):\n",
    "    print('Found \"%s\"' % match)\n",
    "\t"
   ]
  },
  {
   "cell_type": "code",
   "execution_count": null,
   "metadata": {},
   "outputs": [],
   "source": [
    "# Write a Python program to find the occurrence and position of substrings within a string.\n",
    "import re\n",
    "text = 'Python exercises, PHP exercises, C# exercises'\n",
    "pattern = 'exercises'\n",
    "for match in re.finditer(pattern, text):\n",
    "    s = match.start()\n",
    "    e = match.end()\n",
    "    print('Found \"%s\" at %d:%d' % (text[s:e], s, e))\n",
    "\t"
   ]
  },
  {
   "cell_type": "code",
   "execution_count": null,
   "metadata": {},
   "outputs": [],
   "source": [
    "# Write a Python program to replace whitespaces with an underscore and vice versa.\n",
    "import re\n",
    "text = 'Python Exercises'\n",
    "text =text.replace (\" \", \"_\")\n",
    "print(text)\n",
    "text =text.replace (\"_\", \" \")\n",
    "print(text)\n"
   ]
  },
  {
   "cell_type": "code",
   "execution_count": null,
   "metadata": {},
   "outputs": [],
   "source": [
    "# Write a Python program to extract year, month and date from an URL.\n",
    "import re\n",
    "def extract_date(url):\n",
    "        return re.findall(r'/(\\d{4})/(\\d{1,2})/(\\d{1,2})/', url)\n",
    "url1= \"https://www.washingtonpost.com/news/football-insider/wp/2016/09/02/odell-beckhams-fame-rests-on-one-stupid-little-ball-josh-norman-tells-author/\"\n",
    "print(extract_date(url1))\n"
   ]
  },
  {
   "cell_type": "code",
   "execution_count": null,
   "metadata": {},
   "outputs": [],
   "source": [
    "# Write a Python program to convert a date of yyyy-mm-dd format to dd-mm-yyyy format.\n",
    "import re\n",
    "def change_date_format(dt):\n",
    "        return re.sub(r'(\\d{4})-(\\d{1,2})-(\\d{1,2})', '\\\\3-\\\\2-\\\\1', dt)\n",
    "dt1 = \"2026-01-02\"\n",
    "print(\"Original date in YYY-MM-DD Format: \",dt1)\n",
    "print(\"New date in DD-MM-YYYY Format: \",change_date_format(dt1))\n"
   ]
  },
  {
   "cell_type": "code",
   "execution_count": null,
   "metadata": {},
   "outputs": [],
   "source": [
    "# Write a Python program to match if two words from a list of words start with the letter 'P'.\n",
    "import re\n",
    "\n",
    "# Sample strings.\n",
    "words = [\"Python PHP\", \"Java JavaScript\", \"c c++\"]\n",
    "\n",
    "for w in words:\n",
    "        m = re.match(\"(P\\w+)\\W(P\\w+)\", w)\n",
    "        # Check for success\n",
    "        if m:\n",
    "            print(m.groups())\n",
    "\t\t\t"
   ]
  },
  {
   "cell_type": "code",
   "execution_count": null,
   "metadata": {},
   "outputs": [],
   "source": [
    "# Write a Python program to separate and print the numbers in a given string.\n",
    "import re\n",
    "# Sample string.\n",
    "text = \"Ten 10, Twenty 20, Thirty 30\"\n",
    "result = re.split(\"\\D+\", text)\n",
    "# Print results.\n",
    "for element in result:\n",
    "    print(element)\n",
    "\t"
   ]
  },
  {
   "cell_type": "code",
   "execution_count": null,
   "metadata": {},
   "outputs": [],
   "source": [
    "# Write a Python program to find all words starting with 'a' or 'e' in a given string.\n",
    "import re\n",
    "# Input.\n",
    "text = \"The following example creates an ArrayList with a capacity of 50 elements. Four elements are then added to the ArrayList and the ArrayList is trimmed accordingly.\"\n",
    "#find all the words starting with 'a' or 'e'\n",
    "list = re.findall(\"[ae]\\w+\", text)\n",
    "# Print result.\n",
    "print(list)\n"
   ]
  },
  {
   "cell_type": "code",
   "execution_count": null,
   "metadata": {},
   "outputs": [],
   "source": [
    "# Write a Python program to separate and print the numbers and their position in a given string.\n",
    "import re\n",
    "# Input.\n",
    "text = \"The following example creates an ArrayList with a capacity of 50 elements. Four elements are then added to the ArrayList and the ArrayList is trimmed accordingly.\"\n",
    "\n",
    "for m in re.finditer(\"\\d+\", text):\n",
    "    print(m.group(0))\n",
    "    print(\"Index position:\", m.start())\n",
    "\t"
   ]
  },
  {
   "cell_type": "code",
   "execution_count": null,
   "metadata": {},
   "outputs": [],
   "source": [
    "# Write a Python program to abbreviate 'Road' as 'Rd.' in a given string.\n",
    "import re\n",
    "street = '21 Ramkrishna Road'\n",
    "print(re.sub('Road$', 'Rd.', street))\n"
   ]
  },
  {
   "cell_type": "code",
   "execution_count": null,
   "metadata": {},
   "outputs": [],
   "source": [
    "# Write a Python program to replace all occurrences of a space, comma, or dot with a colon.\n",
    "import re\n",
    "text = 'Python Exercises, PHP exercises.'\n",
    "print(re.sub(\"[ ,.]\", \":\", text))\n"
   ]
  },
  {
   "cell_type": "code",
   "execution_count": null,
   "metadata": {},
   "outputs": [],
   "source": [
    "# Write a Python program to replace maximum 2 occurrences of space, comma, or dot with a colon.\n",
    "import re\n",
    "text = 'Python Exercises, PHP exercises.'\n",
    "print(re.sub(\"[ ,.]\", \":\", text, 2))\n"
   ]
  },
  {
   "cell_type": "code",
   "execution_count": null,
   "metadata": {},
   "outputs": [],
   "source": [
    "# Write a Python program to find all five-character words in a string.\n",
    "import re\n",
    "text = 'The quick brown fox jumps over the lazy dog.'\n",
    "print(re.findall(r\"\\b\\w{5}\\b\", text))\n"
   ]
  },
  {
   "cell_type": "code",
   "execution_count": null,
   "metadata": {},
   "outputs": [],
   "source": [
    "# Write a Python program to find all three, four, and five character words in a string.\n",
    "import re\n",
    "text = 'The quick brown fox jumps over the lazy dog.'\n",
    "print(re.findall(r\"\\b\\w{3,5}\\b\", text))\n"
   ]
  },
  {
   "cell_type": "code",
   "execution_count": null,
   "metadata": {},
   "outputs": [],
   "source": [
    "# Write a Python program to find all words that are at least 4 characters long in a string.\n",
    "import re\n",
    "text = 'The quick brown fox jumps over the lazy dog.'\n",
    "print(re.findall(r\"\\b\\w{4,}\\b\", text))\n"
   ]
  },
  {
   "cell_type": "code",
   "execution_count": null,
   "metadata": {},
   "outputs": [],
   "source": [
    "# Write a Python program to convert a camel-case string to a snake-case string.\n",
    "def camel_to_snake(text):\n",
    "        import re\n",
    "        str1 = re.sub('(.)([A-Z][a-z]+)', r'\\1_\\2', text)\n",
    "        return re.sub('([a-z0-9])([A-Z])', r'\\1_\\2', str1).lower()\n",
    "\n",
    "print(camel_to_snake('PythonExercises'))\n"
   ]
  },
  {
   "cell_type": "code",
   "execution_count": null,
   "metadata": {},
   "outputs": [],
   "source": [
    "# Write a Python program to remove multiple spaces from a string\n",
    "import re\n",
    "text1 = '\"Python\", \"PHP\", \"Java\"'\n",
    "print(re.findall(r'\"(.*?)\"', text1))\n"
   ]
  },
  {
   "cell_type": "code",
   "execution_count": null,
   "metadata": {},
   "outputs": [],
   "source": [
    "# Write a Python program to remove multiple spaces from a string.\n",
    "import re\n",
    "text1 = 'Python      Exercises'\n",
    "print(\"Original string:\",text1)\n",
    "print(\"Without extra spaces:\",re.sub(' +',' ',text1))\n"
   ]
  },
  {
   "cell_type": "code",
   "execution_count": null,
   "metadata": {},
   "outputs": [],
   "source": [
    "# Write a Python program to remove everything except alphanumeric characters from a string.\n",
    "import re\n",
    "text1 = '**//Python Exercises// - 12. '\n",
    "pattern = re.compile('[\\W_]+')\n",
    "print(pattern.sub('', text1))\n"
   ]
  },
  {
   "cell_type": "code",
   "execution_count": null,
   "metadata": {},
   "outputs": [],
   "source": [
    "# Write a Python program to find URLs in a string.\n",
    "import re\n",
    "text = '<p>Contents :</p><a href=\"https://w3resource.com\">Python Examples</a><a href=\"http://github.com\">Even More Examples</a>'\n",
    "urls = re.findall('http[s]?://(?:[a-zA-Z]|[0-9]|[$-_@.&+]|[!*\\(\\),]|(?:%[0-9a-fA-F][0-9a-fA-F]))+', text)\n",
    "print(\"Original string: \",text)\n",
    "print(\"Urls: \",urls)\n"
   ]
  },
  {
   "cell_type": "code",
   "execution_count": null,
   "metadata": {},
   "outputs": [],
   "source": [
    "# Write a Python program to split a string into uppercase letters.\n",
    "import re\n",
    "text = \"PythonTutorialAndExercises\"\n",
    "print(re.findall('[A-Z][^A-Z]*', text))\n"
   ]
  },
  {
   "cell_type": "code",
   "execution_count": null,
   "metadata": {},
   "outputs": [],
   "source": [
    "# Write a Python program to do case-insensitive string replacement.\n",
    "import re\n",
    "text = \"PHP Exercises\"\n",
    "print(\"Original Text: \",text)\n",
    "redata = re.compile(re.escape('php'), re.IGNORECASE)\n",
    "new_text = redata.sub('php', 'PHP Exercises')\n",
    "print(\"Using 'php' replace PHP\") \n",
    "print(\"New Text: \",new_text)\n"
   ]
  },
  {
   "cell_type": "code",
   "execution_count": null,
   "metadata": {},
   "outputs": [],
   "source": [
    "# Write a Python program to remove ANSI escape sequences from a string.\n",
    "import re\n",
    "text = \"\\t\\u001b[0;35mgoogle.com\\u001b[0m \\u001b[0;36m216.58.218.206\\u001b[0m\"\n",
    "print(\"Original Text: \",text)\n",
    "reaesc = re.compile(r'\\x1b[^m]*m')\n",
    "new_text = reaesc.sub('', text)\n",
    "print(\"New Text: \",new_text)\n"
   ]
  },
  {
   "cell_type": "code",
   "execution_count": null,
   "metadata": {},
   "outputs": [],
   "source": [
    "# Write a Python program to find all adverbs and their positions in a given sentence.\n",
    "import re\n",
    "text = \"Clearly, he has no excuse for such behavior.\"\n",
    "for m in re.finditer(r\"\\w+ly\", text):\n",
    "    print('%d-%d: %s' % (m.start(), m.end(), m.group(0)))\n",
    "\t"
   ]
  },
  {
   "cell_type": "code",
   "execution_count": null,
   "metadata": {},
   "outputs": [],
   "source": [
    "# Write a Python program to split a string with multiple delimiters.\n",
    "import re\n",
    "text = 'The quick brown\\nfox jumps*over the lazy dog.'\n",
    "print(re.split('; |, |\\*|\\n',text))"
   ]
  },
  {
   "cell_type": "code",
   "execution_count": null,
   "metadata": {},
   "outputs": [],
   "source": [
    "# Write a Python program to check a decimal with a precision of 2.\n",
    "def is_decimal(num):\n",
    "    import re\n",
    "    dnumre = re.compile(r\"\"\"^[0-9]+(\\.[0-9]{1,2})?$\"\"\")\n",
    "    result = dnumre.search(num)\n",
    "    return bool(result)\n",
    "\n",
    "print(is_decimal('123.11'))\n",
    "print(is_decimal('123.1'))\n",
    "print(is_decimal('123'))\n",
    "print(is_decimal('0.21'))\n",
    "\n",
    "print(is_decimal('123.1214'))\n",
    "print(is_decimal('3.124587'))\n",
    "print(is_decimal('e666.86'))\n"
   ]
  },
  {
   "cell_type": "code",
   "execution_count": null,
   "metadata": {},
   "outputs": [],
   "source": [
    "# Write a Python program to remove words from a string of length between 1 and a given number \n",
    "import re\n",
    "text = \"The quick brown fox jumps over the lazy dog.\"\n",
    "# remove words between 1 and 3\n",
    "shortword = re.compile(r'\\W*\\b\\w{1,3}\\b')\n",
    "print(shortword.sub('', text))\n"
   ]
  },
  {
   "cell_type": "code",
   "execution_count": null,
   "metadata": {},
   "outputs": [],
   "source": [
    "# Write a Python program to remove the parenthesis area in a string.\n",
    "import re\n",
    "items = [\"example (.com)\", \"w3resource\", \"github (.com)\", \"stackoverflow (.com)\"]\n",
    "for item in items:\n",
    "    print(re.sub(r\" ?\\([^)]+\\)\", \"\", item))\n",
    "\t"
   ]
  },
  {
   "cell_type": "code",
   "execution_count": null,
   "metadata": {},
   "outputs": [],
   "source": [
    "# Write a Python program to insert spaces between words starting with capital letters.\n",
    "import re\n",
    "def capital_words_spaces(str1):\n",
    "  return re.sub(r\"(\\w)([A-Z])\", r\"\\1 \\2\", str1)\n",
    "\n",
    "print(capital_words_spaces(\"Python\"))\n",
    "print(capital_words_spaces(\"PythonExercises\"))\n",
    "print(capital_words_spaces(\"PythonExercisesPracticeSolution\"))\n"
   ]
  },
  {
   "cell_type": "code",
   "execution_count": 158,
   "metadata": {},
   "outputs": [
    {
     "name": "stdout",
     "output_type": "stream",
     "text": [
      "Input number of data sets:\n",
      "Input an expression:\n",
      "1\n"
     ]
    }
   ],
   "source": [
    "# Write a Python program that reads a given expression and evaluates it.\n",
    "\n",
    "# Terms and conditions:\n",
    "# The expression consists of numerical values, operators and parentheses, and the ends with '='.\n",
    "# The operators includes +, -, *, / where, represents, addition, subtraction, multiplication and division.\n",
    "# When two operators have the same precedence, they are applied to left to right.\n",
    "# You may assume that there is no division by zero.\n",
    "# All calculation is performed as integers, and after the decimal point should be truncated Length of the expression will not exceed 100.\n",
    "# -1 × 10^9 ≤ intermediate results of computation ≤ 10^9\n",
    "import re\n",
    "print(\"Input number of data sets:\")\n",
    "class c(int):\n",
    "    def __add__(self,n):\n",
    "        return c(int(self)+int(n))\n",
    "    def __sub__(self,n):\n",
    "        return c(int(self)-int(n))\n",
    "    def __mul__(self,n):\n",
    "        return c(int(self)*int(n))\n",
    "    def __truediv__(self,n):\n",
    "        return c(int(int(self)/int(n)))\n",
    "   \n",
    "for _ in range(int(input())):\n",
    "    print(\"Input an expression:\")\n",
    "    expression = input().strip()\n",
    "    modified_expression = re.sub(r'(\\d+)', r'c(\\1)', expression)\n",
    "    result = eval(modified_expression)\n",
    "    print(result)\n"
   ]
  },
  {
   "cell_type": "code",
   "execution_count": 159,
   "metadata": {},
   "outputs": [
    {
     "name": "stdout",
     "output_type": "stream",
     "text": [
      "Original string:\n",
      "KDeoALOklOOHserfLoAJSIskdsf\n",
      "After removing lowercase letters, above string becomes:\n",
      "KDALOOOHLAJSI\n"
     ]
    }
   ],
   "source": [
    "# Write a Python program to remove lowercase substrings from a given string\n",
    "import re\n",
    "str1 = 'KDeoALOklOOHserfLoAJSIskdsf'\n",
    "print(\"Original string:\")\n",
    "print(str1)\n",
    "print(\"After removing lowercase letters, above string becomes:\")\n",
    "remove_lower = lambda text: re.sub('[a-z]', '', text)\n",
    "result =  remove_lower(str1)\n",
    "print(result)\n"
   ]
  },
  {
   "cell_type": "code",
   "execution_count": 160,
   "metadata": {},
   "outputs": [
    {
     "name": "stdout",
     "output_type": "stream",
     "text": [
      "Original string:\n",
      "Enter at 1 20 Kearny Street. The security desk can direct you to floor 1 6. Please have your identification ready.\n",
      "\n",
      "After concatenating the consecutive numbers in the said string:\n",
      "Enter at 120 Kearny Street. The security desk can direct you to floor 16. Please have your identification ready.\n"
     ]
    }
   ],
   "source": [
    "# Write a Python program to concatenate the consecutive numbers in a given string.\n",
    "import re\n",
    "txt = \"Enter at 1 20 Kearny Street. The security desk can direct you to floor 1 6. Please have your identification ready.\"\n",
    "print(\"Original string:\")\n",
    "print(txt)\n",
    "new_txt = re.sub(r\"(?<=\\d)\\s(?=\\d)\", '', txt)\n",
    "print('\\nAfter concatenating the consecutive numbers in the said string:')\n",
    "print(new_txt)\n"
   ]
  },
  {
   "cell_type": "code",
   "execution_count": 162,
   "metadata": {},
   "outputs": [
    {
     "name": "stdout",
     "output_type": "stream",
     "text": [
      "java-script\n",
      "gd-script\n",
      "btw...-what-*-do*-you-call-that-naming-style?-snake-case?\n"
     ]
    }
   ],
   "source": [
    "# Write a Python program to convert a given string to snake case.\n",
    "from re import sub\n",
    "def snake_case(s):\n",
    "  return '-'.join(\n",
    "    sub(r\"(\\s|_|-)+\",\" \",\n",
    "    sub(r\"[A-Z]{2,}(?=[A-Z][a-z]+[0-9]*|\\b)|[A-Z]?[a-z]+[0-9]*|[A-Z]|[0-9]+\",\n",
    "    lambda mo: ' ' + mo.group(0).lower(), s)).split())\n",
    " \n",
    "print(snake_case('JavaScript'))\n",
    "print(snake_case('GDScript'))\n",
    "print(snake_case('BTW...what *do* you call that naming style? snake_case? '))\n"
   ]
  },
  {
   "cell_type": "code",
   "execution_count": 163,
   "metadata": {},
   "outputs": [
    {
     "name": "stdout",
     "output_type": "stream",
     "text": [
      "Orange\n",
      "[1, 2, 3, 4, 5]\n",
      "Java\n",
      "Python\n"
     ]
    }
   ],
   "source": [
    "# Write a Python program that takes any number of iterable objects or objects with a length property and returns the longest one.\n",
    "def longest_item(*args):\n",
    "  return max(args, key = len)\n",
    " \n",
    "print(longest_item('Red', 'Green', 'Black', 'Orange'))\n",
    "print(longest_item([1, 2, 3], [1, 2, 3, 4], [1, 2, 3, 4, 5]))\n",
    "print(longest_item([1, 2, 3], 'Java'))\n",
    "print(longest_item({10, 100}, 'Python'))\n"
   ]
  },
  {
   "cell_type": "code",
   "execution_count": 164,
   "metadata": {},
   "outputs": [
    {
     "name": "stdout",
     "output_type": "stream",
     "text": [
      "Original string: Red Orange White\n",
      "Check beginning and end of a word in the said string with a vowel:\n",
      "True\n",
      "\n",
      "Original string: Red White Black\n",
      "Check beginning and end of a word in the said string with a vowel:\n",
      "False\n",
      "\n",
      "Original string: abcd dkise eosksu\n",
      "Check beginning and end of a word in the said string with a vowel:\n",
      "True\n"
     ]
    }
   ],
   "source": [
    "# Write a Python program that checks whether a word starts and ends with a vowel in a given string. Return true if a word matches the condition; otherwise, return false.\n",
    "import re\n",
    "def test(text):\n",
    "\treturn bool(re.findall('[/^[aeiou]$|^([aeiou]).*\\1$/', text))\n",
    "\n",
    "text =\"Red Orange White\"\n",
    "print(\"Original string:\", text)\n",
    "print(\"Check beginning and end of a word in the said string with a vowel:\")\n",
    "print(test(text))\n",
    "text =\"Red White Black\"\n",
    "print(\"\\nOriginal string:\", text)\n",
    "print(\"Check beginning and end of a word in the said string with a vowel:\")\n",
    "print(test(text))\n",
    "text =\"abcd dkise eosksu\"\n",
    "print(\"\\nOriginal string:\", text)\n",
    "print(\"Check beginning and end of a word in the said string with a vowel:\")\n",
    "print(test(text))\n"
   ]
  },
  {
   "cell_type": "code",
   "execution_count": 165,
   "metadata": {},
   "outputs": [
    {
     "name": "stdout",
     "output_type": "stream",
     "text": [
      "Original string: These exercises can be used for practice.\n",
      "Two following words begin and end with a vowel in the said string:\n",
      "True\n",
      "\n",
      "Original string: Following exercises should be removed for practice.\n",
      "Two following words begin and end with a vowel in the said string:\n",
      "False\n",
      "\n",
      "Original string: I use these stories in my  classroom.\n",
      "Two following words begin and end with a vowel in the said string:\n",
      "True\n"
     ]
    }
   ],
   "source": [
    "# Write a Python program that takes a string with some words. For two consecutive words in the said string, check whether the first word ends with a vowel and the next word begins with a vowel. If the program meets the condition, return true, otherwise false. Only one space is allowed between the words.\n",
    "import re\n",
    "def test(text):\n",
    "\treturn bool(re.findall('[AEIOUaeiou] [AEIOUaeiou]', text))\n",
    "\n",
    "text =\"These exercises can be used for practice.\"\n",
    "print(\"Original string:\", text)\n",
    "print(\"Two following words begin and end with a vowel in the said string:\")\n",
    "print(test(text))\n",
    "text =\"Following exercises should be removed for practice.\"\n",
    "print(\"\\nOriginal string:\", text)\n",
    "print(\"Two following words begin and end with a vowel in the said string:\")\n",
    "print(test(text))\n",
    "text =\"I use these stories in my  classroom.\"\n",
    "print(\"\\nOriginal string:\", text)\n",
    "print(\"Two following words begin and end with a vowel in the said string:\")\n",
    "print(test(text))\n"
   ]
  }
 ],
 "metadata": {
  "interpreter": {
   "hash": "b89b5cfaba6639976dc87ff2fec6d58faec662063367e2c229c520fe71072417"
  },
  "kernelspec": {
   "display_name": "Python 3.10.0 64-bit",
   "name": "python3"
  },
  "language_info": {
   "codemirror_mode": {
    "name": "ipython",
    "version": 3
   },
   "file_extension": ".py",
   "mimetype": "text/x-python",
   "name": "python",
   "nbconvert_exporter": "python",
   "pygments_lexer": "ipython3",
   "version": "3.10.0"
  },
  "orig_nbformat": 4
 },
 "nbformat": 4,
 "nbformat_minor": 2
}
